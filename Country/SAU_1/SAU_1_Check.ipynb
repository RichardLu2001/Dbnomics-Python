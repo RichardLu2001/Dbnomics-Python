{
 "cells": [
  {
   "cell_type": "markdown",
   "id": "6c8ace8a",
   "metadata": {},
   "source": [
    "<font size=5, font color='blue'> stata_df is the dataframe downloaded through Stata API"
   ]
  },
  {
   "cell_type": "code",
   "execution_count": 30,
   "id": "47406cda",
   "metadata": {
    "scrolled": false
   },
   "outputs": [
    {
     "data": {
      "text/html": [
       "<div>\n",
       "<style scoped>\n",
       "    .dataframe tbody tr th:only-of-type {\n",
       "        vertical-align: middle;\n",
       "    }\n",
       "\n",
       "    .dataframe tbody tr th {\n",
       "        vertical-align: top;\n",
       "    }\n",
       "\n",
       "    .dataframe thead th {\n",
       "        text-align: right;\n",
       "    }\n",
       "</style>\n",
       "<table border=\"1\" class=\"dataframe\">\n",
       "  <thead>\n",
       "    <tr style=\"text-align: right;\">\n",
       "      <th></th>\n",
       "      <th>period</th>\n",
       "      <th>period_start_day</th>\n",
       "      <th>value</th>\n",
       "      <th>obs_status</th>\n",
       "      <th>frequency</th>\n",
       "      <th>dataset_code</th>\n",
       "      <th>dataset_name</th>\n",
       "      <th>indexed_at</th>\n",
       "      <th>provider_code</th>\n",
       "      <th>series_code</th>\n",
       "      <th>series_name</th>\n",
       "      <th>series_num</th>\n",
       "      <th>freq</th>\n",
       "      <th>section</th>\n",
       "    </tr>\n",
       "  </thead>\n",
       "  <tbody>\n",
       "    <tr>\n",
       "      <th>0</th>\n",
       "      <td>2000</td>\n",
       "      <td>2000-01-01</td>\n",
       "      <td>NA</td>\n",
       "      <td></td>\n",
       "      <td>annual</td>\n",
       "      <td>EGDP2</td>\n",
       "      <td>Expenditure on Gross Domestic Product (at purc...</td>\n",
       "      <td>2022-04-04T17:33:39.545Z</td>\n",
       "      <td>SAMA</td>\n",
       "      <td>change-in-stock</td>\n",
       "      <td>Change in Stock</td>\n",
       "      <td>Master</td>\n",
       "      <td></td>\n",
       "      <td></td>\n",
       "    </tr>\n",
       "    <tr>\n",
       "      <th>1</th>\n",
       "      <td>2001</td>\n",
       "      <td>2001-01-01</td>\n",
       "      <td>NA</td>\n",
       "      <td></td>\n",
       "      <td>annual</td>\n",
       "      <td>EGDP2</td>\n",
       "      <td>Expenditure on Gross Domestic Product (at purc...</td>\n",
       "      <td>2022-04-04T17:33:39.545Z</td>\n",
       "      <td>SAMA</td>\n",
       "      <td>change-in-stock</td>\n",
       "      <td>Change in Stock</td>\n",
       "      <td>Master</td>\n",
       "      <td></td>\n",
       "      <td></td>\n",
       "    </tr>\n",
       "    <tr>\n",
       "      <th>2</th>\n",
       "      <td>2002</td>\n",
       "      <td>2002-01-01</td>\n",
       "      <td>NA</td>\n",
       "      <td></td>\n",
       "      <td>annual</td>\n",
       "      <td>EGDP2</td>\n",
       "      <td>Expenditure on Gross Domestic Product (at purc...</td>\n",
       "      <td>2022-04-04T17:33:39.545Z</td>\n",
       "      <td>SAMA</td>\n",
       "      <td>change-in-stock</td>\n",
       "      <td>Change in Stock</td>\n",
       "      <td>Master</td>\n",
       "      <td></td>\n",
       "      <td></td>\n",
       "    </tr>\n",
       "    <tr>\n",
       "      <th>3</th>\n",
       "      <td>2003</td>\n",
       "      <td>2003-01-01</td>\n",
       "      <td>32762.982242331243</td>\n",
       "      <td></td>\n",
       "      <td>annual</td>\n",
       "      <td>EGDP2</td>\n",
       "      <td>Expenditure on Gross Domestic Product (at purc...</td>\n",
       "      <td>2022-04-04T17:33:39.545Z</td>\n",
       "      <td>SAMA</td>\n",
       "      <td>change-in-stock</td>\n",
       "      <td>Change in Stock</td>\n",
       "      <td>Master</td>\n",
       "      <td></td>\n",
       "      <td></td>\n",
       "    </tr>\n",
       "    <tr>\n",
       "      <th>4</th>\n",
       "      <td>2004</td>\n",
       "      <td>2004-01-01</td>\n",
       "      <td>18337.578758768595</td>\n",
       "      <td></td>\n",
       "      <td>annual</td>\n",
       "      <td>EGDP2</td>\n",
       "      <td>Expenditure on Gross Domestic Product (at purc...</td>\n",
       "      <td>2022-04-04T17:33:39.545Z</td>\n",
       "      <td>SAMA</td>\n",
       "      <td>change-in-stock</td>\n",
       "      <td>Change in Stock</td>\n",
       "      <td>Master</td>\n",
       "      <td></td>\n",
       "      <td></td>\n",
       "    </tr>\n",
       "  </tbody>\n",
       "</table>\n",
       "</div>"
      ],
      "text/plain": [
       "   period period_start_day               value obs_status frequency  \\\n",
       "0    2000       2000-01-01                  NA               annual   \n",
       "1    2001       2001-01-01                  NA               annual   \n",
       "2    2002       2002-01-01                  NA               annual   \n",
       "3    2003       2003-01-01  32762.982242331243               annual   \n",
       "4    2004       2004-01-01  18337.578758768595               annual   \n",
       "\n",
       "  dataset_code                                       dataset_name  \\\n",
       "0        EGDP2  Expenditure on Gross Domestic Product (at purc...   \n",
       "1        EGDP2  Expenditure on Gross Domestic Product (at purc...   \n",
       "2        EGDP2  Expenditure on Gross Domestic Product (at purc...   \n",
       "3        EGDP2  Expenditure on Gross Domestic Product (at purc...   \n",
       "4        EGDP2  Expenditure on Gross Domestic Product (at purc...   \n",
       "\n",
       "                 indexed_at provider_code      series_code      series_name  \\\n",
       "0  2022-04-04T17:33:39.545Z          SAMA  change-in-stock  Change in Stock   \n",
       "1  2022-04-04T17:33:39.545Z          SAMA  change-in-stock  Change in Stock   \n",
       "2  2022-04-04T17:33:39.545Z          SAMA  change-in-stock  Change in Stock   \n",
       "3  2022-04-04T17:33:39.545Z          SAMA  change-in-stock  Change in Stock   \n",
       "4  2022-04-04T17:33:39.545Z          SAMA  change-in-stock  Change in Stock   \n",
       "\n",
       "  series_num freq section  \n",
       "0     Master               \n",
       "1     Master               \n",
       "2     Master               \n",
       "3     Master               \n",
       "4     Master               "
      ]
     },
     "execution_count": 30,
     "metadata": {},
     "output_type": "execute_result"
    }
   ],
   "source": [
    "import pandas as pd\n",
    "pd.options.mode.chained_assignment = None\n",
    "\n",
    "stata_df = pd.read_stata(\"SAU_1.dta\")\n",
    "stata_df.head()"
   ]
  },
  {
   "cell_type": "code",
   "execution_count": 33,
   "id": "aede7295",
   "metadata": {},
   "outputs": [
    {
     "data": {
      "text/plain": [
       "1905"
      ]
     },
     "execution_count": 33,
     "metadata": {},
     "output_type": "execute_result"
    }
   ],
   "source": [
    "stata_df[(stata_df['value']=='NA')|(stata_df['value']=='')].shape[0]"
   ]
  },
  {
   "cell_type": "markdown",
   "id": "12314c37",
   "metadata": {},
   "source": [
    "<font size=5, font color='blue'> python_df is the dataframe downloaded through Python API. "
   ]
  },
  {
   "cell_type": "code",
   "execution_count": 34,
   "id": "20b37bca",
   "metadata": {},
   "outputs": [
    {
     "data": {
      "text/html": [
       "<div>\n",
       "<style scoped>\n",
       "    .dataframe tbody tr th:only-of-type {\n",
       "        vertical-align: middle;\n",
       "    }\n",
       "\n",
       "    .dataframe tbody tr th {\n",
       "        vertical-align: top;\n",
       "    }\n",
       "\n",
       "    .dataframe thead th {\n",
       "        text-align: right;\n",
       "    }\n",
       "</style>\n",
       "<table border=\"1\" class=\"dataframe\">\n",
       "  <thead>\n",
       "    <tr style=\"text-align: right;\">\n",
       "      <th></th>\n",
       "      <th>@frequency</th>\n",
       "      <th>provider_code</th>\n",
       "      <th>dataset_code</th>\n",
       "      <th>dataset_name</th>\n",
       "      <th>series_code</th>\n",
       "      <th>series_name</th>\n",
       "      <th>original_period</th>\n",
       "      <th>period</th>\n",
       "      <th>original_value</th>\n",
       "      <th>value</th>\n",
       "      <th>freq</th>\n",
       "      <th>Frequency</th>\n",
       "      <th>section</th>\n",
       "      <th>Section</th>\n",
       "    </tr>\n",
       "  </thead>\n",
       "  <tbody>\n",
       "    <tr>\n",
       "      <th>0</th>\n",
       "      <td>annual</td>\n",
       "      <td>SAMA</td>\n",
       "      <td>BPR</td>\n",
       "      <td>Balance of payments (millions riyals)</td>\n",
       "      <td>1.A</td>\n",
       "      <td>Current account - Annual</td>\n",
       "      <td>2007</td>\n",
       "      <td>2007-01-01</td>\n",
       "      <td>349985.449634</td>\n",
       "      <td>349985.449634</td>\n",
       "      <td>A</td>\n",
       "      <td>Annual</td>\n",
       "      <td>NaN</td>\n",
       "      <td>NaN</td>\n",
       "    </tr>\n",
       "    <tr>\n",
       "      <th>1</th>\n",
       "      <td>annual</td>\n",
       "      <td>SAMA</td>\n",
       "      <td>BPR</td>\n",
       "      <td>Balance of payments (millions riyals)</td>\n",
       "      <td>1.A</td>\n",
       "      <td>Current account - Annual</td>\n",
       "      <td>2008</td>\n",
       "      <td>2008-01-01</td>\n",
       "      <td>496208.294794</td>\n",
       "      <td>496208.294794</td>\n",
       "      <td>A</td>\n",
       "      <td>Annual</td>\n",
       "      <td>NaN</td>\n",
       "      <td>NaN</td>\n",
       "    </tr>\n",
       "    <tr>\n",
       "      <th>2</th>\n",
       "      <td>annual</td>\n",
       "      <td>SAMA</td>\n",
       "      <td>BPR</td>\n",
       "      <td>Balance of payments (millions riyals)</td>\n",
       "      <td>1.A</td>\n",
       "      <td>Current account - Annual</td>\n",
       "      <td>2009</td>\n",
       "      <td>2009-01-01</td>\n",
       "      <td>78579.791</td>\n",
       "      <td>78579.791000</td>\n",
       "      <td>A</td>\n",
       "      <td>Annual</td>\n",
       "      <td>NaN</td>\n",
       "      <td>NaN</td>\n",
       "    </tr>\n",
       "    <tr>\n",
       "      <th>3</th>\n",
       "      <td>annual</td>\n",
       "      <td>SAMA</td>\n",
       "      <td>BPR</td>\n",
       "      <td>Balance of payments (millions riyals)</td>\n",
       "      <td>1.A</td>\n",
       "      <td>Current account - Annual</td>\n",
       "      <td>2010</td>\n",
       "      <td>2010-01-01</td>\n",
       "      <td>250316.219906</td>\n",
       "      <td>250316.219906</td>\n",
       "      <td>A</td>\n",
       "      <td>Annual</td>\n",
       "      <td>NaN</td>\n",
       "      <td>NaN</td>\n",
       "    </tr>\n",
       "    <tr>\n",
       "      <th>4</th>\n",
       "      <td>annual</td>\n",
       "      <td>SAMA</td>\n",
       "      <td>BPR</td>\n",
       "      <td>Balance of payments (millions riyals)</td>\n",
       "      <td>1.A</td>\n",
       "      <td>Current account - Annual</td>\n",
       "      <td>2011</td>\n",
       "      <td>2011-01-01</td>\n",
       "      <td>594544.564</td>\n",
       "      <td>594544.564000</td>\n",
       "      <td>A</td>\n",
       "      <td>Annual</td>\n",
       "      <td>NaN</td>\n",
       "      <td>NaN</td>\n",
       "    </tr>\n",
       "  </tbody>\n",
       "</table>\n",
       "</div>"
      ],
      "text/plain": [
       "  @frequency provider_code dataset_code  \\\n",
       "0     annual          SAMA          BPR   \n",
       "1     annual          SAMA          BPR   \n",
       "2     annual          SAMA          BPR   \n",
       "3     annual          SAMA          BPR   \n",
       "4     annual          SAMA          BPR   \n",
       "\n",
       "                            dataset_name series_code  \\\n",
       "0  Balance of payments (millions riyals)         1.A   \n",
       "1  Balance of payments (millions riyals)         1.A   \n",
       "2  Balance of payments (millions riyals)         1.A   \n",
       "3  Balance of payments (millions riyals)         1.A   \n",
       "4  Balance of payments (millions riyals)         1.A   \n",
       "\n",
       "                series_name original_period     period original_value  \\\n",
       "0  Current account - Annual            2007 2007-01-01  349985.449634   \n",
       "1  Current account - Annual            2008 2008-01-01  496208.294794   \n",
       "2  Current account - Annual            2009 2009-01-01      78579.791   \n",
       "3  Current account - Annual            2010 2010-01-01  250316.219906   \n",
       "4  Current account - Annual            2011 2011-01-01     594544.564   \n",
       "\n",
       "           value freq Frequency section Section  \n",
       "0  349985.449634    A    Annual     NaN     NaN  \n",
       "1  496208.294794    A    Annual     NaN     NaN  \n",
       "2   78579.791000    A    Annual     NaN     NaN  \n",
       "3  250316.219906    A    Annual     NaN     NaN  \n",
       "4  594544.564000    A    Annual     NaN     NaN  "
      ]
     },
     "execution_count": 34,
     "metadata": {},
     "output_type": "execute_result"
    }
   ],
   "source": [
    "python_df = pd.read_pickle(\"SAU_1.pickle\")\n",
    "python_df.head()"
   ]
  },
  {
   "cell_type": "code",
   "execution_count": 35,
   "id": "60b0c3ab",
   "metadata": {},
   "outputs": [
    {
     "data": {
      "text/plain": [
       "0"
      ]
     },
     "execution_count": 35,
     "metadata": {},
     "output_type": "execute_result"
    }
   ],
   "source": [
    "python_df[(python_df['value']=='NA')|(python_df['value']=='')].shape[0]"
   ]
  },
  {
   "cell_type": "markdown",
   "id": "891b9982",
   "metadata": {},
   "source": [
    "<font size=5, font color='blue'> Check whether the two dataframes have the same number of rows, which means equal number of data points / observations. Column numbers of the two dataframes may differ due to the difference between Stata and Python APIs, and so do the order, datatypes and names of columns and the order of rows, which is why we don't require a complete match between python_df and stata_df."
   ]
  },
  {
   "cell_type": "code",
   "execution_count": 36,
   "id": "922205b2",
   "metadata": {},
   "outputs": [
    {
     "data": {
      "text/plain": [
       "True"
      ]
     },
     "execution_count": 36,
     "metadata": {},
     "output_type": "execute_result"
    }
   ],
   "source": [
    "stata_df.shape[0]==python_df.shape[0]"
   ]
  },
  {
   "cell_type": "markdown",
   "id": "2c756d80",
   "metadata": {},
   "source": [
    "<font size=5, font color='blue'> ['period_start_day'] in stata_df is the most accurate timestamp assigned to each observation (row). In python_df its equivalent is ['period'], so we rename it to match the column name in stata_df. We match the datatype of the two columns by converting both of them to pandas datetime objects. We also convert the datatype of ['value'] in stata_df to numeric."
   ]
  },
  {
   "cell_type": "code",
   "execution_count": 37,
   "id": "869e25b8",
   "metadata": {},
   "outputs": [],
   "source": [
    "python_df.rename(columns={'period':'period_start_day'},inplace=True)\n",
    "stata_df['period_start_day'] = pd.to_datetime(stata_df['period_start_day'])\n",
    "python_df['period_start_day'] = pd.to_datetime(python_df['period_start_day'])\n",
    "stata_df['value'] = pd.to_numeric(stata_df['value'],'coerce').astype('float64')\n",
    "python_df['value'] = python_df['value'].astype('float64')"
   ]
  },
  {
   "cell_type": "markdown",
   "id": "3c8ac514",
   "metadata": {},
   "source": [
    "<font size=5, font color='blue'> Check whether ['period_start_day', 'series_code'] can identify a unique row in both stata_df and python_df, if not then there is a duplication or error in Dbnomics."
   ]
  },
  {
   "cell_type": "code",
   "execution_count": 38,
   "id": "95929551",
   "metadata": {},
   "outputs": [
    {
     "data": {
      "text/plain": [
       "False"
      ]
     },
     "execution_count": 38,
     "metadata": {},
     "output_type": "execute_result"
    }
   ],
   "source": [
    "cols = ['period_start_day', 'series_code']\n",
    "sum(stata_df.duplicated(subset=cols))+sum(python_df.duplicated(subset=cols)) == 0"
   ]
  },
  {
   "cell_type": "markdown",
   "id": "821813b6",
   "metadata": {},
   "source": [
    "<font size=5, font color='blue'> The provider reused series codes in several datasets, so we now need ['period_start_day','series_code,'dataset_code'] to identify a unique row."
   ]
  },
  {
   "cell_type": "code",
   "execution_count": 39,
   "id": "dcaff483",
   "metadata": {},
   "outputs": [
    {
     "data": {
      "text/plain": [
       "168"
      ]
     },
     "execution_count": 39,
     "metadata": {},
     "output_type": "execute_result"
    }
   ],
   "source": [
    "sum(stata_df.duplicated(subset=cols))"
   ]
  },
  {
   "cell_type": "code",
   "execution_count": 40,
   "id": "17640cb3",
   "metadata": {},
   "outputs": [
    {
     "data": {
      "text/plain": [
       "168"
      ]
     },
     "execution_count": 40,
     "metadata": {},
     "output_type": "execute_result"
    }
   ],
   "source": [
    "sum(python_df.duplicated(subset=cols))"
   ]
  },
  {
   "cell_type": "code",
   "execution_count": 41,
   "id": "a09ec246",
   "metadata": {},
   "outputs": [
    {
     "data": {
      "text/plain": [
       "True"
      ]
     },
     "execution_count": 41,
     "metadata": {},
     "output_type": "execute_result"
    }
   ],
   "source": [
    "sum(stata_df.duplicated(subset=cols+['dataset_code']))+sum(python_df.duplicated(subset=cols+['dataset_code']))==0"
   ]
  },
  {
   "cell_type": "markdown",
   "id": "2c3b0bad",
   "metadata": {},
   "source": [
    "<font size=5, font color='blue'> Then we sort the two dataframes by ['period_start_day', 'series_code','dataset_code']. This ensures observations in the two dataframes are in the same order. Finally we check whether the two sub-frames [['period_start_day','series_code','dataset_code','value']] sliced from stata_df and python_df are exactly the same."
   ]
  },
  {
   "cell_type": "code",
   "execution_count": 42,
   "id": "be99fb77",
   "metadata": {},
   "outputs": [
    {
     "data": {
      "text/plain": [
       "False"
      ]
     },
     "execution_count": 42,
     "metadata": {},
     "output_type": "execute_result"
    }
   ],
   "source": [
    "stata_sub = stata_df.sort_values(by=cols+['dataset_code'])[cols+['dataset_code','value']].reset_index(drop=True)\n",
    "python_sub = python_df.sort_values(by=cols+['dataset_code'])[cols+['dataset_code','value']].reset_index(drop=True)\n",
    "stata_sub.equals(python_sub)"
   ]
  },
  {
   "cell_type": "markdown",
   "id": "f61e9258",
   "metadata": {},
   "source": [
    "<font size=5, font color='blue'> Compare rows in stata_df without missing values with the corresponding rows in Python"
   ]
  },
  {
   "cell_type": "code",
   "execution_count": 66,
   "id": "45da779b",
   "metadata": {},
   "outputs": [],
   "source": [
    "stata_notna_index = stata_sub[stata_sub.notna().all(axis=1)].index"
   ]
  },
  {
   "cell_type": "code",
   "execution_count": 90,
   "id": "d5fb996c",
   "metadata": {},
   "outputs": [
    {
     "data": {
      "text/plain": [
       "False"
      ]
     },
     "execution_count": 90,
     "metadata": {},
     "output_type": "execute_result"
    }
   ],
   "source": [
    "python_sub.loc[stata_notna_index].equals(stata_sub.loc[stata_notna_index])"
   ]
  },
  {
   "cell_type": "markdown",
   "id": "19546a11",
   "metadata": {},
   "source": [
    "<font size=5, font color='blue'> Upon closer inspection, the differences in ['value'] of stata_df and python_df are extremely small and can be ignored."
   ]
  },
  {
   "cell_type": "code",
   "execution_count": 76,
   "id": "8b83eb37",
   "metadata": {},
   "outputs": [],
   "source": [
    "a = python_sub.iloc[stata_notna_index]"
   ]
  },
  {
   "cell_type": "code",
   "execution_count": 77,
   "id": "60187e82",
   "metadata": {},
   "outputs": [],
   "source": [
    "b = stata_sub.iloc[stata_notna_index]"
   ]
  },
  {
   "cell_type": "code",
   "execution_count": 99,
   "id": "7bbdb24a",
   "metadata": {},
   "outputs": [
    {
     "data": {
      "text/plain": [
       "17"
      ]
     },
     "execution_count": 99,
     "metadata": {},
     "output_type": "execute_result"
    }
   ],
   "source": [
    "(a['value'] != b['value']).sum()"
   ]
  },
  {
   "cell_type": "code",
   "execution_count": 78,
   "id": "b4e3554f",
   "metadata": {},
   "outputs": [
    {
     "name": "stdout",
     "output_type": "stream",
     "text": [
      "[112, 119, 211, 241, 245, 251, 374, 378, 385, 508, 510, 638, 1032, 1036, 1038, 1163, 1620]\n"
     ]
    }
   ],
   "source": [
    "diffs = a.compare(b)\n",
    "diff_index_labels = diffs.index.unique().tolist()\n",
    "print(diff_index_labels)"
   ]
  },
  {
   "cell_type": "code",
   "execution_count": 100,
   "id": "59fe46c1",
   "metadata": {},
   "outputs": [
    {
     "data": {
      "text/plain": [
       "112     5.684342e-14\n",
       "119     5.820766e-11\n",
       "211    -2.328306e-10\n",
       "241     3.637979e-12\n",
       "245     1.164153e-10\n",
       "251     2.910383e-11\n",
       "374    -2.328306e-10\n",
       "378     5.820766e-11\n",
       "385    -5.820766e-11\n",
       "508    -1.164153e-10\n",
       "510     5.820766e-11\n",
       "638    -2.328306e-10\n",
       "1032    1.455192e-11\n",
       "1036   -1.164153e-10\n",
       "1038    5.820766e-11\n",
       "1163    1.818989e-12\n",
       "1620    2.910383e-11\n",
       "Name: value, dtype: float64"
      ]
     },
     "execution_count": 100,
     "metadata": {},
     "output_type": "execute_result"
    }
   ],
   "source": [
    "b.loc[diff_index_labels]['value']-a.loc[diff_index_labels]['value']"
   ]
  },
  {
   "cell_type": "code",
   "execution_count": null,
   "id": "584e7a92",
   "metadata": {},
   "outputs": [],
   "source": []
  }
 ],
 "metadata": {
  "kernelspec": {
   "display_name": "Python 3 (ipykernel)",
   "language": "python",
   "name": "python3"
  },
  "language_info": {
   "codemirror_mode": {
    "name": "ipython",
    "version": 3
   },
   "file_extension": ".py",
   "mimetype": "text/x-python",
   "name": "python",
   "nbconvert_exporter": "python",
   "pygments_lexer": "ipython3",
   "version": "3.11.7"
  },
  "toc": {
   "base_numbering": 1,
   "nav_menu": {},
   "number_sections": true,
   "sideBar": true,
   "skip_h1_title": false,
   "title_cell": "Table of Contents",
   "title_sidebar": "Contents",
   "toc_cell": false,
   "toc_position": {},
   "toc_section_display": true,
   "toc_window_display": false
  }
 },
 "nbformat": 4,
 "nbformat_minor": 5
}
