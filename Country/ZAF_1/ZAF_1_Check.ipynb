{
 "cells": [
  {
   "cell_type": "markdown",
   "id": "6c8ace8a",
   "metadata": {},
   "source": [
    "<font size=5, font color='blue'> stata_df is the dataframe downloaded through Stata API"
   ]
  },
  {
   "cell_type": "code",
   "execution_count": 1,
   "id": "47406cda",
   "metadata": {
    "scrolled": false
   },
   "outputs": [
    {
     "data": {
      "text/html": [
       "<div>\n",
       "<style scoped>\n",
       "    .dataframe tbody tr th:only-of-type {\n",
       "        vertical-align: middle;\n",
       "    }\n",
       "\n",
       "    .dataframe tbody tr th {\n",
       "        vertical-align: top;\n",
       "    }\n",
       "\n",
       "    .dataframe thead th {\n",
       "        text-align: right;\n",
       "    }\n",
       "</style>\n",
       "<table border=\"1\" class=\"dataframe\">\n",
       "  <thead>\n",
       "    <tr style=\"text-align: right;\">\n",
       "      <th></th>\n",
       "      <th>period</th>\n",
       "      <th>period_start_day</th>\n",
       "      <th>value</th>\n",
       "      <th>frequency</th>\n",
       "      <th>dataset_code</th>\n",
       "      <th>dataset_name</th>\n",
       "      <th>freq</th>\n",
       "      <th>topic</th>\n",
       "      <th>unit</th>\n",
       "      <th>indexed_at</th>\n",
       "      <th>provider_code</th>\n",
       "      <th>series_code</th>\n",
       "      <th>series_name</th>\n",
       "      <th>series_num</th>\n",
       "    </tr>\n",
       "  </thead>\n",
       "  <tbody>\n",
       "    <tr>\n",
       "      <th>0</th>\n",
       "      <td>1946</td>\n",
       "      <td>1946-01-01</td>\n",
       "      <td>NA</td>\n",
       "      <td>annual</td>\n",
       "      <td>QB</td>\n",
       "      <td>Quarterly Bulletin</td>\n",
       "      <td>A</td>\n",
       "      <td>FM</td>\n",
       "      <td>PERC</td>\n",
       "      <td>2022-04-04T17:36:18.525Z</td>\n",
       "      <td>SARB</td>\n",
       "      <td>KBP2000J</td>\n",
       "      <td>Yield on loan stock traded on the stock exchan...</td>\n",
       "      <td>Master</td>\n",
       "    </tr>\n",
       "    <tr>\n",
       "      <th>1</th>\n",
       "      <td>1947</td>\n",
       "      <td>1947-01-01</td>\n",
       "      <td>NA</td>\n",
       "      <td>annual</td>\n",
       "      <td>QB</td>\n",
       "      <td>Quarterly Bulletin</td>\n",
       "      <td>A</td>\n",
       "      <td>FM</td>\n",
       "      <td>PERC</td>\n",
       "      <td>2022-04-04T17:36:18.525Z</td>\n",
       "      <td>SARB</td>\n",
       "      <td>KBP2000J</td>\n",
       "      <td>Yield on loan stock traded on the stock exchan...</td>\n",
       "      <td>Master</td>\n",
       "    </tr>\n",
       "    <tr>\n",
       "      <th>2</th>\n",
       "      <td>1948</td>\n",
       "      <td>1948-01-01</td>\n",
       "      <td>NA</td>\n",
       "      <td>annual</td>\n",
       "      <td>QB</td>\n",
       "      <td>Quarterly Bulletin</td>\n",
       "      <td>A</td>\n",
       "      <td>FM</td>\n",
       "      <td>PERC</td>\n",
       "      <td>2022-04-04T17:36:18.525Z</td>\n",
       "      <td>SARB</td>\n",
       "      <td>KBP2000J</td>\n",
       "      <td>Yield on loan stock traded on the stock exchan...</td>\n",
       "      <td>Master</td>\n",
       "    </tr>\n",
       "    <tr>\n",
       "      <th>3</th>\n",
       "      <td>1949</td>\n",
       "      <td>1949-01-01</td>\n",
       "      <td>NA</td>\n",
       "      <td>annual</td>\n",
       "      <td>QB</td>\n",
       "      <td>Quarterly Bulletin</td>\n",
       "      <td>A</td>\n",
       "      <td>FM</td>\n",
       "      <td>PERC</td>\n",
       "      <td>2022-04-04T17:36:18.525Z</td>\n",
       "      <td>SARB</td>\n",
       "      <td>KBP2000J</td>\n",
       "      <td>Yield on loan stock traded on the stock exchan...</td>\n",
       "      <td>Master</td>\n",
       "    </tr>\n",
       "    <tr>\n",
       "      <th>4</th>\n",
       "      <td>1950</td>\n",
       "      <td>1950-01-01</td>\n",
       "      <td>NA</td>\n",
       "      <td>annual</td>\n",
       "      <td>QB</td>\n",
       "      <td>Quarterly Bulletin</td>\n",
       "      <td>A</td>\n",
       "      <td>FM</td>\n",
       "      <td>PERC</td>\n",
       "      <td>2022-04-04T17:36:18.525Z</td>\n",
       "      <td>SARB</td>\n",
       "      <td>KBP2000J</td>\n",
       "      <td>Yield on loan stock traded on the stock exchan...</td>\n",
       "      <td>Master</td>\n",
       "    </tr>\n",
       "  </tbody>\n",
       "</table>\n",
       "</div>"
      ],
      "text/plain": [
       "   period period_start_day value frequency dataset_code        dataset_name  \\\n",
       "0    1946       1946-01-01    NA    annual           QB  Quarterly Bulletin   \n",
       "1    1947       1947-01-01    NA    annual           QB  Quarterly Bulletin   \n",
       "2    1948       1948-01-01    NA    annual           QB  Quarterly Bulletin   \n",
       "3    1949       1949-01-01    NA    annual           QB  Quarterly Bulletin   \n",
       "4    1950       1950-01-01    NA    annual           QB  Quarterly Bulletin   \n",
       "\n",
       "  freq topic  unit                indexed_at provider_code series_code  \\\n",
       "0    A    FM  PERC  2022-04-04T17:36:18.525Z          SARB    KBP2000J   \n",
       "1    A    FM  PERC  2022-04-04T17:36:18.525Z          SARB    KBP2000J   \n",
       "2    A    FM  PERC  2022-04-04T17:36:18.525Z          SARB    KBP2000J   \n",
       "3    A    FM  PERC  2022-04-04T17:36:18.525Z          SARB    KBP2000J   \n",
       "4    A    FM  PERC  2022-04-04T17:36:18.525Z          SARB    KBP2000J   \n",
       "\n",
       "                                         series_name series_num  \n",
       "0  Yield on loan stock traded on the stock exchan...     Master  \n",
       "1  Yield on loan stock traded on the stock exchan...     Master  \n",
       "2  Yield on loan stock traded on the stock exchan...     Master  \n",
       "3  Yield on loan stock traded on the stock exchan...     Master  \n",
       "4  Yield on loan stock traded on the stock exchan...     Master  "
      ]
     },
     "execution_count": 1,
     "metadata": {},
     "output_type": "execute_result"
    }
   ],
   "source": [
    "import pandas as pd\n",
    "pd.options.mode.chained_assignment = None\n",
    "\n",
    "stata_df = pd.read_stata(\"ZAF_1.dta\")\n",
    "stata_df.head()"
   ]
  },
  {
   "cell_type": "markdown",
   "id": "12314c37",
   "metadata": {},
   "source": [
    "<font size=5, font color='blue'> python_df is the dataframe downloaded through Python API. "
   ]
  },
  {
   "cell_type": "code",
   "execution_count": 2,
   "id": "20b37bca",
   "metadata": {},
   "outputs": [
    {
     "data": {
      "text/html": [
       "<div>\n",
       "<style scoped>\n",
       "    .dataframe tbody tr th:only-of-type {\n",
       "        vertical-align: middle;\n",
       "    }\n",
       "\n",
       "    .dataframe tbody tr th {\n",
       "        vertical-align: top;\n",
       "    }\n",
       "\n",
       "    .dataframe thead th {\n",
       "        text-align: right;\n",
       "    }\n",
       "</style>\n",
       "<table border=\"1\" class=\"dataframe\">\n",
       "  <thead>\n",
       "    <tr style=\"text-align: right;\">\n",
       "      <th></th>\n",
       "      <th>@frequency</th>\n",
       "      <th>provider_code</th>\n",
       "      <th>dataset_code</th>\n",
       "      <th>dataset_name</th>\n",
       "      <th>series_code</th>\n",
       "      <th>series_name</th>\n",
       "      <th>original_period</th>\n",
       "      <th>period</th>\n",
       "      <th>original_value</th>\n",
       "      <th>value</th>\n",
       "      <th>topic</th>\n",
       "      <th>unit</th>\n",
       "      <th>freq</th>\n",
       "      <th>Topic</th>\n",
       "      <th>Unit</th>\n",
       "      <th>Frequency</th>\n",
       "    </tr>\n",
       "  </thead>\n",
       "  <tbody>\n",
       "    <tr>\n",
       "      <th>0</th>\n",
       "      <td>annual</td>\n",
       "      <td>SARB</td>\n",
       "      <td>QB</td>\n",
       "      <td>Quarterly Bulletin</td>\n",
       "      <td>KBP1000J</td>\n",
       "      <td>South African Reserve Bank liabilities: Notes ...</td>\n",
       "      <td>1960</td>\n",
       "      <td>1960-01-01</td>\n",
       "      <td>255.0</td>\n",
       "      <td>255.0</td>\n",
       "      <td>MB</td>\n",
       "      <td>RMILL</td>\n",
       "      <td>A</td>\n",
       "      <td>Money and Banking</td>\n",
       "      <td>RMILL</td>\n",
       "      <td>Annual</td>\n",
       "    </tr>\n",
       "    <tr>\n",
       "      <th>1</th>\n",
       "      <td>annual</td>\n",
       "      <td>SARB</td>\n",
       "      <td>QB</td>\n",
       "      <td>Quarterly Bulletin</td>\n",
       "      <td>KBP1000J</td>\n",
       "      <td>South African Reserve Bank liabilities: Notes ...</td>\n",
       "      <td>1961</td>\n",
       "      <td>1961-01-01</td>\n",
       "      <td>276.0</td>\n",
       "      <td>276.0</td>\n",
       "      <td>MB</td>\n",
       "      <td>RMILL</td>\n",
       "      <td>A</td>\n",
       "      <td>Money and Banking</td>\n",
       "      <td>RMILL</td>\n",
       "      <td>Annual</td>\n",
       "    </tr>\n",
       "    <tr>\n",
       "      <th>2</th>\n",
       "      <td>annual</td>\n",
       "      <td>SARB</td>\n",
       "      <td>QB</td>\n",
       "      <td>Quarterly Bulletin</td>\n",
       "      <td>KBP1000J</td>\n",
       "      <td>South African Reserve Bank liabilities: Notes ...</td>\n",
       "      <td>1962</td>\n",
       "      <td>1962-01-01</td>\n",
       "      <td>302.0</td>\n",
       "      <td>302.0</td>\n",
       "      <td>MB</td>\n",
       "      <td>RMILL</td>\n",
       "      <td>A</td>\n",
       "      <td>Money and Banking</td>\n",
       "      <td>RMILL</td>\n",
       "      <td>Annual</td>\n",
       "    </tr>\n",
       "    <tr>\n",
       "      <th>3</th>\n",
       "      <td>annual</td>\n",
       "      <td>SARB</td>\n",
       "      <td>QB</td>\n",
       "      <td>Quarterly Bulletin</td>\n",
       "      <td>KBP1000J</td>\n",
       "      <td>South African Reserve Bank liabilities: Notes ...</td>\n",
       "      <td>1963</td>\n",
       "      <td>1963-01-01</td>\n",
       "      <td>337.0</td>\n",
       "      <td>337.0</td>\n",
       "      <td>MB</td>\n",
       "      <td>RMILL</td>\n",
       "      <td>A</td>\n",
       "      <td>Money and Banking</td>\n",
       "      <td>RMILL</td>\n",
       "      <td>Annual</td>\n",
       "    </tr>\n",
       "    <tr>\n",
       "      <th>4</th>\n",
       "      <td>annual</td>\n",
       "      <td>SARB</td>\n",
       "      <td>QB</td>\n",
       "      <td>Quarterly Bulletin</td>\n",
       "      <td>KBP1000J</td>\n",
       "      <td>South African Reserve Bank liabilities: Notes ...</td>\n",
       "      <td>1964</td>\n",
       "      <td>1964-01-01</td>\n",
       "      <td>355.0</td>\n",
       "      <td>355.0</td>\n",
       "      <td>MB</td>\n",
       "      <td>RMILL</td>\n",
       "      <td>A</td>\n",
       "      <td>Money and Banking</td>\n",
       "      <td>RMILL</td>\n",
       "      <td>Annual</td>\n",
       "    </tr>\n",
       "  </tbody>\n",
       "</table>\n",
       "</div>"
      ],
      "text/plain": [
       "  @frequency provider_code dataset_code        dataset_name series_code  \\\n",
       "0     annual          SARB           QB  Quarterly Bulletin    KBP1000J   \n",
       "1     annual          SARB           QB  Quarterly Bulletin    KBP1000J   \n",
       "2     annual          SARB           QB  Quarterly Bulletin    KBP1000J   \n",
       "3     annual          SARB           QB  Quarterly Bulletin    KBP1000J   \n",
       "4     annual          SARB           QB  Quarterly Bulletin    KBP1000J   \n",
       "\n",
       "                                         series_name original_period  \\\n",
       "0  South African Reserve Bank liabilities: Notes ...            1960   \n",
       "1  South African Reserve Bank liabilities: Notes ...            1961   \n",
       "2  South African Reserve Bank liabilities: Notes ...            1962   \n",
       "3  South African Reserve Bank liabilities: Notes ...            1963   \n",
       "4  South African Reserve Bank liabilities: Notes ...            1964   \n",
       "\n",
       "      period original_value  value topic   unit freq              Topic  \\\n",
       "0 1960-01-01          255.0  255.0    MB  RMILL    A  Money and Banking   \n",
       "1 1961-01-01          276.0  276.0    MB  RMILL    A  Money and Banking   \n",
       "2 1962-01-01          302.0  302.0    MB  RMILL    A  Money and Banking   \n",
       "3 1963-01-01          337.0  337.0    MB  RMILL    A  Money and Banking   \n",
       "4 1964-01-01          355.0  355.0    MB  RMILL    A  Money and Banking   \n",
       "\n",
       "    Unit Frequency  \n",
       "0  RMILL    Annual  \n",
       "1  RMILL    Annual  \n",
       "2  RMILL    Annual  \n",
       "3  RMILL    Annual  \n",
       "4  RMILL    Annual  "
      ]
     },
     "execution_count": 2,
     "metadata": {},
     "output_type": "execute_result"
    }
   ],
   "source": [
    "python_df = pd.read_pickle(\"ZAF_1.pickle\")\n",
    "python_df.head()"
   ]
  },
  {
   "cell_type": "markdown",
   "id": "891b9982",
   "metadata": {},
   "source": [
    "<font size=5, font color='blue'> Check whether the two dataframes have the same number of rows, which means equal number of data points / observations. Column numbers of the two dataframes may differ due to the difference between Stata and Python APIs, and so do the order, datatypes and names of columns and the order of rows, which is why we don't require a complete match between python_df and stata_df."
   ]
  },
  {
   "cell_type": "code",
   "execution_count": 3,
   "id": "922205b2",
   "metadata": {},
   "outputs": [
    {
     "data": {
      "text/plain": [
       "True"
      ]
     },
     "execution_count": 3,
     "metadata": {},
     "output_type": "execute_result"
    }
   ],
   "source": [
    "stata_df.shape[0]==python_df.shape[0]"
   ]
  },
  {
   "cell_type": "markdown",
   "id": "2c756d80",
   "metadata": {},
   "source": [
    "<font size=5, font color='blue'> ['period_start_day'] in stata_df is the most accurate timestamp assigned to each observation (row). In python_df its equivalent is ['period'], so we rename it to match the column name in stata_df. We match the datatype of the two columns by converting both of them to pandas datetime objects. We also convert the datatype of ['value'] in stata_df to numeric."
   ]
  },
  {
   "cell_type": "code",
   "execution_count": 4,
   "id": "869e25b8",
   "metadata": {},
   "outputs": [],
   "source": [
    "python_df.rename(columns={'period':'period_start_day'},inplace=True)\n",
    "stata_df['period_start_day'] = pd.to_datetime(stata_df['period_start_day'])\n",
    "python_df['period_start_day'] = pd.to_datetime(python_df['period_start_day'])\n",
    "stata_df['value'] = pd.to_numeric(stata_df['value'],'coerce').astype('float64')\n",
    "python_df['value'] = python_df['value'].astype('float64')"
   ]
  },
  {
   "cell_type": "markdown",
   "id": "3c8ac514",
   "metadata": {},
   "source": [
    "<font size=5, font color='blue'> Check whether ['period_start_day', 'series_code'] can identify a unique row in both stata_df and python_df, if not then there is a duplication or error in Dbnomics."
   ]
  },
  {
   "cell_type": "code",
   "execution_count": 5,
   "id": "95929551",
   "metadata": {},
   "outputs": [
    {
     "data": {
      "text/plain": [
       "True"
      ]
     },
     "execution_count": 5,
     "metadata": {},
     "output_type": "execute_result"
    }
   ],
   "source": [
    "cols = ['period_start_day', 'series_code']\n",
    "sum(stata_df.duplicated(subset=cols))+sum(python_df.duplicated(subset=cols)) == 0"
   ]
  },
  {
   "cell_type": "markdown",
   "id": "2c3b0bad",
   "metadata": {},
   "source": [
    "<font size=5, font color='blue'> Then we sort the two dataframes by ['period_start_day', 'series_code']. This ensures observations in the two dataframes are in the same order. Finally we check whether the two sub-frames [['period_start_day','series_code','value']] sliced from stata_df and python_df are exactly the same."
   ]
  },
  {
   "cell_type": "code",
   "execution_count": 6,
   "id": "be99fb77",
   "metadata": {},
   "outputs": [
    {
     "data": {
      "text/plain": [
       "True"
      ]
     },
     "execution_count": 6,
     "metadata": {},
     "output_type": "execute_result"
    }
   ],
   "source": [
    "stata_sub = stata_df.sort_values(by=cols)[cols+['value']].reset_index(drop=True)\n",
    "python_sub = python_df.sort_values(by=cols)[cols+['value']].reset_index(drop=True)\n",
    "stata_sub.equals(python_sub)"
   ]
  }
 ],
 "metadata": {
  "kernelspec": {
   "display_name": "Python 3 (ipykernel)",
   "language": "python",
   "name": "python3"
  },
  "language_info": {
   "codemirror_mode": {
    "name": "ipython",
    "version": 3
   },
   "file_extension": ".py",
   "mimetype": "text/x-python",
   "name": "python",
   "nbconvert_exporter": "python",
   "pygments_lexer": "ipython3",
   "version": "3.11.7"
  },
  "toc": {
   "base_numbering": 1,
   "nav_menu": {},
   "number_sections": true,
   "sideBar": true,
   "skip_h1_title": false,
   "title_cell": "Table of Contents",
   "title_sidebar": "Contents",
   "toc_cell": false,
   "toc_position": {},
   "toc_section_display": true,
   "toc_window_display": false
  }
 },
 "nbformat": 4,
 "nbformat_minor": 5
}
