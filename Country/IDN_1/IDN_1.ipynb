{
 "cells": [
  {
   "cell_type": "code",
   "execution_count": 1,
   "id": "81cd83d3",
   "metadata": {},
   "outputs": [],
   "source": [
    "import pandas as pd\n",
    "\n",
    "from dbnomics import fetch_series, fetch_series_by_api_link\n",
    "import warnings\n",
    "warnings.filterwarnings(\"ignore\", category=FutureWarning)"
   ]
  },
  {
   "cell_type": "code",
   "execution_count": 2,
   "id": "7c0fe158",
   "metadata": {},
   "outputs": [],
   "source": [
    "datasets = ['TABEL1_1', 'TABEL1_2', 'TABEL1_25', 'TABEL4_1', 'TABEL4_2', 'TABEL4_3', 'TABEL4_4', 'TABEL5_1', 'TABEL5_40', 'TABEL7_1', 'TABEL7_3', 'TABEL7_6', 'TABEL8_1']"
   ]
  },
  {
   "cell_type": "code",
   "execution_count": 3,
   "id": "bf0a7004",
   "metadata": {},
   "outputs": [
    {
     "data": {
      "text/html": [
       "<div>\n",
       "<style scoped>\n",
       "    .dataframe tbody tr th:only-of-type {\n",
       "        vertical-align: middle;\n",
       "    }\n",
       "\n",
       "    .dataframe tbody tr th {\n",
       "        vertical-align: top;\n",
       "    }\n",
       "\n",
       "    .dataframe thead th {\n",
       "        text-align: right;\n",
       "    }\n",
       "</style>\n",
       "<table border=\"1\" class=\"dataframe\">\n",
       "  <thead>\n",
       "    <tr style=\"text-align: right;\">\n",
       "      <th></th>\n",
       "      <th>@frequency</th>\n",
       "      <th>provider_code</th>\n",
       "      <th>dataset_code</th>\n",
       "      <th>dataset_name</th>\n",
       "      <th>series_code</th>\n",
       "      <th>series_name</th>\n",
       "      <th>original_period</th>\n",
       "      <th>period</th>\n",
       "      <th>original_value</th>\n",
       "      <th>value</th>\n",
       "      <th>freq</th>\n",
       "      <th>Frequency</th>\n",
       "      <th>REF_AREA</th>\n",
       "    </tr>\n",
       "  </thead>\n",
       "  <tbody>\n",
       "    <tr>\n",
       "      <th>0</th>\n",
       "      <td>annual</td>\n",
       "      <td>BI</td>\n",
       "      <td>TABEL1_1</td>\n",
       "      <td>I.1. BROAD MONEY AND ITS AFFECTING FACTORS (Bi...</td>\n",
       "      <td>1.A</td>\n",
       "      <td>Broad Money (M2) - Annual</td>\n",
       "      <td>2010</td>\n",
       "      <td>2010-01-01</td>\n",
       "      <td>2471205.79</td>\n",
       "      <td>2471205.79</td>\n",
       "      <td>A</td>\n",
       "      <td>Annual</td>\n",
       "      <td>IDN</td>\n",
       "    </tr>\n",
       "    <tr>\n",
       "      <th>1</th>\n",
       "      <td>annual</td>\n",
       "      <td>BI</td>\n",
       "      <td>TABEL1_1</td>\n",
       "      <td>I.1. BROAD MONEY AND ITS AFFECTING FACTORS (Bi...</td>\n",
       "      <td>1.A</td>\n",
       "      <td>Broad Money (M2) - Annual</td>\n",
       "      <td>2011</td>\n",
       "      <td>2011-01-01</td>\n",
       "      <td>2877219.57</td>\n",
       "      <td>2877219.57</td>\n",
       "      <td>A</td>\n",
       "      <td>Annual</td>\n",
       "      <td>IDN</td>\n",
       "    </tr>\n",
       "    <tr>\n",
       "      <th>2</th>\n",
       "      <td>annual</td>\n",
       "      <td>BI</td>\n",
       "      <td>TABEL1_1</td>\n",
       "      <td>I.1. BROAD MONEY AND ITS AFFECTING FACTORS (Bi...</td>\n",
       "      <td>1.A</td>\n",
       "      <td>Broad Money (M2) - Annual</td>\n",
       "      <td>2012</td>\n",
       "      <td>2012-01-01</td>\n",
       "      <td>3307507.55</td>\n",
       "      <td>3307507.55</td>\n",
       "      <td>A</td>\n",
       "      <td>Annual</td>\n",
       "      <td>IDN</td>\n",
       "    </tr>\n",
       "    <tr>\n",
       "      <th>3</th>\n",
       "      <td>annual</td>\n",
       "      <td>BI</td>\n",
       "      <td>TABEL1_1</td>\n",
       "      <td>I.1. BROAD MONEY AND ITS AFFECTING FACTORS (Bi...</td>\n",
       "      <td>1.A</td>\n",
       "      <td>Broad Money (M2) - Annual</td>\n",
       "      <td>2013</td>\n",
       "      <td>2013-01-01</td>\n",
       "      <td>3730409.35</td>\n",
       "      <td>3730409.35</td>\n",
       "      <td>A</td>\n",
       "      <td>Annual</td>\n",
       "      <td>IDN</td>\n",
       "    </tr>\n",
       "    <tr>\n",
       "      <th>4</th>\n",
       "      <td>annual</td>\n",
       "      <td>BI</td>\n",
       "      <td>TABEL1_1</td>\n",
       "      <td>I.1. BROAD MONEY AND ITS AFFECTING FACTORS (Bi...</td>\n",
       "      <td>1.A</td>\n",
       "      <td>Broad Money (M2) - Annual</td>\n",
       "      <td>2014</td>\n",
       "      <td>2014-01-01</td>\n",
       "      <td>4173326.5</td>\n",
       "      <td>4173326.50</td>\n",
       "      <td>A</td>\n",
       "      <td>Annual</td>\n",
       "      <td>IDN</td>\n",
       "    </tr>\n",
       "  </tbody>\n",
       "</table>\n",
       "</div>"
      ],
      "text/plain": [
       "  @frequency provider_code dataset_code  \\\n",
       "0     annual            BI     TABEL1_1   \n",
       "1     annual            BI     TABEL1_1   \n",
       "2     annual            BI     TABEL1_1   \n",
       "3     annual            BI     TABEL1_1   \n",
       "4     annual            BI     TABEL1_1   \n",
       "\n",
       "                                        dataset_name series_code  \\\n",
       "0  I.1. BROAD MONEY AND ITS AFFECTING FACTORS (Bi...         1.A   \n",
       "1  I.1. BROAD MONEY AND ITS AFFECTING FACTORS (Bi...         1.A   \n",
       "2  I.1. BROAD MONEY AND ITS AFFECTING FACTORS (Bi...         1.A   \n",
       "3  I.1. BROAD MONEY AND ITS AFFECTING FACTORS (Bi...         1.A   \n",
       "4  I.1. BROAD MONEY AND ITS AFFECTING FACTORS (Bi...         1.A   \n",
       "\n",
       "                 series_name original_period     period original_value  \\\n",
       "0  Broad Money (M2) - Annual            2010 2010-01-01     2471205.79   \n",
       "1  Broad Money (M2) - Annual            2011 2011-01-01     2877219.57   \n",
       "2  Broad Money (M2) - Annual            2012 2012-01-01     3307507.55   \n",
       "3  Broad Money (M2) - Annual            2013 2013-01-01     3730409.35   \n",
       "4  Broad Money (M2) - Annual            2014 2014-01-01      4173326.5   \n",
       "\n",
       "        value freq Frequency REF_AREA  \n",
       "0  2471205.79    A    Annual      IDN  \n",
       "1  2877219.57    A    Annual      IDN  \n",
       "2  3307507.55    A    Annual      IDN  \n",
       "3  3730409.35    A    Annual      IDN  \n",
       "4  4173326.50    A    Annual      IDN  "
      ]
     },
     "execution_count": 3,
     "metadata": {},
     "output_type": "execute_result"
    }
   ],
   "source": [
    "df = pd.concat([fetch_series(\"BI\", dataset, dimensions={\"freq\": ['A']}, max_nb_series=1000000) for dataset in datasets], ignore_index=True)\n",
    "df['REF_AREA']='IDN'\n",
    "df.head()"
   ]
  },
  {
   "cell_type": "code",
   "execution_count": 4,
   "id": "dd0e24a1",
   "metadata": {},
   "outputs": [],
   "source": [
    "df.to_csv('IDN_1.csv')"
   ]
  },
  {
   "cell_type": "code",
   "execution_count": 5,
   "id": "c98d8bf7",
   "metadata": {},
   "outputs": [],
   "source": [
    "df.to_pickle('IDN_1.pickle')"
   ]
  },
  {
   "cell_type": "code",
   "execution_count": 6,
   "id": "46891f61",
   "metadata": {},
   "outputs": [
    {
     "data": {
      "text/plain": [
       "True"
      ]
     },
     "execution_count": 6,
     "metadata": {},
     "output_type": "execute_result"
    }
   ],
   "source": [
    "df1 = pd.read_pickle('IDN_1.pickle')\n",
    "df1.equals(df)"
   ]
  },
  {
   "cell_type": "code",
   "execution_count": null,
   "id": "8b52af8b",
   "metadata": {},
   "outputs": [],
   "source": []
  }
 ],
 "metadata": {
  "kernelspec": {
   "display_name": "Python 3 (ipykernel)",
   "language": "python",
   "name": "python3"
  },
  "language_info": {
   "codemirror_mode": {
    "name": "ipython",
    "version": 3
   },
   "file_extension": ".py",
   "mimetype": "text/x-python",
   "name": "python",
   "nbconvert_exporter": "python",
   "pygments_lexer": "ipython3",
   "version": "3.11.7"
  },
  "toc": {
   "base_numbering": 1,
   "nav_menu": {},
   "number_sections": true,
   "sideBar": true,
   "skip_h1_title": false,
   "title_cell": "Table of Contents",
   "title_sidebar": "Contents",
   "toc_cell": false,
   "toc_position": {},
   "toc_section_display": true,
   "toc_window_display": false
  }
 },
 "nbformat": 4,
 "nbformat_minor": 5
}
