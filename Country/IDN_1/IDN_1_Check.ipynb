{
 "cells": [
  {
   "cell_type": "markdown",
   "id": "6c8ace8a",
   "metadata": {},
   "source": [
    "<font size=5, font color='blue'> stata_df is the dataframe downloaded through Stata API"
   ]
  },
  {
   "cell_type": "code",
   "execution_count": 1,
   "id": "47406cda",
   "metadata": {
    "scrolled": false
   },
   "outputs": [
    {
     "data": {
      "text/html": [
       "<div>\n",
       "<style scoped>\n",
       "    .dataframe tbody tr th:only-of-type {\n",
       "        vertical-align: middle;\n",
       "    }\n",
       "\n",
       "    .dataframe tbody tr th {\n",
       "        vertical-align: top;\n",
       "    }\n",
       "\n",
       "    .dataframe thead th {\n",
       "        text-align: right;\n",
       "    }\n",
       "</style>\n",
       "<table border=\"1\" class=\"dataframe\">\n",
       "  <thead>\n",
       "    <tr style=\"text-align: right;\">\n",
       "      <th></th>\n",
       "      <th>period</th>\n",
       "      <th>period_start_day</th>\n",
       "      <th>value</th>\n",
       "      <th>frequency</th>\n",
       "      <th>dataset_code</th>\n",
       "      <th>dataset_name</th>\n",
       "      <th>freq</th>\n",
       "      <th>indexed_at</th>\n",
       "      <th>provider_code</th>\n",
       "      <th>series_code</th>\n",
       "      <th>series_name</th>\n",
       "      <th>series_num</th>\n",
       "      <th>REF_AREA</th>\n",
       "    </tr>\n",
       "  </thead>\n",
       "  <tbody>\n",
       "    <tr>\n",
       "      <th>0</th>\n",
       "      <td>2010</td>\n",
       "      <td>2010-01-01</td>\n",
       "      <td>NA</td>\n",
       "      <td>annual</td>\n",
       "      <td>TABEL8_1</td>\n",
       "      <td>VIII.1 COMPOSITE CONSUMER PRICE INDEX OF 82 CI...</td>\n",
       "      <td>A</td>\n",
       "      <td>2022-04-04T15:16:01.661Z</td>\n",
       "      <td>BI</td>\n",
       "      <td>1.A</td>\n",
       "      <td>Foodstuff - Annual</td>\n",
       "      <td>Master</td>\n",
       "      <td>IDN</td>\n",
       "    </tr>\n",
       "    <tr>\n",
       "      <th>1</th>\n",
       "      <td>2011</td>\n",
       "      <td>2011-01-01</td>\n",
       "      <td>NA</td>\n",
       "      <td>annual</td>\n",
       "      <td>TABEL8_1</td>\n",
       "      <td>VIII.1 COMPOSITE CONSUMER PRICE INDEX OF 82 CI...</td>\n",
       "      <td>A</td>\n",
       "      <td>2022-04-04T15:16:01.661Z</td>\n",
       "      <td>BI</td>\n",
       "      <td>1.A</td>\n",
       "      <td>Foodstuff - Annual</td>\n",
       "      <td>Master</td>\n",
       "      <td>IDN</td>\n",
       "    </tr>\n",
       "    <tr>\n",
       "      <th>2</th>\n",
       "      <td>2012</td>\n",
       "      <td>2012-01-01</td>\n",
       "      <td>NA</td>\n",
       "      <td>annual</td>\n",
       "      <td>TABEL8_1</td>\n",
       "      <td>VIII.1 COMPOSITE CONSUMER PRICE INDEX OF 82 CI...</td>\n",
       "      <td>A</td>\n",
       "      <td>2022-04-04T15:16:01.661Z</td>\n",
       "      <td>BI</td>\n",
       "      <td>1.A</td>\n",
       "      <td>Foodstuff - Annual</td>\n",
       "      <td>Master</td>\n",
       "      <td>IDN</td>\n",
       "    </tr>\n",
       "    <tr>\n",
       "      <th>3</th>\n",
       "      <td>2013</td>\n",
       "      <td>2013-01-01</td>\n",
       "      <td>NA</td>\n",
       "      <td>annual</td>\n",
       "      <td>TABEL8_1</td>\n",
       "      <td>VIII.1 COMPOSITE CONSUMER PRICE INDEX OF 82 CI...</td>\n",
       "      <td>A</td>\n",
       "      <td>2022-04-04T15:16:01.661Z</td>\n",
       "      <td>BI</td>\n",
       "      <td>1.A</td>\n",
       "      <td>Foodstuff - Annual</td>\n",
       "      <td>Master</td>\n",
       "      <td>IDN</td>\n",
       "    </tr>\n",
       "    <tr>\n",
       "      <th>4</th>\n",
       "      <td>2014</td>\n",
       "      <td>2014-01-01</td>\n",
       "      <td>NA</td>\n",
       "      <td>annual</td>\n",
       "      <td>TABEL8_1</td>\n",
       "      <td>VIII.1 COMPOSITE CONSUMER PRICE INDEX OF 82 CI...</td>\n",
       "      <td>A</td>\n",
       "      <td>2022-04-04T15:16:01.661Z</td>\n",
       "      <td>BI</td>\n",
       "      <td>1.A</td>\n",
       "      <td>Foodstuff - Annual</td>\n",
       "      <td>Master</td>\n",
       "      <td>IDN</td>\n",
       "    </tr>\n",
       "  </tbody>\n",
       "</table>\n",
       "</div>"
      ],
      "text/plain": [
       "   period period_start_day value frequency dataset_code  \\\n",
       "0    2010       2010-01-01    NA    annual     TABEL8_1   \n",
       "1    2011       2011-01-01    NA    annual     TABEL8_1   \n",
       "2    2012       2012-01-01    NA    annual     TABEL8_1   \n",
       "3    2013       2013-01-01    NA    annual     TABEL8_1   \n",
       "4    2014       2014-01-01    NA    annual     TABEL8_1   \n",
       "\n",
       "                                        dataset_name freq  \\\n",
       "0  VIII.1 COMPOSITE CONSUMER PRICE INDEX OF 82 CI...    A   \n",
       "1  VIII.1 COMPOSITE CONSUMER PRICE INDEX OF 82 CI...    A   \n",
       "2  VIII.1 COMPOSITE CONSUMER PRICE INDEX OF 82 CI...    A   \n",
       "3  VIII.1 COMPOSITE CONSUMER PRICE INDEX OF 82 CI...    A   \n",
       "4  VIII.1 COMPOSITE CONSUMER PRICE INDEX OF 82 CI...    A   \n",
       "\n",
       "                 indexed_at provider_code series_code         series_name  \\\n",
       "0  2022-04-04T15:16:01.661Z            BI         1.A  Foodstuff - Annual   \n",
       "1  2022-04-04T15:16:01.661Z            BI         1.A  Foodstuff - Annual   \n",
       "2  2022-04-04T15:16:01.661Z            BI         1.A  Foodstuff - Annual   \n",
       "3  2022-04-04T15:16:01.661Z            BI         1.A  Foodstuff - Annual   \n",
       "4  2022-04-04T15:16:01.661Z            BI         1.A  Foodstuff - Annual   \n",
       "\n",
       "  series_num REF_AREA  \n",
       "0     Master      IDN  \n",
       "1     Master      IDN  \n",
       "2     Master      IDN  \n",
       "3     Master      IDN  \n",
       "4     Master      IDN  "
      ]
     },
     "execution_count": 1,
     "metadata": {},
     "output_type": "execute_result"
    }
   ],
   "source": [
    "import pandas as pd\n",
    "pd.options.mode.chained_assignment = None\n",
    "\n",
    "stata_df = pd.read_stata(\"IDN_1.dta\")\n",
    "stata_df.head()"
   ]
  },
  {
   "cell_type": "markdown",
   "id": "12314c37",
   "metadata": {},
   "source": [
    "<font size=5, font color='blue'> python_df is the dataframe downloaded through Python API. "
   ]
  },
  {
   "cell_type": "code",
   "execution_count": 3,
   "id": "20b37bca",
   "metadata": {},
   "outputs": [
    {
     "data": {
      "text/html": [
       "<div>\n",
       "<style scoped>\n",
       "    .dataframe tbody tr th:only-of-type {\n",
       "        vertical-align: middle;\n",
       "    }\n",
       "\n",
       "    .dataframe tbody tr th {\n",
       "        vertical-align: top;\n",
       "    }\n",
       "\n",
       "    .dataframe thead th {\n",
       "        text-align: right;\n",
       "    }\n",
       "</style>\n",
       "<table border=\"1\" class=\"dataframe\">\n",
       "  <thead>\n",
       "    <tr style=\"text-align: right;\">\n",
       "      <th></th>\n",
       "      <th>@frequency</th>\n",
       "      <th>provider_code</th>\n",
       "      <th>dataset_code</th>\n",
       "      <th>dataset_name</th>\n",
       "      <th>series_code</th>\n",
       "      <th>series_name</th>\n",
       "      <th>original_period</th>\n",
       "      <th>period</th>\n",
       "      <th>original_value</th>\n",
       "      <th>value</th>\n",
       "      <th>freq</th>\n",
       "      <th>Frequency</th>\n",
       "      <th>REF_AREA</th>\n",
       "    </tr>\n",
       "  </thead>\n",
       "  <tbody>\n",
       "    <tr>\n",
       "      <th>0</th>\n",
       "      <td>annual</td>\n",
       "      <td>BI</td>\n",
       "      <td>TABEL1_1</td>\n",
       "      <td>I.1. BROAD MONEY AND ITS AFFECTING FACTORS (Bi...</td>\n",
       "      <td>1.A</td>\n",
       "      <td>Broad Money (M2) - Annual</td>\n",
       "      <td>2010</td>\n",
       "      <td>2010-01-01</td>\n",
       "      <td>2471205.79</td>\n",
       "      <td>2471205.79</td>\n",
       "      <td>A</td>\n",
       "      <td>Annual</td>\n",
       "      <td>IDN</td>\n",
       "    </tr>\n",
       "    <tr>\n",
       "      <th>1</th>\n",
       "      <td>annual</td>\n",
       "      <td>BI</td>\n",
       "      <td>TABEL1_1</td>\n",
       "      <td>I.1. BROAD MONEY AND ITS AFFECTING FACTORS (Bi...</td>\n",
       "      <td>1.A</td>\n",
       "      <td>Broad Money (M2) - Annual</td>\n",
       "      <td>2011</td>\n",
       "      <td>2011-01-01</td>\n",
       "      <td>2877219.57</td>\n",
       "      <td>2877219.57</td>\n",
       "      <td>A</td>\n",
       "      <td>Annual</td>\n",
       "      <td>IDN</td>\n",
       "    </tr>\n",
       "    <tr>\n",
       "      <th>2</th>\n",
       "      <td>annual</td>\n",
       "      <td>BI</td>\n",
       "      <td>TABEL1_1</td>\n",
       "      <td>I.1. BROAD MONEY AND ITS AFFECTING FACTORS (Bi...</td>\n",
       "      <td>1.A</td>\n",
       "      <td>Broad Money (M2) - Annual</td>\n",
       "      <td>2012</td>\n",
       "      <td>2012-01-01</td>\n",
       "      <td>3307507.55</td>\n",
       "      <td>3307507.55</td>\n",
       "      <td>A</td>\n",
       "      <td>Annual</td>\n",
       "      <td>IDN</td>\n",
       "    </tr>\n",
       "    <tr>\n",
       "      <th>3</th>\n",
       "      <td>annual</td>\n",
       "      <td>BI</td>\n",
       "      <td>TABEL1_1</td>\n",
       "      <td>I.1. BROAD MONEY AND ITS AFFECTING FACTORS (Bi...</td>\n",
       "      <td>1.A</td>\n",
       "      <td>Broad Money (M2) - Annual</td>\n",
       "      <td>2013</td>\n",
       "      <td>2013-01-01</td>\n",
       "      <td>3730409.35</td>\n",
       "      <td>3730409.35</td>\n",
       "      <td>A</td>\n",
       "      <td>Annual</td>\n",
       "      <td>IDN</td>\n",
       "    </tr>\n",
       "    <tr>\n",
       "      <th>4</th>\n",
       "      <td>annual</td>\n",
       "      <td>BI</td>\n",
       "      <td>TABEL1_1</td>\n",
       "      <td>I.1. BROAD MONEY AND ITS AFFECTING FACTORS (Bi...</td>\n",
       "      <td>1.A</td>\n",
       "      <td>Broad Money (M2) - Annual</td>\n",
       "      <td>2014</td>\n",
       "      <td>2014-01-01</td>\n",
       "      <td>4173326.5</td>\n",
       "      <td>4173326.50</td>\n",
       "      <td>A</td>\n",
       "      <td>Annual</td>\n",
       "      <td>IDN</td>\n",
       "    </tr>\n",
       "  </tbody>\n",
       "</table>\n",
       "</div>"
      ],
      "text/plain": [
       "  @frequency provider_code dataset_code  \\\n",
       "0     annual            BI     TABEL1_1   \n",
       "1     annual            BI     TABEL1_1   \n",
       "2     annual            BI     TABEL1_1   \n",
       "3     annual            BI     TABEL1_1   \n",
       "4     annual            BI     TABEL1_1   \n",
       "\n",
       "                                        dataset_name series_code  \\\n",
       "0  I.1. BROAD MONEY AND ITS AFFECTING FACTORS (Bi...         1.A   \n",
       "1  I.1. BROAD MONEY AND ITS AFFECTING FACTORS (Bi...         1.A   \n",
       "2  I.1. BROAD MONEY AND ITS AFFECTING FACTORS (Bi...         1.A   \n",
       "3  I.1. BROAD MONEY AND ITS AFFECTING FACTORS (Bi...         1.A   \n",
       "4  I.1. BROAD MONEY AND ITS AFFECTING FACTORS (Bi...         1.A   \n",
       "\n",
       "                 series_name original_period     period original_value  \\\n",
       "0  Broad Money (M2) - Annual            2010 2010-01-01     2471205.79   \n",
       "1  Broad Money (M2) - Annual            2011 2011-01-01     2877219.57   \n",
       "2  Broad Money (M2) - Annual            2012 2012-01-01     3307507.55   \n",
       "3  Broad Money (M2) - Annual            2013 2013-01-01     3730409.35   \n",
       "4  Broad Money (M2) - Annual            2014 2014-01-01      4173326.5   \n",
       "\n",
       "        value freq Frequency REF_AREA  \n",
       "0  2471205.79    A    Annual      IDN  \n",
       "1  2877219.57    A    Annual      IDN  \n",
       "2  3307507.55    A    Annual      IDN  \n",
       "3  3730409.35    A    Annual      IDN  \n",
       "4  4173326.50    A    Annual      IDN  "
      ]
     },
     "execution_count": 3,
     "metadata": {},
     "output_type": "execute_result"
    }
   ],
   "source": [
    "python_df = pd.read_pickle(\"IDN_1.pickle\")\n",
    "python_df.head()"
   ]
  },
  {
   "cell_type": "markdown",
   "id": "891b9982",
   "metadata": {},
   "source": [
    "<font size=5, font color='blue'> Check whether the two dataframes have the same number of rows, which means equal number of data points / observations. Column numbers of the two dataframes may differ due to the difference between Stata and Python APIs, and so do the order, datatypes and names of columns and the order of rows, which is why we don't require a complete match between python_df and stata_df."
   ]
  },
  {
   "cell_type": "code",
   "execution_count": 4,
   "id": "922205b2",
   "metadata": {},
   "outputs": [
    {
     "data": {
      "text/plain": [
       "True"
      ]
     },
     "execution_count": 4,
     "metadata": {},
     "output_type": "execute_result"
    }
   ],
   "source": [
    "stata_df.shape[0]==python_df.shape[0]"
   ]
  },
  {
   "cell_type": "markdown",
   "id": "2c756d80",
   "metadata": {},
   "source": [
    "<font size=5, font color='blue'> ['period_start_day'] in stata_df is the most accurate timestamp assigned to each observation (row). In python_df its equivalent is ['period'], so we rename it to match the column name in stata_df. We match the datatype of the two columns by converting both of them to pandas datetime objects. We also convert the datatype of ['value'] in stata_df to numeric."
   ]
  },
  {
   "cell_type": "code",
   "execution_count": 5,
   "id": "869e25b8",
   "metadata": {},
   "outputs": [],
   "source": [
    "python_df.rename(columns={'period':'period_start_day'},inplace=True)\n",
    "stata_df['period_start_day'] = pd.to_datetime(stata_df['period_start_day'])\n",
    "python_df['period_start_day'] = pd.to_datetime(python_df['period_start_day'])\n",
    "stata_df['value'] = pd.to_numeric(stata_df['value'],'coerce').astype('float64')"
   ]
  },
  {
   "cell_type": "markdown",
   "id": "3c8ac514",
   "metadata": {},
   "source": [
    "<font size=5, font color='blue'> Check whether ['period_start_day', 'series_code'] can identify a unique row in both stata_df and python_df, if not then there is a duplication or error in Dbnomics."
   ]
  },
  {
   "cell_type": "code",
   "execution_count": 18,
   "id": "95929551",
   "metadata": {},
   "outputs": [
    {
     "data": {
      "text/plain": [
       "False"
      ]
     },
     "execution_count": 18,
     "metadata": {},
     "output_type": "execute_result"
    }
   ],
   "source": [
    "cols = ['period_start_day', 'series_code']\n",
    "sum(stata_df.duplicated(subset=cols))+sum(python_df.duplicated(subset=cols)) == 0"
   ]
  },
  {
   "cell_type": "markdown",
   "id": "3f459f81",
   "metadata": {},
   "source": [
    "<font size=5, font color='blue'> The provider reused the same series codes in multiple datasets. So now we need ['period_start_day','series_code','dataset_code'] to identify a unique row."
   ]
  },
  {
   "cell_type": "code",
   "execution_count": 8,
   "id": "d6667cc0",
   "metadata": {},
   "outputs": [
    {
     "data": {
      "text/plain": [
       "4263"
      ]
     },
     "execution_count": 8,
     "metadata": {},
     "output_type": "execute_result"
    }
   ],
   "source": [
    "sum(python_df.duplicated(subset=cols))"
   ]
  },
  {
   "cell_type": "code",
   "execution_count": 26,
   "id": "08a95555",
   "metadata": {},
   "outputs": [
    {
     "data": {
      "text/plain": [
       "4263"
      ]
     },
     "execution_count": 26,
     "metadata": {},
     "output_type": "execute_result"
    }
   ],
   "source": [
    "sum(stata_df.duplicated(subset=cols))"
   ]
  },
  {
   "cell_type": "code",
   "execution_count": 28,
   "id": "3cd10f2b",
   "metadata": {},
   "outputs": [
    {
     "data": {
      "text/html": [
       "<div>\n",
       "<style scoped>\n",
       "    .dataframe tbody tr th:only-of-type {\n",
       "        vertical-align: middle;\n",
       "    }\n",
       "\n",
       "    .dataframe tbody tr th {\n",
       "        vertical-align: top;\n",
       "    }\n",
       "\n",
       "    .dataframe thead th {\n",
       "        text-align: right;\n",
       "    }\n",
       "</style>\n",
       "<table border=\"1\" class=\"dataframe\">\n",
       "  <thead>\n",
       "    <tr style=\"text-align: right;\">\n",
       "      <th></th>\n",
       "      <th>period</th>\n",
       "      <th>period_start_day</th>\n",
       "      <th>value</th>\n",
       "      <th>frequency</th>\n",
       "      <th>dataset_code</th>\n",
       "      <th>dataset_name</th>\n",
       "      <th>freq</th>\n",
       "      <th>indexed_at</th>\n",
       "      <th>provider_code</th>\n",
       "      <th>series_code</th>\n",
       "      <th>series_name</th>\n",
       "      <th>series_num</th>\n",
       "      <th>REF_AREA</th>\n",
       "    </tr>\n",
       "  </thead>\n",
       "  <tbody>\n",
       "    <tr>\n",
       "      <th>0</th>\n",
       "      <td>2010</td>\n",
       "      <td>2010-01-01</td>\n",
       "      <td>NaN</td>\n",
       "      <td>annual</td>\n",
       "      <td>TABEL8_1</td>\n",
       "      <td>VIII.1 COMPOSITE CONSUMER PRICE INDEX OF 82 CI...</td>\n",
       "      <td>A</td>\n",
       "      <td>2022-04-04T15:16:01.661Z</td>\n",
       "      <td>BI</td>\n",
       "      <td>1.A</td>\n",
       "      <td>Foodstuff - Annual</td>\n",
       "      <td>Master</td>\n",
       "      <td>IDN</td>\n",
       "    </tr>\n",
       "    <tr>\n",
       "      <th>531</th>\n",
       "      <td>2010</td>\n",
       "      <td>2010-01-01</td>\n",
       "      <td>4476999.76</td>\n",
       "      <td>annual</td>\n",
       "      <td>TABEL7_3</td>\n",
       "      <td>VII.3 GROSS DOMESTIC PRODUCT BY EXPENDITURES A...</td>\n",
       "      <td>A</td>\n",
       "      <td>2022-04-04T15:16:01.661Z</td>\n",
       "      <td>BI</td>\n",
       "      <td>1.A</td>\n",
       "      <td>Consumption Expenditures - Annual</td>\n",
       "      <td>Master</td>\n",
       "      <td>IDN</td>\n",
       "    </tr>\n",
       "    <tr>\n",
       "      <th>701</th>\n",
       "      <td>2010</td>\n",
       "      <td>2010-01-01</td>\n",
       "      <td>956119.70</td>\n",
       "      <td>annual</td>\n",
       "      <td>TABEL7_1</td>\n",
       "      <td>VII.1 GROSS DOMESTIC PRODUCT BY INDUSTRIAL ORI...</td>\n",
       "      <td>A</td>\n",
       "      <td>2022-04-04T15:16:01.661Z</td>\n",
       "      <td>BI</td>\n",
       "      <td>1.A</td>\n",
       "      <td>AGRICULTURE, FORESTRY AND FISHERY - Annual</td>\n",
       "      <td>Master</td>\n",
       "      <td>IDN</td>\n",
       "    </tr>\n",
       "    <tr>\n",
       "      <th>1341</th>\n",
       "      <td>2010</td>\n",
       "      <td>2010-01-01</td>\n",
       "      <td>9142.51</td>\n",
       "      <td>annual</td>\n",
       "      <td>TABEL5_40</td>\n",
       "      <td>V.40. SELECTED FOREIGN EXCHANGE MIDDLE RATES A...</td>\n",
       "      <td>A</td>\n",
       "      <td>2022-04-04T15:16:01.661Z</td>\n",
       "      <td>BI</td>\n",
       "      <td>1.A</td>\n",
       "      <td>AUD - Annual</td>\n",
       "      <td>Master</td>\n",
       "      <td>IDN</td>\n",
       "    </tr>\n",
       "    <tr>\n",
       "      <th>1441</th>\n",
       "      <td>2010</td>\n",
       "      <td>2010-01-01</td>\n",
       "      <td>5144.29</td>\n",
       "      <td>annual</td>\n",
       "      <td>TABEL5_1</td>\n",
       "      <td>V.1. INDONESIA'S BALANCE OF PAYMENTS : SUMMARY...</td>\n",
       "      <td>A</td>\n",
       "      <td>2022-04-04T15:16:01.661Z</td>\n",
       "      <td>BI</td>\n",
       "      <td>1.A</td>\n",
       "      <td>I. Current Account - Annual</td>\n",
       "      <td>Master</td>\n",
       "      <td>IDN</td>\n",
       "    </tr>\n",
       "  </tbody>\n",
       "</table>\n",
       "</div>"
      ],
      "text/plain": [
       "      period period_start_day       value frequency dataset_code  \\\n",
       "0       2010       2010-01-01         NaN    annual     TABEL8_1   \n",
       "531     2010       2010-01-01  4476999.76    annual     TABEL7_3   \n",
       "701     2010       2010-01-01   956119.70    annual     TABEL7_1   \n",
       "1341    2010       2010-01-01     9142.51    annual    TABEL5_40   \n",
       "1441    2010       2010-01-01     5144.29    annual     TABEL5_1   \n",
       "\n",
       "                                           dataset_name freq  \\\n",
       "0     VIII.1 COMPOSITE CONSUMER PRICE INDEX OF 82 CI...    A   \n",
       "531   VII.3 GROSS DOMESTIC PRODUCT BY EXPENDITURES A...    A   \n",
       "701   VII.1 GROSS DOMESTIC PRODUCT BY INDUSTRIAL ORI...    A   \n",
       "1341  V.40. SELECTED FOREIGN EXCHANGE MIDDLE RATES A...    A   \n",
       "1441  V.1. INDONESIA'S BALANCE OF PAYMENTS : SUMMARY...    A   \n",
       "\n",
       "                    indexed_at provider_code series_code  \\\n",
       "0     2022-04-04T15:16:01.661Z            BI         1.A   \n",
       "531   2022-04-04T15:16:01.661Z            BI         1.A   \n",
       "701   2022-04-04T15:16:01.661Z            BI         1.A   \n",
       "1341  2022-04-04T15:16:01.661Z            BI         1.A   \n",
       "1441  2022-04-04T15:16:01.661Z            BI         1.A   \n",
       "\n",
       "                                     series_name series_num REF_AREA  \n",
       "0                             Foodstuff - Annual     Master      IDN  \n",
       "531            Consumption Expenditures - Annual     Master      IDN  \n",
       "701   AGRICULTURE, FORESTRY AND FISHERY - Annual     Master      IDN  \n",
       "1341                                AUD - Annual     Master      IDN  \n",
       "1441                 I. Current Account - Annual     Master      IDN  "
      ]
     },
     "execution_count": 28,
     "metadata": {},
     "output_type": "execute_result"
    }
   ],
   "source": [
    "a=stata_df[stata_df.duplicated(subset=cols,keep=False)]\n",
    "a[(a['period_start_day']=='2010-01-01')&(a['series_code']=='1.A')].head()"
   ]
  },
  {
   "cell_type": "code",
   "execution_count": 29,
   "id": "22dde7fb",
   "metadata": {},
   "outputs": [
    {
     "data": {
      "text/plain": [
       "True"
      ]
     },
     "execution_count": 29,
     "metadata": {},
     "output_type": "execute_result"
    }
   ],
   "source": [
    "sum(stata_df.duplicated(subset=cols+['dataset_code']))+sum(python_df.duplicated(subset=cols+['dataset_code'])) == 0"
   ]
  },
  {
   "cell_type": "markdown",
   "id": "2c3b0bad",
   "metadata": {},
   "source": [
    "<font size=5, font color='blue'> Then we sort the two dataframes by ['period_start_day', 'series_code', 'dataset_code']. This ensures observations in the two dataframes are in the same order. Finally we check whether the two sub-frames [['period_start_day','series_code','dataset_code','value']] sliced from stata_df and python_df are exactly the same."
   ]
  },
  {
   "cell_type": "code",
   "execution_count": 30,
   "id": "be99fb77",
   "metadata": {},
   "outputs": [
    {
     "data": {
      "text/plain": [
       "True"
      ]
     },
     "execution_count": 30,
     "metadata": {},
     "output_type": "execute_result"
    }
   ],
   "source": [
    "stata_sub = stata_df.sort_values(by=cols+['dataset_code'])[cols+['value']].reset_index(drop=True)\n",
    "python_sub = python_df.sort_values(by=cols+['dataset_code'])[cols+['value']].reset_index(drop=True)\n",
    "stata_sub.equals(python_sub)"
   ]
  }
 ],
 "metadata": {
  "kernelspec": {
   "display_name": "Python 3 (ipykernel)",
   "language": "python",
   "name": "python3"
  },
  "language_info": {
   "codemirror_mode": {
    "name": "ipython",
    "version": 3
   },
   "file_extension": ".py",
   "mimetype": "text/x-python",
   "name": "python",
   "nbconvert_exporter": "python",
   "pygments_lexer": "ipython3",
   "version": "3.11.7"
  },
  "toc": {
   "base_numbering": 1,
   "nav_menu": {},
   "number_sections": true,
   "sideBar": true,
   "skip_h1_title": false,
   "title_cell": "Table of Contents",
   "title_sidebar": "Contents",
   "toc_cell": false,
   "toc_position": {},
   "toc_section_display": true,
   "toc_window_display": false
  }
 },
 "nbformat": 4,
 "nbformat_minor": 5
}
