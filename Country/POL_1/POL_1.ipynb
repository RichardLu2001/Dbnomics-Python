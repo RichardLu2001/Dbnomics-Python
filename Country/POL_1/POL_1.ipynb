{
 "cells": [
  {
   "cell_type": "code",
   "execution_count": 3,
   "id": "81cd83d3",
   "metadata": {},
   "outputs": [],
   "source": [
    "import pandas as pd\n",
    "\n",
    "from dbnomics import fetch_series, fetch_series_by_api_link\n",
    "\n",
    "import warnings\n",
    "warnings.filterwarnings(\"ignore\", category=FutureWarning)"
   ]
  },
  {
   "cell_type": "code",
   "execution_count": 2,
   "id": "7c0fe158",
   "metadata": {},
   "outputs": [],
   "source": [
    "datasets = ['ABOP','AFT','AGG','APF','AINV','AMON','ANA','APOP','APRI']"
   ]
  },
  {
   "cell_type": "code",
   "execution_count": 4,
   "id": "bf0a7004",
   "metadata": {},
   "outputs": [
    {
     "data": {
      "text/html": [
       "<div>\n",
       "<style scoped>\n",
       "    .dataframe tbody tr th:only-of-type {\n",
       "        vertical-align: middle;\n",
       "    }\n",
       "\n",
       "    .dataframe tbody tr th {\n",
       "        vertical-align: top;\n",
       "    }\n",
       "\n",
       "    .dataframe thead th {\n",
       "        text-align: right;\n",
       "    }\n",
       "</style>\n",
       "<table border=\"1\" class=\"dataframe\">\n",
       "  <thead>\n",
       "    <tr style=\"text-align: right;\">\n",
       "      <th></th>\n",
       "      <th>@frequency</th>\n",
       "      <th>provider_code</th>\n",
       "      <th>dataset_code</th>\n",
       "      <th>dataset_name</th>\n",
       "      <th>series_code</th>\n",
       "      <th>series_name</th>\n",
       "      <th>original_period</th>\n",
       "      <th>period</th>\n",
       "      <th>original_value</th>\n",
       "      <th>value</th>\n",
       "      <th>FREQ</th>\n",
       "      <th>Frequency</th>\n",
       "    </tr>\n",
       "  </thead>\n",
       "  <tbody>\n",
       "    <tr>\n",
       "      <th>0</th>\n",
       "      <td>annual</td>\n",
       "      <td>STATPOL</td>\n",
       "      <td>ABOP</td>\n",
       "      <td>BALANCE OF PAYMENTS</td>\n",
       "      <td>ABOP-10</td>\n",
       "      <td>Current account of the balance of payments - b...</td>\n",
       "      <td>2000</td>\n",
       "      <td>2000-01-01</td>\n",
       "      <td>NA</td>\n",
       "      <td>NaN</td>\n",
       "      <td>A</td>\n",
       "      <td>Annually</td>\n",
       "    </tr>\n",
       "    <tr>\n",
       "      <th>1</th>\n",
       "      <td>annual</td>\n",
       "      <td>STATPOL</td>\n",
       "      <td>ABOP</td>\n",
       "      <td>BALANCE OF PAYMENTS</td>\n",
       "      <td>ABOP-10</td>\n",
       "      <td>Current account of the balance of payments - b...</td>\n",
       "      <td>2001</td>\n",
       "      <td>2001-01-01</td>\n",
       "      <td>NA</td>\n",
       "      <td>NaN</td>\n",
       "      <td>A</td>\n",
       "      <td>Annually</td>\n",
       "    </tr>\n",
       "    <tr>\n",
       "      <th>2</th>\n",
       "      <td>annual</td>\n",
       "      <td>STATPOL</td>\n",
       "      <td>ABOP</td>\n",
       "      <td>BALANCE OF PAYMENTS</td>\n",
       "      <td>ABOP-10</td>\n",
       "      <td>Current account of the balance of payments - b...</td>\n",
       "      <td>2002</td>\n",
       "      <td>2002-01-01</td>\n",
       "      <td>NA</td>\n",
       "      <td>NaN</td>\n",
       "      <td>A</td>\n",
       "      <td>Annually</td>\n",
       "    </tr>\n",
       "    <tr>\n",
       "      <th>3</th>\n",
       "      <td>annual</td>\n",
       "      <td>STATPOL</td>\n",
       "      <td>ABOP</td>\n",
       "      <td>BALANCE OF PAYMENTS</td>\n",
       "      <td>ABOP-10</td>\n",
       "      <td>Current account of the balance of payments - b...</td>\n",
       "      <td>2003</td>\n",
       "      <td>2003-01-01</td>\n",
       "      <td>NA</td>\n",
       "      <td>NaN</td>\n",
       "      <td>A</td>\n",
       "      <td>Annually</td>\n",
       "    </tr>\n",
       "    <tr>\n",
       "      <th>4</th>\n",
       "      <td>annual</td>\n",
       "      <td>STATPOL</td>\n",
       "      <td>ABOP</td>\n",
       "      <td>BALANCE OF PAYMENTS</td>\n",
       "      <td>ABOP-10</td>\n",
       "      <td>Current account of the balance of payments - b...</td>\n",
       "      <td>2004</td>\n",
       "      <td>2004-01-01</td>\n",
       "      <td>-6483.0</td>\n",
       "      <td>-6483.0</td>\n",
       "      <td>A</td>\n",
       "      <td>Annually</td>\n",
       "    </tr>\n",
       "  </tbody>\n",
       "</table>\n",
       "</div>"
      ],
      "text/plain": [
       "  @frequency provider_code dataset_code         dataset_name series_code  \\\n",
       "0     annual       STATPOL         ABOP  BALANCE OF PAYMENTS     ABOP-10   \n",
       "1     annual       STATPOL         ABOP  BALANCE OF PAYMENTS     ABOP-10   \n",
       "2     annual       STATPOL         ABOP  BALANCE OF PAYMENTS     ABOP-10   \n",
       "3     annual       STATPOL         ABOP  BALANCE OF PAYMENTS     ABOP-10   \n",
       "4     annual       STATPOL         ABOP  BALANCE OF PAYMENTS     ABOP-10   \n",
       "\n",
       "                                         series_name original_period  \\\n",
       "0  Current account of the balance of payments - b...            2000   \n",
       "1  Current account of the balance of payments - b...            2001   \n",
       "2  Current account of the balance of payments - b...            2002   \n",
       "3  Current account of the balance of payments - b...            2003   \n",
       "4  Current account of the balance of payments - b...            2004   \n",
       "\n",
       "      period original_value   value FREQ Frequency  \n",
       "0 2000-01-01             NA     NaN    A  Annually  \n",
       "1 2001-01-01             NA     NaN    A  Annually  \n",
       "2 2002-01-01             NA     NaN    A  Annually  \n",
       "3 2003-01-01             NA     NaN    A  Annually  \n",
       "4 2004-01-01        -6483.0 -6483.0    A  Annually  "
      ]
     },
     "execution_count": 4,
     "metadata": {},
     "output_type": "execute_result"
    }
   ],
   "source": [
    "dataframes = [fetch_series(\"STATPOL\", dataset, dimensions={\"FREQ\": ['A']}, max_nb_series=1000000) for dataset in datasets]\n",
    "df = pd.concat(dataframes, ignore_index=True)\n",
    "df.head()"
   ]
  },
  {
   "cell_type": "code",
   "execution_count": 5,
   "id": "dd0e24a1",
   "metadata": {},
   "outputs": [],
   "source": [
    "df.to_csv('POL_1.csv')"
   ]
  },
  {
   "cell_type": "code",
   "execution_count": 6,
   "id": "c98d8bf7",
   "metadata": {},
   "outputs": [],
   "source": [
    "df.to_pickle('POL_1.pickle')"
   ]
  },
  {
   "cell_type": "code",
   "execution_count": 7,
   "id": "46891f61",
   "metadata": {},
   "outputs": [
    {
     "data": {
      "text/plain": [
       "True"
      ]
     },
     "execution_count": 7,
     "metadata": {},
     "output_type": "execute_result"
    }
   ],
   "source": [
    "df1 = pd.read_pickle('POL_1.pickle')\n",
    "df1.equals(df)"
   ]
  },
  {
   "cell_type": "code",
   "execution_count": null,
   "id": "f2ba8e0c",
   "metadata": {},
   "outputs": [],
   "source": []
  }
 ],
 "metadata": {
  "kernelspec": {
   "display_name": "Python 3 (ipykernel)",
   "language": "python",
   "name": "python3"
  },
  "language_info": {
   "codemirror_mode": {
    "name": "ipython",
    "version": 3
   },
   "file_extension": ".py",
   "mimetype": "text/x-python",
   "name": "python",
   "nbconvert_exporter": "python",
   "pygments_lexer": "ipython3",
   "version": "3.11.7"
  },
  "toc": {
   "base_numbering": 1,
   "nav_menu": {},
   "number_sections": true,
   "sideBar": true,
   "skip_h1_title": false,
   "title_cell": "Table of Contents",
   "title_sidebar": "Contents",
   "toc_cell": false,
   "toc_position": {},
   "toc_section_display": true,
   "toc_window_display": false
  }
 },
 "nbformat": 4,
 "nbformat_minor": 5
}
