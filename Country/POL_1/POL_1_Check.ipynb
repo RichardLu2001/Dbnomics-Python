{
 "cells": [
  {
   "cell_type": "markdown",
   "id": "6c8ace8a",
   "metadata": {},
   "source": [
    "<font size=5, font color='blue'> stata_df is the dataframe downloaded through Stata API"
   ]
  },
  {
   "cell_type": "code",
   "execution_count": 46,
   "id": "47406cda",
   "metadata": {
    "scrolled": false
   },
   "outputs": [
    {
     "data": {
      "text/html": [
       "<div>\n",
       "<style scoped>\n",
       "    .dataframe tbody tr th:only-of-type {\n",
       "        vertical-align: middle;\n",
       "    }\n",
       "\n",
       "    .dataframe tbody tr th {\n",
       "        vertical-align: top;\n",
       "    }\n",
       "\n",
       "    .dataframe thead th {\n",
       "        text-align: right;\n",
       "    }\n",
       "</style>\n",
       "<table border=\"1\" class=\"dataframe\">\n",
       "  <thead>\n",
       "    <tr style=\"text-align: right;\">\n",
       "      <th></th>\n",
       "      <th>period</th>\n",
       "      <th>period_start_day</th>\n",
       "      <th>value</th>\n",
       "      <th>frequency</th>\n",
       "      <th>dataset_code</th>\n",
       "      <th>dataset_name</th>\n",
       "      <th>freq</th>\n",
       "      <th>indexed_at</th>\n",
       "      <th>provider_code</th>\n",
       "      <th>series_code</th>\n",
       "      <th>series_name</th>\n",
       "      <th>series_num</th>\n",
       "      <th>ISO3</th>\n",
       "    </tr>\n",
       "  </thead>\n",
       "  <tbody>\n",
       "    <tr>\n",
       "      <th>0</th>\n",
       "      <td>1989</td>\n",
       "      <td>1989-01-01</td>\n",
       "      <td>NA</td>\n",
       "      <td>annual</td>\n",
       "      <td>APRI</td>\n",
       "      <td>PRICE INDICES</td>\n",
       "      <td>A</td>\n",
       "      <td>2022-04-04T17:35:14.723Z</td>\n",
       "      <td>STATPOL</td>\n",
       "      <td>APRI-10</td>\n",
       "      <td>Price indices of consumer goods and services -...</td>\n",
       "      <td>Master</td>\n",
       "      <td>POL</td>\n",
       "    </tr>\n",
       "    <tr>\n",
       "      <th>1</th>\n",
       "      <td>1990</td>\n",
       "      <td>1990-01-01</td>\n",
       "      <td>NA</td>\n",
       "      <td>annual</td>\n",
       "      <td>APRI</td>\n",
       "      <td>PRICE INDICES</td>\n",
       "      <td>A</td>\n",
       "      <td>2022-04-04T17:35:14.723Z</td>\n",
       "      <td>STATPOL</td>\n",
       "      <td>APRI-10</td>\n",
       "      <td>Price indices of consumer goods and services -...</td>\n",
       "      <td>Master</td>\n",
       "      <td>POL</td>\n",
       "    </tr>\n",
       "    <tr>\n",
       "      <th>2</th>\n",
       "      <td>1991</td>\n",
       "      <td>1991-01-01</td>\n",
       "      <td>NA</td>\n",
       "      <td>annual</td>\n",
       "      <td>APRI</td>\n",
       "      <td>PRICE INDICES</td>\n",
       "      <td>A</td>\n",
       "      <td>2022-04-04T17:35:14.723Z</td>\n",
       "      <td>STATPOL</td>\n",
       "      <td>APRI-10</td>\n",
       "      <td>Price indices of consumer goods and services -...</td>\n",
       "      <td>Master</td>\n",
       "      <td>POL</td>\n",
       "    </tr>\n",
       "    <tr>\n",
       "      <th>3</th>\n",
       "      <td>1992</td>\n",
       "      <td>1992-01-01</td>\n",
       "      <td>NA</td>\n",
       "      <td>annual</td>\n",
       "      <td>APRI</td>\n",
       "      <td>PRICE INDICES</td>\n",
       "      <td>A</td>\n",
       "      <td>2022-04-04T17:35:14.723Z</td>\n",
       "      <td>STATPOL</td>\n",
       "      <td>APRI-10</td>\n",
       "      <td>Price indices of consumer goods and services -...</td>\n",
       "      <td>Master</td>\n",
       "      <td>POL</td>\n",
       "    </tr>\n",
       "    <tr>\n",
       "      <th>4</th>\n",
       "      <td>1993</td>\n",
       "      <td>1993-01-01</td>\n",
       "      <td>NA</td>\n",
       "      <td>annual</td>\n",
       "      <td>APRI</td>\n",
       "      <td>PRICE INDICES</td>\n",
       "      <td>A</td>\n",
       "      <td>2022-04-04T17:35:14.723Z</td>\n",
       "      <td>STATPOL</td>\n",
       "      <td>APRI-10</td>\n",
       "      <td>Price indices of consumer goods and services -...</td>\n",
       "      <td>Master</td>\n",
       "      <td>POL</td>\n",
       "    </tr>\n",
       "  </tbody>\n",
       "</table>\n",
       "</div>"
      ],
      "text/plain": [
       "   period period_start_day value frequency dataset_code   dataset_name freq  \\\n",
       "0    1989       1989-01-01    NA    annual         APRI  PRICE INDICES    A   \n",
       "1    1990       1990-01-01    NA    annual         APRI  PRICE INDICES    A   \n",
       "2    1991       1991-01-01    NA    annual         APRI  PRICE INDICES    A   \n",
       "3    1992       1992-01-01    NA    annual         APRI  PRICE INDICES    A   \n",
       "4    1993       1993-01-01    NA    annual         APRI  PRICE INDICES    A   \n",
       "\n",
       "                 indexed_at provider_code series_code  \\\n",
       "0  2022-04-04T17:35:14.723Z       STATPOL     APRI-10   \n",
       "1  2022-04-04T17:35:14.723Z       STATPOL     APRI-10   \n",
       "2  2022-04-04T17:35:14.723Z       STATPOL     APRI-10   \n",
       "3  2022-04-04T17:35:14.723Z       STATPOL     APRI-10   \n",
       "4  2022-04-04T17:35:14.723Z       STATPOL     APRI-10   \n",
       "\n",
       "                                         series_name series_num ISO3  \n",
       "0  Price indices of consumer goods and services -...     Master  POL  \n",
       "1  Price indices of consumer goods and services -...     Master  POL  \n",
       "2  Price indices of consumer goods and services -...     Master  POL  \n",
       "3  Price indices of consumer goods and services -...     Master  POL  \n",
       "4  Price indices of consumer goods and services -...     Master  POL  "
      ]
     },
     "execution_count": 46,
     "metadata": {},
     "output_type": "execute_result"
    }
   ],
   "source": [
    "import pandas as pd\n",
    "pd.options.mode.chained_assignment = None\n",
    "\n",
    "stata_df = pd.read_stata(\"POL_1.dta\")\n",
    "stata_df.head()"
   ]
  },
  {
   "cell_type": "markdown",
   "id": "12314c37",
   "metadata": {},
   "source": [
    "<font size=5, font color='blue'> python_df is the dataframe downloaded through Python API. "
   ]
  },
  {
   "cell_type": "code",
   "execution_count": 47,
   "id": "20b37bca",
   "metadata": {},
   "outputs": [
    {
     "data": {
      "text/html": [
       "<div>\n",
       "<style scoped>\n",
       "    .dataframe tbody tr th:only-of-type {\n",
       "        vertical-align: middle;\n",
       "    }\n",
       "\n",
       "    .dataframe tbody tr th {\n",
       "        vertical-align: top;\n",
       "    }\n",
       "\n",
       "    .dataframe thead th {\n",
       "        text-align: right;\n",
       "    }\n",
       "</style>\n",
       "<table border=\"1\" class=\"dataframe\">\n",
       "  <thead>\n",
       "    <tr style=\"text-align: right;\">\n",
       "      <th></th>\n",
       "      <th>@frequency</th>\n",
       "      <th>provider_code</th>\n",
       "      <th>dataset_code</th>\n",
       "      <th>dataset_name</th>\n",
       "      <th>series_code</th>\n",
       "      <th>series_name</th>\n",
       "      <th>original_period</th>\n",
       "      <th>period</th>\n",
       "      <th>original_value</th>\n",
       "      <th>value</th>\n",
       "      <th>FREQ</th>\n",
       "      <th>Frequency</th>\n",
       "    </tr>\n",
       "  </thead>\n",
       "  <tbody>\n",
       "    <tr>\n",
       "      <th>0</th>\n",
       "      <td>annual</td>\n",
       "      <td>STATPOL</td>\n",
       "      <td>ABOP</td>\n",
       "      <td>BALANCE OF PAYMENTS</td>\n",
       "      <td>ABOP-10</td>\n",
       "      <td>Current account of the balance of payments - b...</td>\n",
       "      <td>2000</td>\n",
       "      <td>2000-01-01</td>\n",
       "      <td>NA</td>\n",
       "      <td>NaN</td>\n",
       "      <td>A</td>\n",
       "      <td>Annually</td>\n",
       "    </tr>\n",
       "    <tr>\n",
       "      <th>1</th>\n",
       "      <td>annual</td>\n",
       "      <td>STATPOL</td>\n",
       "      <td>ABOP</td>\n",
       "      <td>BALANCE OF PAYMENTS</td>\n",
       "      <td>ABOP-10</td>\n",
       "      <td>Current account of the balance of payments - b...</td>\n",
       "      <td>2001</td>\n",
       "      <td>2001-01-01</td>\n",
       "      <td>NA</td>\n",
       "      <td>NaN</td>\n",
       "      <td>A</td>\n",
       "      <td>Annually</td>\n",
       "    </tr>\n",
       "    <tr>\n",
       "      <th>2</th>\n",
       "      <td>annual</td>\n",
       "      <td>STATPOL</td>\n",
       "      <td>ABOP</td>\n",
       "      <td>BALANCE OF PAYMENTS</td>\n",
       "      <td>ABOP-10</td>\n",
       "      <td>Current account of the balance of payments - b...</td>\n",
       "      <td>2002</td>\n",
       "      <td>2002-01-01</td>\n",
       "      <td>NA</td>\n",
       "      <td>NaN</td>\n",
       "      <td>A</td>\n",
       "      <td>Annually</td>\n",
       "    </tr>\n",
       "    <tr>\n",
       "      <th>3</th>\n",
       "      <td>annual</td>\n",
       "      <td>STATPOL</td>\n",
       "      <td>ABOP</td>\n",
       "      <td>BALANCE OF PAYMENTS</td>\n",
       "      <td>ABOP-10</td>\n",
       "      <td>Current account of the balance of payments - b...</td>\n",
       "      <td>2003</td>\n",
       "      <td>2003-01-01</td>\n",
       "      <td>NA</td>\n",
       "      <td>NaN</td>\n",
       "      <td>A</td>\n",
       "      <td>Annually</td>\n",
       "    </tr>\n",
       "    <tr>\n",
       "      <th>4</th>\n",
       "      <td>annual</td>\n",
       "      <td>STATPOL</td>\n",
       "      <td>ABOP</td>\n",
       "      <td>BALANCE OF PAYMENTS</td>\n",
       "      <td>ABOP-10</td>\n",
       "      <td>Current account of the balance of payments - b...</td>\n",
       "      <td>2004</td>\n",
       "      <td>2004-01-01</td>\n",
       "      <td>-6483.0</td>\n",
       "      <td>-6483.0</td>\n",
       "      <td>A</td>\n",
       "      <td>Annually</td>\n",
       "    </tr>\n",
       "  </tbody>\n",
       "</table>\n",
       "</div>"
      ],
      "text/plain": [
       "  @frequency provider_code dataset_code         dataset_name series_code  \\\n",
       "0     annual       STATPOL         ABOP  BALANCE OF PAYMENTS     ABOP-10   \n",
       "1     annual       STATPOL         ABOP  BALANCE OF PAYMENTS     ABOP-10   \n",
       "2     annual       STATPOL         ABOP  BALANCE OF PAYMENTS     ABOP-10   \n",
       "3     annual       STATPOL         ABOP  BALANCE OF PAYMENTS     ABOP-10   \n",
       "4     annual       STATPOL         ABOP  BALANCE OF PAYMENTS     ABOP-10   \n",
       "\n",
       "                                         series_name original_period  \\\n",
       "0  Current account of the balance of payments - b...            2000   \n",
       "1  Current account of the balance of payments - b...            2001   \n",
       "2  Current account of the balance of payments - b...            2002   \n",
       "3  Current account of the balance of payments - b...            2003   \n",
       "4  Current account of the balance of payments - b...            2004   \n",
       "\n",
       "      period original_value   value FREQ Frequency  \n",
       "0 2000-01-01             NA     NaN    A  Annually  \n",
       "1 2001-01-01             NA     NaN    A  Annually  \n",
       "2 2002-01-01             NA     NaN    A  Annually  \n",
       "3 2003-01-01             NA     NaN    A  Annually  \n",
       "4 2004-01-01        -6483.0 -6483.0    A  Annually  "
      ]
     },
     "execution_count": 47,
     "metadata": {},
     "output_type": "execute_result"
    }
   ],
   "source": [
    "python_df = pd.read_pickle(\"POL_1.pickle\")\n",
    "python_df.head()"
   ]
  },
  {
   "cell_type": "markdown",
   "id": "891b9982",
   "metadata": {},
   "source": [
    "<font size=5, font color='blue'> Check whether the two dataframes have the same number of rows, which means equal number of data points / observations. Column numbers of the two dataframes may differ due to the difference between Stata and Python APIs, and so do the order, datatypes and names of columns and the order of rows, which is why we don't require a complete match between python_df and stata_df."
   ]
  },
  {
   "cell_type": "code",
   "execution_count": 48,
   "id": "922205b2",
   "metadata": {},
   "outputs": [
    {
     "data": {
      "text/plain": [
       "True"
      ]
     },
     "execution_count": 48,
     "metadata": {},
     "output_type": "execute_result"
    }
   ],
   "source": [
    "stata_df.shape[0]==python_df.shape[0]"
   ]
  },
  {
   "cell_type": "markdown",
   "id": "2c756d80",
   "metadata": {},
   "source": [
    "<font size=5, font color='blue'> ['period_start_day'] in stata_df is the most accurate timestamp assigned to each observation (row). In python_df its equivalent is ['period'], so we rename it to match the column name in stata_df. We match the datatype of the two columns by converting both of them to pandas datetime objects. We also convert the datatype of ['value'] in stata_df to numeric."
   ]
  },
  {
   "cell_type": "code",
   "execution_count": 49,
   "id": "869e25b8",
   "metadata": {},
   "outputs": [],
   "source": [
    "python_df.rename(columns={'period':'period_start_day'},inplace=True)\n",
    "stata_df['period_start_day'] = pd.to_datetime(stata_df['period_start_day'])\n",
    "python_df['period_start_day'] = pd.to_datetime(python_df['period_start_day'])\n",
    "stata_df['value'] = pd.to_numeric(stata_df['value'],'coerce').astype('float64')\n",
    "python_df['value'] = python_df['value'].astype('float64')"
   ]
  },
  {
   "cell_type": "markdown",
   "id": "3c8ac514",
   "metadata": {},
   "source": [
    "<font size=5, font color='blue'> Check whether ['period_start_day', 'series_code'] can identify a unique row in both stata_df and python_df, if not then there is a duplication or error in Dbnomics."
   ]
  },
  {
   "cell_type": "code",
   "execution_count": 50,
   "id": "95929551",
   "metadata": {},
   "outputs": [
    {
     "data": {
      "text/plain": [
       "True"
      ]
     },
     "execution_count": 50,
     "metadata": {},
     "output_type": "execute_result"
    }
   ],
   "source": [
    "cols = ['period_start_day', 'series_code']\n",
    "sum(stata_df.duplicated(subset=cols))+sum(python_df.duplicated(subset=cols)) == 0"
   ]
  },
  {
   "cell_type": "markdown",
   "id": "2c3b0bad",
   "metadata": {},
   "source": [
    "<font size=5, font color='blue'> Then we sort the two dataframes by ['period_start_day', 'series_code']. This ensures observations in the two dataframes are in the same order. Finally we check whether the two sub-frames [['period_start_day','series_code','value']] sliced from stata_df and python_df are exactly the same."
   ]
  },
  {
   "cell_type": "code",
   "execution_count": 51,
   "id": "be99fb77",
   "metadata": {},
   "outputs": [
    {
     "data": {
      "text/plain": [
       "False"
      ]
     },
     "execution_count": 51,
     "metadata": {},
     "output_type": "execute_result"
    }
   ],
   "source": [
    "stata_sub = stata_df.sort_values(by=cols)[cols+['value']].reset_index(drop=True)\n",
    "python_sub = python_df.sort_values(by=cols)[cols+['value']].reset_index(drop=True)\n",
    "stata_sub.equals(python_sub)"
   ]
  },
  {
   "cell_type": "markdown",
   "id": "5740262d",
   "metadata": {},
   "source": [
    "<font size=5, font color='blue'> Stata_df fails to download ['value'] for AFT and AGG series while python_df succeeds"
   ]
  },
  {
   "cell_type": "code",
   "execution_count": 42,
   "id": "8868fbfb",
   "metadata": {
    "scrolled": true
   },
   "outputs": [
    {
     "name": "stdout",
     "output_type": "stream",
     "text": [
      "[1, 6, 7, 9, 10, 12, 13, 15, 18, 171, 176, 177, 179, 180, 182, 183, 185, 188, 341, 346, 347, 349, 350, 352, 353, 355, 358, 511, 516, 517, 519, 520, 522, 523, 525, 528, 681, 686, 687, 689, 690, 692, 693, 695, 697, 698, 851, 856, 857, 859, 860, 862, 863, 865, 867, 868, 1021, 1026, 1027, 1029, 1030, 1032, 1033, 1035, 1036, 1037, 1038, 1042, 1043, 1044, 1045, 1046, 1047, 1048, 1049, 1050, 1051, 1432, 1437, 1438, 1440, 1441, 1443, 1444, 1446, 1447, 1448, 1449, 1453, 1454, 1455, 1456, 1457, 1458, 1459, 1460, 1461, 1462, 1843, 1848, 1849, 1851, 1852, 1854, 1855, 1857, 1858, 1859, 1860, 1864, 1865, 1866, 1867, 1868, 1869, 1870, 1871, 1872, 1873, 2254, 2259, 2260, 2262, 2263, 2265, 2266, 2268, 2269, 2270, 2271, 2275, 2276, 2277, 2278, 2279, 2280, 2281, 2282, 2283, 2284, 2665, 2670, 2671, 2672, 2673, 2674, 2675, 2676, 2677, 2678, 2679, 2680, 2681, 2682, 2686, 2687, 2688, 2689, 2690, 2691, 2692, 2693, 2694, 2695, 3094, 3095, 3096, 3099, 3100, 3101, 3102, 3103, 3104, 3105, 3106, 3107, 3108, 3109, 3110, 3111, 3112, 3113, 3115, 3116, 3117, 3118, 3119, 3120, 3121, 3122, 3123, 3124, 3580, 3581, 3582, 3585, 3586, 3587, 3588, 3589, 3590, 3591, 3592, 3593, 3594, 3595, 3596, 3597, 3598, 3599, 3601, 3602, 3603, 3604, 3605, 3606, 3607, 3608, 3609, 3610, 4066, 4067, 4068, 4071, 4072, 4073, 4074, 4075, 4076, 4077, 4078, 4079, 4080, 4081, 4082, 4083, 4084, 4085, 4087, 4088, 4089, 4090, 4091, 4092, 4093, 4094, 4095, 4096, 4552, 4553, 4554, 4557, 4558, 4559, 4560, 4561, 4562, 4563, 4564, 4565, 4566, 4567, 4568, 4569, 4570, 4571, 4573, 4574, 4575, 4576, 4577, 4578, 4579, 4580, 4581, 4582, 5019, 5020, 5021, 5022, 5023, 5024, 5025, 5026, 5027, 5028, 5029, 5030, 5031, 5032, 5033, 5034, 5035, 5036, 5038, 5039, 5040, 5043, 5044, 5045, 5046, 5047, 5048, 5049, 5050, 5051, 5052, 5053, 5054, 5055, 5056, 5057, 5059, 5060, 5061, 5062, 5063, 5064, 5065, 5066, 5067, 5068, 5505, 5506, 5507, 5508, 5509, 5510, 5511, 5512, 5513, 5514, 5515, 5516, 5517, 5518, 5519, 5520, 5521, 5522, 5524, 5525, 5526, 5529, 5530, 5531, 5532, 5533, 5534, 5535, 5536, 5537, 5538, 5539, 5540, 5541, 5542, 5543, 5545, 5546, 5547, 5548, 5549, 5550, 5551, 5552, 5553, 5554, 5991, 5992, 5993, 5994, 5995, 5996, 5997, 5998, 5999, 6000, 6001, 6002, 6003, 6004, 6005, 6006, 6007, 6008, 6010, 6011, 6012, 6015, 6016, 6017, 6018, 6019, 6020, 6021, 6022, 6023, 6024, 6025, 6026, 6027, 6028, 6029, 6031, 6032, 6033, 6034, 6035, 6036, 6037, 6038, 6039, 6040, 6477, 6478, 6479, 6480, 6481, 6482, 6483, 6484, 6485, 6486, 6487, 6488, 6489, 6490, 6491, 6492, 6493, 6494, 6496, 6497, 6498, 6501, 6502, 6503, 6504, 6505, 6506, 6507, 6508, 6509, 6510, 6511, 6512, 6513, 6514, 6515, 6517, 6518, 6519, 6520, 6521, 6522, 6523, 6524, 6525, 6526, 6963, 6964, 6965, 6966, 6967, 6968, 6969, 6970, 6971, 6972, 6973, 6974, 6975, 6976, 6977, 6978, 6979, 6980, 6982, 6983, 6984, 6987, 6988, 6989, 6990, 6991, 6992, 6993, 6994, 6995, 6996, 6997, 6998, 6999, 7000, 7001, 7003, 7004, 7005, 7006, 7007, 7008, 7009, 7010, 7011, 7012, 7449, 7450, 7451, 7452, 7453, 7454, 7455, 7456, 7457, 7458, 7459, 7460, 7461, 7462, 7463, 7464, 7465, 7466, 7468, 7469, 7470, 7473, 7474, 7475, 7476, 7477, 7478, 7479, 7480, 7481, 7482, 7483, 7484, 7485, 7486, 7487, 7489, 7490, 7491, 7492, 7493, 7494, 7495, 7496, 7497, 7498, 7935, 7936, 7937, 7938, 7939, 7940, 7941, 7942, 7943, 7944, 7945, 7946, 7947, 7948, 7949, 7950, 7951, 7952, 7954, 7955, 7956, 7957, 7959, 7960, 7961, 7962, 7963, 7964, 7965, 7966, 7967, 7968, 7969, 7970, 7971, 7972, 7973, 7974, 7975, 7976, 7977, 7978, 7979, 7980, 7981, 7982, 7983, 7984, 8421, 8422, 8423, 8424, 8425, 8426, 8427, 8428, 8429, 8430, 8431, 8432, 8433, 8434, 8435, 8436, 8437, 8438, 8440, 8441, 8442, 8443, 8445, 8446, 8447, 8448, 8449, 8450, 8451, 8452, 8453, 8454, 8455, 8456, 8457, 8458, 8459, 8460, 8461, 8462, 8463, 8464, 8465, 8466, 8467, 8468, 8469, 8470, 8907, 8908, 8909, 8910, 8911, 8912, 8913, 8914, 8915, 8916, 8917, 8918, 8919, 8920, 8921, 8922, 8923, 8924, 8926, 8927, 8928, 8929, 8931, 8932, 8933, 8934, 8935, 8936, 8937, 8938, 8939, 8940, 8941, 8942, 8943, 8944, 8945, 8946, 8947, 8948, 8949, 8950, 8951, 8952, 8953, 8954, 8955, 8956, 9393, 9394, 9395, 9396, 9397, 9398, 9399, 9400, 9401, 9402, 9403, 9404, 9405, 9406, 9407, 9408, 9409, 9410, 9412, 9413, 9414, 9415, 9417, 9418, 9419, 9420, 9421, 9422, 9423, 9424, 9425, 9426, 9427, 9428, 9429, 9430, 9431, 9432, 9433, 9434, 9435, 9436, 9437, 9438, 9439, 9440, 9441, 9442, 9879, 9880, 9881, 9882, 9883, 9884, 9885, 9886, 9887, 9888, 9889, 9890, 9891, 9892, 9893, 9894, 9895, 9896, 9898, 9899, 9900, 9901, 9903, 9904, 9905, 9906, 9907, 9908, 9909, 9910, 9911, 9912, 9913, 9914, 9915, 9916, 9917, 9918, 9919, 9920, 9921, 9922, 9923, 9924, 9925, 9926, 9927, 9928, 10365, 10366, 10367, 10368, 10369, 10370, 10371, 10372, 10373, 10374, 10375, 10376, 10377, 10378, 10379, 10380, 10381, 10382, 10383, 10384, 10385, 10386, 10387, 10388, 10389, 10390, 10391, 10392, 10393, 10394, 10395, 10396, 10397, 10398, 10399, 10400, 10401, 10402, 10403, 10404, 10405, 10406, 10407, 10408, 10409, 10410, 10411, 10412, 10413, 10414, 10851, 10852, 10853, 10854, 10855, 10856, 10857, 10858, 10859, 10860, 10861, 10862, 10863, 10864, 10865, 10866, 10867, 10868, 10869, 10870, 10871, 10872, 10873, 10874, 10875, 10876, 10877, 10878, 10879, 10880, 10881, 10882, 10883, 10884, 10885, 10886, 10887, 10888, 10889, 10890, 10891, 10892, 10893, 10894, 10895, 10896, 10897, 10898, 10899, 10900, 11337, 11338, 11339, 11340, 11341, 11342, 11343, 11344, 11345, 11346, 11347, 11348, 11349, 11350, 11351, 11352, 11353, 11354, 11355, 11356, 11357, 11358, 11359, 11360, 11361, 11362, 11363, 11364, 11365, 11366, 11367, 11368, 11369, 11370, 11371, 11372, 11373, 11374, 11375, 11376, 11377, 11378, 11379, 11380, 11381, 11382, 11383, 11384, 11385, 11386, 11823, 11824, 11825, 11826, 11827, 11828, 11829, 11830, 11831, 11832, 11833, 11834, 11835, 11836, 11837, 11838, 11839, 11840, 11841, 11842, 11843, 11844, 11845, 11846, 11847, 11848, 11849, 11850, 11851, 11852, 11853, 11854, 11855, 11856, 11857, 11858, 11859, 11860, 11861, 11862, 11863, 11864, 11865, 11866, 11867, 11868, 11869, 11870, 11871, 11872, 12309, 12310, 12311, 12312, 12313, 12314, 12315, 12316, 12317, 12318, 12319, 12320, 12321, 12322, 12323, 12324, 12325, 12326, 12327, 12328, 12329, 12330, 12331, 12332, 12333, 12334, 12335, 12336, 12337, 12338, 12339, 12340, 12341, 12342, 12343, 12344, 12345, 12346, 12347, 12348, 12349, 12350, 12351, 12352, 12353, 12354, 12355, 12356, 12357, 12358, 12795, 12796, 12797, 12798, 12799, 12800, 12801, 12802, 12803, 12804, 12805, 12806, 12807, 12808, 12809, 12810, 12811, 12812, 12813, 12814, 12815, 12816, 12817, 12818, 12819, 12820, 12821, 12822, 12823, 12824, 12825, 12826, 12827, 12828, 12829, 12830, 12831, 12832, 12833, 12834, 12835, 12836, 12837, 12838, 12839, 12840, 12841, 12842, 12843, 12844]\n"
     ]
    }
   ],
   "source": [
    "diffs = python_sub.compare(stata_sub)\n",
    "diff_index_labels = diffs.index.unique().tolist()\n",
    "print(diff_index_labels)\n"
   ]
  },
  {
   "cell_type": "code",
   "execution_count": 43,
   "id": "359b9717",
   "metadata": {},
   "outputs": [
    {
     "data": {
      "text/html": [
       "<div>\n",
       "<style scoped>\n",
       "    .dataframe tbody tr th:only-of-type {\n",
       "        vertical-align: middle;\n",
       "    }\n",
       "\n",
       "    .dataframe tbody tr th {\n",
       "        vertical-align: top;\n",
       "    }\n",
       "\n",
       "    .dataframe thead th {\n",
       "        text-align: right;\n",
       "    }\n",
       "</style>\n",
       "<table border=\"1\" class=\"dataframe\">\n",
       "  <thead>\n",
       "    <tr style=\"text-align: right;\">\n",
       "      <th></th>\n",
       "      <th>period_start_day</th>\n",
       "      <th>series_code</th>\n",
       "      <th>value</th>\n",
       "    </tr>\n",
       "  </thead>\n",
       "  <tbody>\n",
       "    <tr>\n",
       "      <th>1</th>\n",
       "      <td>1989-01-01</td>\n",
       "      <td>AFT-11</td>\n",
       "      <td>101.5</td>\n",
       "    </tr>\n",
       "    <tr>\n",
       "      <th>6</th>\n",
       "      <td>1989-01-01</td>\n",
       "      <td>AFT-16</td>\n",
       "      <td>19476.2</td>\n",
       "    </tr>\n",
       "    <tr>\n",
       "      <th>7</th>\n",
       "      <td>1989-01-01</td>\n",
       "      <td>AFT-17</td>\n",
       "      <td>13466.1</td>\n",
       "    </tr>\n",
       "    <tr>\n",
       "      <th>9</th>\n",
       "      <td>1989-01-01</td>\n",
       "      <td>AFT-19</td>\n",
       "      <td>15416.1</td>\n",
       "    </tr>\n",
       "    <tr>\n",
       "      <th>10</th>\n",
       "      <td>1989-01-01</td>\n",
       "      <td>AFT-20</td>\n",
       "      <td>10277.3</td>\n",
       "    </tr>\n",
       "    <tr>\n",
       "      <th>...</th>\n",
       "      <td>...</td>\n",
       "      <td>...</td>\n",
       "      <td>...</td>\n",
       "    </tr>\n",
       "    <tr>\n",
       "      <th>12840</th>\n",
       "      <td>2020-01-01</td>\n",
       "      <td>AGG-15</td>\n",
       "      <td>57.4</td>\n",
       "    </tr>\n",
       "    <tr>\n",
       "      <th>12841</th>\n",
       "      <td>2020-01-01</td>\n",
       "      <td>AGG-6</td>\n",
       "      <td>-166087.0</td>\n",
       "    </tr>\n",
       "    <tr>\n",
       "      <th>12842</th>\n",
       "      <td>2020-01-01</td>\n",
       "      <td>AGG-7</td>\n",
       "      <td>-7.1</td>\n",
       "    </tr>\n",
       "    <tr>\n",
       "      <th>12843</th>\n",
       "      <td>2020-01-01</td>\n",
       "      <td>AGG-8</td>\n",
       "      <td>-187979.0</td>\n",
       "    </tr>\n",
       "    <tr>\n",
       "      <th>12844</th>\n",
       "      <td>2020-01-01</td>\n",
       "      <td>AGG-9</td>\n",
       "      <td>-8.1</td>\n",
       "    </tr>\n",
       "  </tbody>\n",
       "</table>\n",
       "<p>1092 rows × 3 columns</p>\n",
       "</div>"
      ],
      "text/plain": [
       "      period_start_day series_code     value\n",
       "1           1989-01-01      AFT-11     101.5\n",
       "6           1989-01-01      AFT-16   19476.2\n",
       "7           1989-01-01      AFT-17   13466.1\n",
       "9           1989-01-01      AFT-19   15416.1\n",
       "10          1989-01-01      AFT-20   10277.3\n",
       "...                ...         ...       ...\n",
       "12840       2020-01-01      AGG-15      57.4\n",
       "12841       2020-01-01       AGG-6 -166087.0\n",
       "12842       2020-01-01       AGG-7      -7.1\n",
       "12843       2020-01-01       AGG-8 -187979.0\n",
       "12844       2020-01-01       AGG-9      -8.1\n",
       "\n",
       "[1092 rows x 3 columns]"
      ]
     },
     "execution_count": 43,
     "metadata": {},
     "output_type": "execute_result"
    }
   ],
   "source": [
    "python_sub.iloc[diff_index_labels]"
   ]
  },
  {
   "cell_type": "code",
   "execution_count": 44,
   "id": "a43809ab",
   "metadata": {},
   "outputs": [
    {
     "data": {
      "text/html": [
       "<div>\n",
       "<style scoped>\n",
       "    .dataframe tbody tr th:only-of-type {\n",
       "        vertical-align: middle;\n",
       "    }\n",
       "\n",
       "    .dataframe tbody tr th {\n",
       "        vertical-align: top;\n",
       "    }\n",
       "\n",
       "    .dataframe thead th {\n",
       "        text-align: right;\n",
       "    }\n",
       "</style>\n",
       "<table border=\"1\" class=\"dataframe\">\n",
       "  <thead>\n",
       "    <tr style=\"text-align: right;\">\n",
       "      <th></th>\n",
       "      <th>period_start_day</th>\n",
       "      <th>series_code</th>\n",
       "      <th>value</th>\n",
       "    </tr>\n",
       "  </thead>\n",
       "  <tbody>\n",
       "    <tr>\n",
       "      <th>1</th>\n",
       "      <td>1989-01-01</td>\n",
       "      <td>AFT-11</td>\n",
       "      <td>NaN</td>\n",
       "    </tr>\n",
       "    <tr>\n",
       "      <th>6</th>\n",
       "      <td>1989-01-01</td>\n",
       "      <td>AFT-16</td>\n",
       "      <td>NaN</td>\n",
       "    </tr>\n",
       "    <tr>\n",
       "      <th>7</th>\n",
       "      <td>1989-01-01</td>\n",
       "      <td>AFT-17</td>\n",
       "      <td>NaN</td>\n",
       "    </tr>\n",
       "    <tr>\n",
       "      <th>9</th>\n",
       "      <td>1989-01-01</td>\n",
       "      <td>AFT-19</td>\n",
       "      <td>NaN</td>\n",
       "    </tr>\n",
       "    <tr>\n",
       "      <th>10</th>\n",
       "      <td>1989-01-01</td>\n",
       "      <td>AFT-20</td>\n",
       "      <td>NaN</td>\n",
       "    </tr>\n",
       "    <tr>\n",
       "      <th>...</th>\n",
       "      <td>...</td>\n",
       "      <td>...</td>\n",
       "      <td>...</td>\n",
       "    </tr>\n",
       "    <tr>\n",
       "      <th>12840</th>\n",
       "      <td>2020-01-01</td>\n",
       "      <td>AGG-15</td>\n",
       "      <td>NaN</td>\n",
       "    </tr>\n",
       "    <tr>\n",
       "      <th>12841</th>\n",
       "      <td>2020-01-01</td>\n",
       "      <td>AGG-6</td>\n",
       "      <td>NaN</td>\n",
       "    </tr>\n",
       "    <tr>\n",
       "      <th>12842</th>\n",
       "      <td>2020-01-01</td>\n",
       "      <td>AGG-7</td>\n",
       "      <td>NaN</td>\n",
       "    </tr>\n",
       "    <tr>\n",
       "      <th>12843</th>\n",
       "      <td>2020-01-01</td>\n",
       "      <td>AGG-8</td>\n",
       "      <td>NaN</td>\n",
       "    </tr>\n",
       "    <tr>\n",
       "      <th>12844</th>\n",
       "      <td>2020-01-01</td>\n",
       "      <td>AGG-9</td>\n",
       "      <td>NaN</td>\n",
       "    </tr>\n",
       "  </tbody>\n",
       "</table>\n",
       "<p>1092 rows × 3 columns</p>\n",
       "</div>"
      ],
      "text/plain": [
       "      period_start_day series_code  value\n",
       "1           1989-01-01      AFT-11    NaN\n",
       "6           1989-01-01      AFT-16    NaN\n",
       "7           1989-01-01      AFT-17    NaN\n",
       "9           1989-01-01      AFT-19    NaN\n",
       "10          1989-01-01      AFT-20    NaN\n",
       "...                ...         ...    ...\n",
       "12840       2020-01-01      AGG-15    NaN\n",
       "12841       2020-01-01       AGG-6    NaN\n",
       "12842       2020-01-01       AGG-7    NaN\n",
       "12843       2020-01-01       AGG-8    NaN\n",
       "12844       2020-01-01       AGG-9    NaN\n",
       "\n",
       "[1092 rows x 3 columns]"
      ]
     },
     "execution_count": 44,
     "metadata": {},
     "output_type": "execute_result"
    }
   ],
   "source": [
    "stata_sub.iloc[diff_index_labels]"
   ]
  },
  {
   "cell_type": "markdown",
   "id": "dd5b453f",
   "metadata": {},
   "source": [
    "<font size=5, font color='blue'> Compare the rows in stata_df without missing values to the corresponding rows in Python"
   ]
  },
  {
   "cell_type": "code",
   "execution_count": 58,
   "id": "798bc20b",
   "metadata": {},
   "outputs": [],
   "source": [
    "stata_not_na = stata_sub[stata_sub.notna().all(axis=1)].index"
   ]
  },
  {
   "cell_type": "code",
   "execution_count": 59,
   "id": "a551fb32",
   "metadata": {},
   "outputs": [
    {
     "data": {
      "text/plain": [
       "True"
      ]
     },
     "execution_count": 59,
     "metadata": {},
     "output_type": "execute_result"
    }
   ],
   "source": [
    "stata_sub.loc[stata_not_na].equals(python_sub.loc[stata_not_na])"
   ]
  }
 ],
 "metadata": {
  "kernelspec": {
   "display_name": "Python 3 (ipykernel)",
   "language": "python",
   "name": "python3"
  },
  "language_info": {
   "codemirror_mode": {
    "name": "ipython",
    "version": 3
   },
   "file_extension": ".py",
   "mimetype": "text/x-python",
   "name": "python",
   "nbconvert_exporter": "python",
   "pygments_lexer": "ipython3",
   "version": "3.11.7"
  },
  "toc": {
   "base_numbering": 1,
   "nav_menu": {},
   "number_sections": true,
   "sideBar": true,
   "skip_h1_title": false,
   "title_cell": "Table of Contents",
   "title_sidebar": "Contents",
   "toc_cell": false,
   "toc_position": {},
   "toc_section_display": true,
   "toc_window_display": false
  }
 },
 "nbformat": 4,
 "nbformat_minor": 5
}
