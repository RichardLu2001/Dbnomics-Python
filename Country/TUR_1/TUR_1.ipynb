{
 "cells": [
  {
   "cell_type": "code",
   "execution_count": 1,
   "id": "81cd83d3",
   "metadata": {},
   "outputs": [],
   "source": [
    "import pandas as pd\n",
    "\n",
    "from dbnomics import fetch_series, fetch_series_by_api_link\n",
    "\n",
    "import warnings\n",
    "warnings.filterwarnings(\"ignore\", category=FutureWarning)"
   ]
  },
  {
   "cell_type": "code",
   "execution_count": 2,
   "id": "bf0a7004",
   "metadata": {},
   "outputs": [
    {
     "data": {
      "text/html": [
       "<div>\n",
       "<style scoped>\n",
       "    .dataframe tbody tr th:only-of-type {\n",
       "        vertical-align: middle;\n",
       "    }\n",
       "\n",
       "    .dataframe tbody tr th {\n",
       "        vertical-align: top;\n",
       "    }\n",
       "\n",
       "    .dataframe thead th {\n",
       "        text-align: right;\n",
       "    }\n",
       "</style>\n",
       "<table border=\"1\" class=\"dataframe\">\n",
       "  <thead>\n",
       "    <tr style=\"text-align: right;\">\n",
       "      <th></th>\n",
       "      <th>@frequency</th>\n",
       "      <th>provider_code</th>\n",
       "      <th>dataset_code</th>\n",
       "      <th>dataset_name</th>\n",
       "      <th>series_code</th>\n",
       "      <th>series_name</th>\n",
       "      <th>original_period</th>\n",
       "      <th>period</th>\n",
       "      <th>original_value</th>\n",
       "      <th>value</th>\n",
       "      <th>frequency</th>\n",
       "      <th>Frequency</th>\n",
       "    </tr>\n",
       "  </thead>\n",
       "  <tbody>\n",
       "    <tr>\n",
       "      <th>0</th>\n",
       "      <td>monthly</td>\n",
       "      <td>TCMB</td>\n",
       "      <td>CPI</td>\n",
       "      <td>Consumer Price Index (2003=100) (TURKSTAT)</td>\n",
       "      <td>cpimtm</td>\n",
       "      <td>CPI (Month to Month  % Changes)</td>\n",
       "      <td>2005-01</td>\n",
       "      <td>2005-01-01</td>\n",
       "      <td>0.55</td>\n",
       "      <td>0.55</td>\n",
       "      <td>M</td>\n",
       "      <td>Monthly</td>\n",
       "    </tr>\n",
       "    <tr>\n",
       "      <th>1</th>\n",
       "      <td>monthly</td>\n",
       "      <td>TCMB</td>\n",
       "      <td>CPI</td>\n",
       "      <td>Consumer Price Index (2003=100) (TURKSTAT)</td>\n",
       "      <td>cpimtm</td>\n",
       "      <td>CPI (Month to Month  % Changes)</td>\n",
       "      <td>2005-02</td>\n",
       "      <td>2005-02-01</td>\n",
       "      <td>0.02</td>\n",
       "      <td>0.02</td>\n",
       "      <td>M</td>\n",
       "      <td>Monthly</td>\n",
       "    </tr>\n",
       "    <tr>\n",
       "      <th>2</th>\n",
       "      <td>monthly</td>\n",
       "      <td>TCMB</td>\n",
       "      <td>CPI</td>\n",
       "      <td>Consumer Price Index (2003=100) (TURKSTAT)</td>\n",
       "      <td>cpimtm</td>\n",
       "      <td>CPI (Month to Month  % Changes)</td>\n",
       "      <td>2005-03</td>\n",
       "      <td>2005-03-01</td>\n",
       "      <td>0.26</td>\n",
       "      <td>0.26</td>\n",
       "      <td>M</td>\n",
       "      <td>Monthly</td>\n",
       "    </tr>\n",
       "    <tr>\n",
       "      <th>3</th>\n",
       "      <td>monthly</td>\n",
       "      <td>TCMB</td>\n",
       "      <td>CPI</td>\n",
       "      <td>Consumer Price Index (2003=100) (TURKSTAT)</td>\n",
       "      <td>cpimtm</td>\n",
       "      <td>CPI (Month to Month  % Changes)</td>\n",
       "      <td>2005-04</td>\n",
       "      <td>2005-04-01</td>\n",
       "      <td>0.71</td>\n",
       "      <td>0.71</td>\n",
       "      <td>M</td>\n",
       "      <td>Monthly</td>\n",
       "    </tr>\n",
       "    <tr>\n",
       "      <th>4</th>\n",
       "      <td>monthly</td>\n",
       "      <td>TCMB</td>\n",
       "      <td>CPI</td>\n",
       "      <td>Consumer Price Index (2003=100) (TURKSTAT)</td>\n",
       "      <td>cpimtm</td>\n",
       "      <td>CPI (Month to Month  % Changes)</td>\n",
       "      <td>2005-05</td>\n",
       "      <td>2005-05-01</td>\n",
       "      <td>0.92</td>\n",
       "      <td>0.92</td>\n",
       "      <td>M</td>\n",
       "      <td>Monthly</td>\n",
       "    </tr>\n",
       "  </tbody>\n",
       "</table>\n",
       "</div>"
      ],
      "text/plain": [
       "  @frequency provider_code dataset_code  \\\n",
       "0    monthly          TCMB          CPI   \n",
       "1    monthly          TCMB          CPI   \n",
       "2    monthly          TCMB          CPI   \n",
       "3    monthly          TCMB          CPI   \n",
       "4    monthly          TCMB          CPI   \n",
       "\n",
       "                                 dataset_name series_code  \\\n",
       "0  Consumer Price Index (2003=100) (TURKSTAT)      cpimtm   \n",
       "1  Consumer Price Index (2003=100) (TURKSTAT)      cpimtm   \n",
       "2  Consumer Price Index (2003=100) (TURKSTAT)      cpimtm   \n",
       "3  Consumer Price Index (2003=100) (TURKSTAT)      cpimtm   \n",
       "4  Consumer Price Index (2003=100) (TURKSTAT)      cpimtm   \n",
       "\n",
       "                       series_name original_period     period  original_value  \\\n",
       "0  CPI (Month to Month  % Changes)         2005-01 2005-01-01            0.55   \n",
       "1  CPI (Month to Month  % Changes)         2005-02 2005-02-01            0.02   \n",
       "2  CPI (Month to Month  % Changes)         2005-03 2005-03-01            0.26   \n",
       "3  CPI (Month to Month  % Changes)         2005-04 2005-04-01            0.71   \n",
       "4  CPI (Month to Month  % Changes)         2005-05 2005-05-01            0.92   \n",
       "\n",
       "   value frequency Frequency  \n",
       "0   0.55         M   Monthly  \n",
       "1   0.02         M   Monthly  \n",
       "2   0.26         M   Monthly  \n",
       "3   0.71         M   Monthly  \n",
       "4   0.92         M   Monthly  "
      ]
     },
     "execution_count": 2,
     "metadata": {},
     "output_type": "execute_result"
    }
   ],
   "source": [
    "dataframes = [fetch_series(\"TCMB\", \"CPI\", max_nb_series=10000),\n",
    "              fetch_series(\"TCMB\", \"CPIREER\", max_nb_series=10000)]\n",
    "df = pd.concat(dataframes,ignore_index=True)\n",
    "df.head()"
   ]
  },
  {
   "cell_type": "code",
   "execution_count": 3,
   "id": "dd0e24a1",
   "metadata": {},
   "outputs": [],
   "source": [
    "df.to_csv('TUR_1.csv')"
   ]
  },
  {
   "cell_type": "code",
   "execution_count": 4,
   "id": "c98d8bf7",
   "metadata": {},
   "outputs": [],
   "source": [
    "df.to_pickle('TUR_1.pickle')"
   ]
  },
  {
   "cell_type": "code",
   "execution_count": 6,
   "id": "46891f61",
   "metadata": {},
   "outputs": [
    {
     "data": {
      "text/plain": [
       "True"
      ]
     },
     "execution_count": 6,
     "metadata": {},
     "output_type": "execute_result"
    }
   ],
   "source": [
    "df1 = pd.read_pickle('TUR_1.pickle')\n",
    "df1.equals(df)"
   ]
  },
  {
   "cell_type": "code",
   "execution_count": null,
   "id": "e14c30d5",
   "metadata": {},
   "outputs": [],
   "source": []
  }
 ],
 "metadata": {
  "kernelspec": {
   "display_name": "Python 3 (ipykernel)",
   "language": "python",
   "name": "python3"
  },
  "language_info": {
   "codemirror_mode": {
    "name": "ipython",
    "version": 3
   },
   "file_extension": ".py",
   "mimetype": "text/x-python",
   "name": "python",
   "nbconvert_exporter": "python",
   "pygments_lexer": "ipython3",
   "version": "3.11.7"
  },
  "toc": {
   "base_numbering": 1,
   "nav_menu": {},
   "number_sections": true,
   "sideBar": true,
   "skip_h1_title": false,
   "title_cell": "Table of Contents",
   "title_sidebar": "Contents",
   "toc_cell": false,
   "toc_position": {},
   "toc_section_display": true,
   "toc_window_display": false
  }
 },
 "nbformat": 4,
 "nbformat_minor": 5
}
