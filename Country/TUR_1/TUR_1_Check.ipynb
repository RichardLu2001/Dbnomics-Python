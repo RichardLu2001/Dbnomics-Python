{
 "cells": [
  {
   "cell_type": "markdown",
   "id": "6c8ace8a",
   "metadata": {},
   "source": [
    "<font size=5, font color='blue'> stata_df is the dataframe downloaded through Stata API"
   ]
  },
  {
   "cell_type": "code",
   "execution_count": 1,
   "id": "47406cda",
   "metadata": {
    "scrolled": false
   },
   "outputs": [
    {
     "data": {
      "text/html": [
       "<div>\n",
       "<style scoped>\n",
       "    .dataframe tbody tr th:only-of-type {\n",
       "        vertical-align: middle;\n",
       "    }\n",
       "\n",
       "    .dataframe tbody tr th {\n",
       "        vertical-align: top;\n",
       "    }\n",
       "\n",
       "    .dataframe thead th {\n",
       "        text-align: right;\n",
       "    }\n",
       "</style>\n",
       "<table border=\"1\" class=\"dataframe\">\n",
       "  <thead>\n",
       "    <tr style=\"text-align: right;\">\n",
       "      <th></th>\n",
       "      <th>period</th>\n",
       "      <th>period_start_day</th>\n",
       "      <th>value</th>\n",
       "      <th>status</th>\n",
       "      <th>_frequency</th>\n",
       "      <th>dataset_code</th>\n",
       "      <th>dataset_name</th>\n",
       "      <th>frequency</th>\n",
       "      <th>indexed_at</th>\n",
       "      <th>provider_code</th>\n",
       "      <th>series_code</th>\n",
       "      <th>series_name</th>\n",
       "      <th>series_num</th>\n",
       "    </tr>\n",
       "  </thead>\n",
       "  <tbody>\n",
       "    <tr>\n",
       "      <th>0</th>\n",
       "      <td>1994-01</td>\n",
       "      <td>1994-01-01</td>\n",
       "      <td>100.39</td>\n",
       "      <td>NaN</td>\n",
       "      <td>monthly</td>\n",
       "      <td>CPIREER</td>\n",
       "      <td>CPI Based Real Effective Exchange Rate (2003=100)</td>\n",
       "      <td>M</td>\n",
       "      <td>2025-01-08T02:23:08.472Z</td>\n",
       "      <td>TCMB</td>\n",
       "      <td>cpiddree</td>\n",
       "      <td>CPI - Developed Countries Based Real Effective...</td>\n",
       "      <td>Master</td>\n",
       "    </tr>\n",
       "    <tr>\n",
       "      <th>1</th>\n",
       "      <td>1994-02</td>\n",
       "      <td>1994-02-01</td>\n",
       "      <td>86.02</td>\n",
       "      <td>NaN</td>\n",
       "      <td>monthly</td>\n",
       "      <td>CPIREER</td>\n",
       "      <td>CPI Based Real Effective Exchange Rate (2003=100)</td>\n",
       "      <td>M</td>\n",
       "      <td>2025-01-08T02:23:08.472Z</td>\n",
       "      <td>TCMB</td>\n",
       "      <td>cpiddree</td>\n",
       "      <td>CPI - Developed Countries Based Real Effective...</td>\n",
       "      <td>Master</td>\n",
       "    </tr>\n",
       "    <tr>\n",
       "      <th>2</th>\n",
       "      <td>1994-03</td>\n",
       "      <td>1994-03-01</td>\n",
       "      <td>76.97</td>\n",
       "      <td>NaN</td>\n",
       "      <td>monthly</td>\n",
       "      <td>CPIREER</td>\n",
       "      <td>CPI Based Real Effective Exchange Rate (2003=100)</td>\n",
       "      <td>M</td>\n",
       "      <td>2025-01-08T02:23:08.472Z</td>\n",
       "      <td>TCMB</td>\n",
       "      <td>cpiddree</td>\n",
       "      <td>CPI - Developed Countries Based Real Effective...</td>\n",
       "      <td>Master</td>\n",
       "    </tr>\n",
       "    <tr>\n",
       "      <th>3</th>\n",
       "      <td>1994-04</td>\n",
       "      <td>1994-04-01</td>\n",
       "      <td>61.31</td>\n",
       "      <td>NaN</td>\n",
       "      <td>monthly</td>\n",
       "      <td>CPIREER</td>\n",
       "      <td>CPI Based Real Effective Exchange Rate (2003=100)</td>\n",
       "      <td>M</td>\n",
       "      <td>2025-01-08T02:23:08.472Z</td>\n",
       "      <td>TCMB</td>\n",
       "      <td>cpiddree</td>\n",
       "      <td>CPI - Developed Countries Based Real Effective...</td>\n",
       "      <td>Master</td>\n",
       "    </tr>\n",
       "    <tr>\n",
       "      <th>4</th>\n",
       "      <td>1994-05</td>\n",
       "      <td>1994-05-01</td>\n",
       "      <td>61.50</td>\n",
       "      <td>NaN</td>\n",
       "      <td>monthly</td>\n",
       "      <td>CPIREER</td>\n",
       "      <td>CPI Based Real Effective Exchange Rate (2003=100)</td>\n",
       "      <td>M</td>\n",
       "      <td>2025-01-08T02:23:08.472Z</td>\n",
       "      <td>TCMB</td>\n",
       "      <td>cpiddree</td>\n",
       "      <td>CPI - Developed Countries Based Real Effective...</td>\n",
       "      <td>Master</td>\n",
       "    </tr>\n",
       "  </tbody>\n",
       "</table>\n",
       "</div>"
      ],
      "text/plain": [
       "    period period_start_day   value  status _frequency dataset_code  \\\n",
       "0  1994-01       1994-01-01  100.39     NaN    monthly      CPIREER   \n",
       "1  1994-02       1994-02-01   86.02     NaN    monthly      CPIREER   \n",
       "2  1994-03       1994-03-01   76.97     NaN    monthly      CPIREER   \n",
       "3  1994-04       1994-04-01   61.31     NaN    monthly      CPIREER   \n",
       "4  1994-05       1994-05-01   61.50     NaN    monthly      CPIREER   \n",
       "\n",
       "                                        dataset_name frequency  \\\n",
       "0  CPI Based Real Effective Exchange Rate (2003=100)         M   \n",
       "1  CPI Based Real Effective Exchange Rate (2003=100)         M   \n",
       "2  CPI Based Real Effective Exchange Rate (2003=100)         M   \n",
       "3  CPI Based Real Effective Exchange Rate (2003=100)         M   \n",
       "4  CPI Based Real Effective Exchange Rate (2003=100)         M   \n",
       "\n",
       "                 indexed_at provider_code series_code  \\\n",
       "0  2025-01-08T02:23:08.472Z          TCMB    cpiddree   \n",
       "1  2025-01-08T02:23:08.472Z          TCMB    cpiddree   \n",
       "2  2025-01-08T02:23:08.472Z          TCMB    cpiddree   \n",
       "3  2025-01-08T02:23:08.472Z          TCMB    cpiddree   \n",
       "4  2025-01-08T02:23:08.472Z          TCMB    cpiddree   \n",
       "\n",
       "                                         series_name series_num  \n",
       "0  CPI - Developed Countries Based Real Effective...     Master  \n",
       "1  CPI - Developed Countries Based Real Effective...     Master  \n",
       "2  CPI - Developed Countries Based Real Effective...     Master  \n",
       "3  CPI - Developed Countries Based Real Effective...     Master  \n",
       "4  CPI - Developed Countries Based Real Effective...     Master  "
      ]
     },
     "execution_count": 1,
     "metadata": {},
     "output_type": "execute_result"
    }
   ],
   "source": [
    "import pandas as pd\n",
    "pd.options.mode.chained_assignment = None\n",
    "\n",
    "stata_df = pd.read_stata(\"TUR_1.dta\")\n",
    "stata_df.head()"
   ]
  },
  {
   "cell_type": "markdown",
   "id": "12314c37",
   "metadata": {},
   "source": [
    "<font size=5, font color='blue'> python_df is the dataframe downloaded through Python API. "
   ]
  },
  {
   "cell_type": "code",
   "execution_count": 2,
   "id": "20b37bca",
   "metadata": {},
   "outputs": [
    {
     "data": {
      "text/html": [
       "<div>\n",
       "<style scoped>\n",
       "    .dataframe tbody tr th:only-of-type {\n",
       "        vertical-align: middle;\n",
       "    }\n",
       "\n",
       "    .dataframe tbody tr th {\n",
       "        vertical-align: top;\n",
       "    }\n",
       "\n",
       "    .dataframe thead th {\n",
       "        text-align: right;\n",
       "    }\n",
       "</style>\n",
       "<table border=\"1\" class=\"dataframe\">\n",
       "  <thead>\n",
       "    <tr style=\"text-align: right;\">\n",
       "      <th></th>\n",
       "      <th>@frequency</th>\n",
       "      <th>provider_code</th>\n",
       "      <th>dataset_code</th>\n",
       "      <th>dataset_name</th>\n",
       "      <th>series_code</th>\n",
       "      <th>series_name</th>\n",
       "      <th>original_period</th>\n",
       "      <th>period</th>\n",
       "      <th>original_value</th>\n",
       "      <th>value</th>\n",
       "      <th>frequency</th>\n",
       "      <th>Frequency</th>\n",
       "    </tr>\n",
       "  </thead>\n",
       "  <tbody>\n",
       "    <tr>\n",
       "      <th>0</th>\n",
       "      <td>monthly</td>\n",
       "      <td>TCMB</td>\n",
       "      <td>CPI</td>\n",
       "      <td>Consumer Price Index (2003=100) (TURKSTAT)</td>\n",
       "      <td>cpimtm</td>\n",
       "      <td>CPI (Month to Month  % Changes)</td>\n",
       "      <td>2005-01</td>\n",
       "      <td>2005-01-01</td>\n",
       "      <td>0.55</td>\n",
       "      <td>0.55</td>\n",
       "      <td>M</td>\n",
       "      <td>Monthly</td>\n",
       "    </tr>\n",
       "    <tr>\n",
       "      <th>1</th>\n",
       "      <td>monthly</td>\n",
       "      <td>TCMB</td>\n",
       "      <td>CPI</td>\n",
       "      <td>Consumer Price Index (2003=100) (TURKSTAT)</td>\n",
       "      <td>cpimtm</td>\n",
       "      <td>CPI (Month to Month  % Changes)</td>\n",
       "      <td>2005-02</td>\n",
       "      <td>2005-02-01</td>\n",
       "      <td>0.02</td>\n",
       "      <td>0.02</td>\n",
       "      <td>M</td>\n",
       "      <td>Monthly</td>\n",
       "    </tr>\n",
       "    <tr>\n",
       "      <th>2</th>\n",
       "      <td>monthly</td>\n",
       "      <td>TCMB</td>\n",
       "      <td>CPI</td>\n",
       "      <td>Consumer Price Index (2003=100) (TURKSTAT)</td>\n",
       "      <td>cpimtm</td>\n",
       "      <td>CPI (Month to Month  % Changes)</td>\n",
       "      <td>2005-03</td>\n",
       "      <td>2005-03-01</td>\n",
       "      <td>0.26</td>\n",
       "      <td>0.26</td>\n",
       "      <td>M</td>\n",
       "      <td>Monthly</td>\n",
       "    </tr>\n",
       "    <tr>\n",
       "      <th>3</th>\n",
       "      <td>monthly</td>\n",
       "      <td>TCMB</td>\n",
       "      <td>CPI</td>\n",
       "      <td>Consumer Price Index (2003=100) (TURKSTAT)</td>\n",
       "      <td>cpimtm</td>\n",
       "      <td>CPI (Month to Month  % Changes)</td>\n",
       "      <td>2005-04</td>\n",
       "      <td>2005-04-01</td>\n",
       "      <td>0.71</td>\n",
       "      <td>0.71</td>\n",
       "      <td>M</td>\n",
       "      <td>Monthly</td>\n",
       "    </tr>\n",
       "    <tr>\n",
       "      <th>4</th>\n",
       "      <td>monthly</td>\n",
       "      <td>TCMB</td>\n",
       "      <td>CPI</td>\n",
       "      <td>Consumer Price Index (2003=100) (TURKSTAT)</td>\n",
       "      <td>cpimtm</td>\n",
       "      <td>CPI (Month to Month  % Changes)</td>\n",
       "      <td>2005-05</td>\n",
       "      <td>2005-05-01</td>\n",
       "      <td>0.92</td>\n",
       "      <td>0.92</td>\n",
       "      <td>M</td>\n",
       "      <td>Monthly</td>\n",
       "    </tr>\n",
       "  </tbody>\n",
       "</table>\n",
       "</div>"
      ],
      "text/plain": [
       "  @frequency provider_code dataset_code  \\\n",
       "0    monthly          TCMB          CPI   \n",
       "1    monthly          TCMB          CPI   \n",
       "2    monthly          TCMB          CPI   \n",
       "3    monthly          TCMB          CPI   \n",
       "4    monthly          TCMB          CPI   \n",
       "\n",
       "                                 dataset_name series_code  \\\n",
       "0  Consumer Price Index (2003=100) (TURKSTAT)      cpimtm   \n",
       "1  Consumer Price Index (2003=100) (TURKSTAT)      cpimtm   \n",
       "2  Consumer Price Index (2003=100) (TURKSTAT)      cpimtm   \n",
       "3  Consumer Price Index (2003=100) (TURKSTAT)      cpimtm   \n",
       "4  Consumer Price Index (2003=100) (TURKSTAT)      cpimtm   \n",
       "\n",
       "                       series_name original_period     period  original_value  \\\n",
       "0  CPI (Month to Month  % Changes)         2005-01 2005-01-01            0.55   \n",
       "1  CPI (Month to Month  % Changes)         2005-02 2005-02-01            0.02   \n",
       "2  CPI (Month to Month  % Changes)         2005-03 2005-03-01            0.26   \n",
       "3  CPI (Month to Month  % Changes)         2005-04 2005-04-01            0.71   \n",
       "4  CPI (Month to Month  % Changes)         2005-05 2005-05-01            0.92   \n",
       "\n",
       "   value frequency Frequency  \n",
       "0   0.55         M   Monthly  \n",
       "1   0.02         M   Monthly  \n",
       "2   0.26         M   Monthly  \n",
       "3   0.71         M   Monthly  \n",
       "4   0.92         M   Monthly  "
      ]
     },
     "execution_count": 2,
     "metadata": {},
     "output_type": "execute_result"
    }
   ],
   "source": [
    "python_df = pd.read_pickle(\"TUR_1.pickle\")\n",
    "python_df.head()"
   ]
  },
  {
   "cell_type": "markdown",
   "id": "891b9982",
   "metadata": {},
   "source": [
    "<font size=5, font color='blue'> Check whether the two dataframes have the same number of rows, which means equal number of data points / observations. Column numbers of the two dataframes may differ due to the difference between Stata and Python APIs, and so do the order, datatypes and names of columns and the order of rows, which is why we don't require a complete match between python_df and stata_df."
   ]
  },
  {
   "cell_type": "code",
   "execution_count": 3,
   "id": "922205b2",
   "metadata": {},
   "outputs": [
    {
     "data": {
      "text/plain": [
       "True"
      ]
     },
     "execution_count": 3,
     "metadata": {},
     "output_type": "execute_result"
    }
   ],
   "source": [
    "stata_df.shape[0]==python_df.shape[0]"
   ]
  },
  {
   "cell_type": "markdown",
   "id": "2c756d80",
   "metadata": {},
   "source": [
    "<font size=5, font color='blue'> ['period_start_day'] in stata_df is the most accurate timestamp assigned to each observation (row). In python_df its equivalent is ['period'], so we rename it to match the column name in stata_df. We match the datatype of the two columns by converting both of them to pandas datetime objects. We also convert the datatype of ['value'] in stata_df to numeric."
   ]
  },
  {
   "cell_type": "code",
   "execution_count": 4,
   "id": "869e25b8",
   "metadata": {},
   "outputs": [],
   "source": [
    "python_df.rename(columns={'period':'period_start_day'},inplace=True)\n",
    "stata_df['period_start_day'] = pd.to_datetime(stata_df['period_start_day'])\n",
    "python_df['period_start_day'] = pd.to_datetime(python_df['period_start_day'])\n",
    "stata_df['value'] = pd.to_numeric(stata_df['value'],'coerce').astype('float64')\n",
    "python_df['value'] = python_df['value'].astype('float64')"
   ]
  },
  {
   "cell_type": "markdown",
   "id": "3c8ac514",
   "metadata": {},
   "source": [
    "<font size=5, font color='blue'> Check whether ['period_start_day', 'series_code'] can identify a unique row in both stata_df and python_df, if not then there is a duplication or error in Dbnomics."
   ]
  },
  {
   "cell_type": "code",
   "execution_count": 5,
   "id": "95929551",
   "metadata": {},
   "outputs": [
    {
     "data": {
      "text/plain": [
       "True"
      ]
     },
     "execution_count": 5,
     "metadata": {},
     "output_type": "execute_result"
    }
   ],
   "source": [
    "cols = ['period_start_day', 'series_code']\n",
    "sum(stata_df.duplicated(subset=cols))+sum(python_df.duplicated(subset=cols)) == 0"
   ]
  },
  {
   "cell_type": "markdown",
   "id": "2c3b0bad",
   "metadata": {},
   "source": [
    "<font size=5, font color='blue'> Then we sort the two dataframes by ['period_start_day', 'series_code']. This ensures observations in the two dataframes are in the same order. Finally we check whether the two sub-frames [['period_start_day','series_code','value']] sliced from stata_df and python_df are exactly the same."
   ]
  },
  {
   "cell_type": "code",
   "execution_count": 6,
   "id": "be99fb77",
   "metadata": {},
   "outputs": [
    {
     "data": {
      "text/plain": [
       "True"
      ]
     },
     "execution_count": 6,
     "metadata": {},
     "output_type": "execute_result"
    }
   ],
   "source": [
    "stata_sub = stata_df.sort_values(by=cols)[cols+['value']].reset_index(drop=True)\n",
    "python_sub = python_df.sort_values(by=cols)[cols+['value']].reset_index(drop=True)\n",
    "stata_sub.equals(python_sub)"
   ]
  }
 ],
 "metadata": {
  "kernelspec": {
   "display_name": "Python 3 (ipykernel)",
   "language": "python",
   "name": "python3"
  },
  "language_info": {
   "codemirror_mode": {
    "name": "ipython",
    "version": 3
   },
   "file_extension": ".py",
   "mimetype": "text/x-python",
   "name": "python",
   "nbconvert_exporter": "python",
   "pygments_lexer": "ipython3",
   "version": "3.11.7"
  },
  "toc": {
   "base_numbering": 1,
   "nav_menu": {},
   "number_sections": true,
   "sideBar": true,
   "skip_h1_title": false,
   "title_cell": "Table of Contents",
   "title_sidebar": "Contents",
   "toc_cell": false,
   "toc_position": {},
   "toc_section_display": true,
   "toc_window_display": false
  }
 },
 "nbformat": 4,
 "nbformat_minor": 5
}
