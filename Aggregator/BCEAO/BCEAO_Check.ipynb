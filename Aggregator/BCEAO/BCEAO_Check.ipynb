{
 "cells": [
  {
   "cell_type": "markdown",
   "id": "6c8ace8a",
   "metadata": {},
   "source": [
    "<font size=5, font color='blue'> stata_df is the dataframe downloaded through Stata API"
   ]
  },
  {
   "cell_type": "code",
   "execution_count": 1,
   "id": "47406cda",
   "metadata": {
    "scrolled": false
   },
   "outputs": [
    {
     "data": {
      "text/html": [
       "<div>\n",
       "<style scoped>\n",
       "    .dataframe tbody tr th:only-of-type {\n",
       "        vertical-align: middle;\n",
       "    }\n",
       "\n",
       "    .dataframe tbody tr th {\n",
       "        vertical-align: top;\n",
       "    }\n",
       "\n",
       "    .dataframe thead th {\n",
       "        text-align: right;\n",
       "    }\n",
       "</style>\n",
       "<table border=\"1\" class=\"dataframe\">\n",
       "  <thead>\n",
       "    <tr style=\"text-align: right;\">\n",
       "      <th></th>\n",
       "      <th>period</th>\n",
       "      <th>period_start_day</th>\n",
       "      <th>value</th>\n",
       "      <th>frequency</th>\n",
       "      <th>dataset_code</th>\n",
       "      <th>dataset_name</th>\n",
       "      <th>country</th>\n",
       "      <th>label</th>\n",
       "      <th>indexed_at</th>\n",
       "      <th>provider_code</th>\n",
       "      <th>series_code</th>\n",
       "      <th>series_name</th>\n",
       "      <th>series_num</th>\n",
       "    </tr>\n",
       "  </thead>\n",
       "  <tbody>\n",
       "    <tr>\n",
       "      <th>0</th>\n",
       "      <td>1960</td>\n",
       "      <td>1960-01-01</td>\n",
       "      <td>25.8</td>\n",
       "      <td>annual</td>\n",
       "      <td>TOFE</td>\n",
       "      <td>TABLEAU DES OPERATIONS FINANCIERES DE L'ETAT (...</td>\n",
       "      <td>AAA</td>\n",
       "      <td>FP1003A0AP</td>\n",
       "      <td>2025-03-19T01:29:40.104Z</td>\n",
       "      <td>BCEAO</td>\n",
       "      <td>AAAFP1003A0AP</td>\n",
       "      <td>COTE D'IVOIRE – RECETTES COURANTES (R3)</td>\n",
       "      <td>Appended dataset 2</td>\n",
       "    </tr>\n",
       "    <tr>\n",
       "      <th>1</th>\n",
       "      <td>1960</td>\n",
       "      <td>1960-01-01</td>\n",
       "      <td>NA</td>\n",
       "      <td>annual</td>\n",
       "      <td>TOFE</td>\n",
       "      <td>TABLEAU DES OPERATIONS FINANCIERES DE L'ETAT (...</td>\n",
       "      <td>AAA</td>\n",
       "      <td>FP1061A0AP</td>\n",
       "      <td>2025-03-19T01:29:40.104Z</td>\n",
       "      <td>BCEAO</td>\n",
       "      <td>AAAFP1061A0AP</td>\n",
       "      <td>COTE D'IVOIRE – Financement exterieur par vari...</td>\n",
       "      <td>Appended dataset 34</td>\n",
       "    </tr>\n",
       "    <tr>\n",
       "      <th>2</th>\n",
       "      <td>1960</td>\n",
       "      <td>1960-01-01</td>\n",
       "      <td>NA</td>\n",
       "      <td>annual</td>\n",
       "      <td>PIBC</td>\n",
       "      <td>PIB ET SES EMPLOIS A PRIX CONSTANT Base 100 =2...</td>\n",
       "      <td>AAA</td>\n",
       "      <td>SR1022A0BQ</td>\n",
       "      <td>2025-03-19T01:29:40.104Z</td>\n",
       "      <td>BCEAO</td>\n",
       "      <td>AAASR1022A0BQ</td>\n",
       "      <td>COTE D'IVOIRE – VARIATION DE STOCKS</td>\n",
       "      <td>Appended dataset 8</td>\n",
       "    </tr>\n",
       "    <tr>\n",
       "      <th>3</th>\n",
       "      <td>1960</td>\n",
       "      <td>1960-01-01</td>\n",
       "      <td>NA</td>\n",
       "      <td>annual</td>\n",
       "      <td>SIM</td>\n",
       "      <td>SITUATION DES INSTITUTIONS MONETAIRES (Million...</td>\n",
       "      <td>AAA</td>\n",
       "      <td>SF1256A0AP</td>\n",
       "      <td>2025-01-18T01:18:08.259Z</td>\n",
       "      <td>BCEAO</td>\n",
       "      <td>AAASF1256A0AP</td>\n",
       "      <td>COTE D'IVOIRE – - Banques</td>\n",
       "      <td>Appended dataset 3</td>\n",
       "    </tr>\n",
       "    <tr>\n",
       "      <th>4</th>\n",
       "      <td>1960</td>\n",
       "      <td>1960-01-01</td>\n",
       "      <td>NA</td>\n",
       "      <td>annual</td>\n",
       "      <td>DPE</td>\n",
       "      <td>DETTE PUBLIQUE EXTERIEURE</td>\n",
       "      <td>AAA</td>\n",
       "      <td>FP3005A0FA</td>\n",
       "      <td>2025-03-21T01:13:04.470Z</td>\n",
       "      <td>BCEAO</td>\n",
       "      <td>AAAFP3005A0FA</td>\n",
       "      <td>COTE D'IVOIRE – Dette envers la Banque mondiale</td>\n",
       "      <td>Appended dataset 3</td>\n",
       "    </tr>\n",
       "  </tbody>\n",
       "</table>\n",
       "</div>"
      ],
      "text/plain": [
       "   period period_start_day value frequency dataset_code  \\\n",
       "0    1960       1960-01-01  25.8    annual         TOFE   \n",
       "1    1960       1960-01-01    NA    annual         TOFE   \n",
       "2    1960       1960-01-01    NA    annual         PIBC   \n",
       "3    1960       1960-01-01    NA    annual          SIM   \n",
       "4    1960       1960-01-01    NA    annual          DPE   \n",
       "\n",
       "                                        dataset_name country       label  \\\n",
       "0  TABLEAU DES OPERATIONS FINANCIERES DE L'ETAT (...     AAA  FP1003A0AP   \n",
       "1  TABLEAU DES OPERATIONS FINANCIERES DE L'ETAT (...     AAA  FP1061A0AP   \n",
       "2  PIB ET SES EMPLOIS A PRIX CONSTANT Base 100 =2...     AAA  SR1022A0BQ   \n",
       "3  SITUATION DES INSTITUTIONS MONETAIRES (Million...     AAA  SF1256A0AP   \n",
       "4                          DETTE PUBLIQUE EXTERIEURE     AAA  FP3005A0FA   \n",
       "\n",
       "                 indexed_at provider_code    series_code  \\\n",
       "0  2025-03-19T01:29:40.104Z         BCEAO  AAAFP1003A0AP   \n",
       "1  2025-03-19T01:29:40.104Z         BCEAO  AAAFP1061A0AP   \n",
       "2  2025-03-19T01:29:40.104Z         BCEAO  AAASR1022A0BQ   \n",
       "3  2025-01-18T01:18:08.259Z         BCEAO  AAASF1256A0AP   \n",
       "4  2025-03-21T01:13:04.470Z         BCEAO  AAAFP3005A0FA   \n",
       "\n",
       "                                         series_name           series_num  \n",
       "0            COTE D'IVOIRE – RECETTES COURANTES (R3)   Appended dataset 2  \n",
       "1  COTE D'IVOIRE – Financement exterieur par vari...  Appended dataset 34  \n",
       "2                COTE D'IVOIRE – VARIATION DE STOCKS   Appended dataset 8  \n",
       "3                          COTE D'IVOIRE – - Banques   Appended dataset 3  \n",
       "4    COTE D'IVOIRE – Dette envers la Banque mondiale   Appended dataset 3  "
      ]
     },
     "execution_count": 1,
     "metadata": {},
     "output_type": "execute_result"
    }
   ],
   "source": [
    "import pandas as pd\n",
    "pd.options.mode.chained_assignment = None\n",
    "\n",
    "stata_df = pd.read_stata(\"BCEAO.dta\")\n",
    "stata_df.head()"
   ]
  },
  {
   "cell_type": "markdown",
   "id": "12314c37",
   "metadata": {},
   "source": [
    "<font size=5, font color='blue'> python_df is the dataframe downloaded through Python API. "
   ]
  },
  {
   "cell_type": "code",
   "execution_count": 2,
   "id": "20b37bca",
   "metadata": {},
   "outputs": [
    {
     "data": {
      "text/html": [
       "<div>\n",
       "<style scoped>\n",
       "    .dataframe tbody tr th:only-of-type {\n",
       "        vertical-align: middle;\n",
       "    }\n",
       "\n",
       "    .dataframe tbody tr th {\n",
       "        vertical-align: top;\n",
       "    }\n",
       "\n",
       "    .dataframe thead th {\n",
       "        text-align: right;\n",
       "    }\n",
       "</style>\n",
       "<table border=\"1\" class=\"dataframe\">\n",
       "  <thead>\n",
       "    <tr style=\"text-align: right;\">\n",
       "      <th></th>\n",
       "      <th>@frequency</th>\n",
       "      <th>provider_code</th>\n",
       "      <th>dataset_code</th>\n",
       "      <th>dataset_name</th>\n",
       "      <th>series_code</th>\n",
       "      <th>series_name</th>\n",
       "      <th>original_period</th>\n",
       "      <th>period</th>\n",
       "      <th>original_value</th>\n",
       "      <th>value</th>\n",
       "      <th>country</th>\n",
       "      <th>label</th>\n",
       "      <th>Country</th>\n",
       "      <th>Label</th>\n",
       "    </tr>\n",
       "  </thead>\n",
       "  <tbody>\n",
       "    <tr>\n",
       "      <th>0</th>\n",
       "      <td>annual</td>\n",
       "      <td>BCEAO</td>\n",
       "      <td>PIBN</td>\n",
       "      <td>PIB ET SES EMPLOIS EN VALEUR NOMINALE (en mill...</td>\n",
       "      <td>AAASR1011A0BP</td>\n",
       "      <td>COTE D'IVOIRE – - Impots indirects</td>\n",
       "      <td>1960</td>\n",
       "      <td>1960-01-01</td>\n",
       "      <td>8.7</td>\n",
       "      <td>8.7</td>\n",
       "      <td>AAA</td>\n",
       "      <td>SR1011A0BP</td>\n",
       "      <td>COTE D'IVOIRE</td>\n",
       "      <td>- Impots indirects</td>\n",
       "    </tr>\n",
       "    <tr>\n",
       "      <th>65</th>\n",
       "      <td>annual</td>\n",
       "      <td>BCEAO</td>\n",
       "      <td>PIBN</td>\n",
       "      <td>PIB ET SES EMPLOIS EN VALEUR NOMINALE (en mill...</td>\n",
       "      <td>AAASR1012A0BP</td>\n",
       "      <td>COTE D'IVOIRE – PIB marchand</td>\n",
       "      <td>1960</td>\n",
       "      <td>1960-01-01</td>\n",
       "      <td>124.5</td>\n",
       "      <td>124.5</td>\n",
       "      <td>AAA</td>\n",
       "      <td>SR1012A0BP</td>\n",
       "      <td>COTE D'IVOIRE</td>\n",
       "      <td>PIB marchand</td>\n",
       "    </tr>\n",
       "    <tr>\n",
       "      <th>130</th>\n",
       "      <td>annual</td>\n",
       "      <td>BCEAO</td>\n",
       "      <td>PIBN</td>\n",
       "      <td>PIB ET SES EMPLOIS EN VALEUR NOMINALE (en mill...</td>\n",
       "      <td>AAASR1013A0BP</td>\n",
       "      <td>COTE D'IVOIRE – PIB non marchand</td>\n",
       "      <td>1960</td>\n",
       "      <td>1960-01-01</td>\n",
       "      <td>16.2</td>\n",
       "      <td>16.2</td>\n",
       "      <td>AAA</td>\n",
       "      <td>SR1013A0BP</td>\n",
       "      <td>COTE D'IVOIRE</td>\n",
       "      <td>PIB non marchand</td>\n",
       "    </tr>\n",
       "    <tr>\n",
       "      <th>195</th>\n",
       "      <td>annual</td>\n",
       "      <td>BCEAO</td>\n",
       "      <td>PIBN</td>\n",
       "      <td>PIB ET SES EMPLOIS EN VALEUR NOMINALE (en mill...</td>\n",
       "      <td>AAASR1015A0BP</td>\n",
       "      <td>COTE D'IVOIRE – PIB nominal (en milliards de F...</td>\n",
       "      <td>1960</td>\n",
       "      <td>1960-01-01</td>\n",
       "      <td>140.7</td>\n",
       "      <td>140.7</td>\n",
       "      <td>AAA</td>\n",
       "      <td>SR1015A0BP</td>\n",
       "      <td>COTE D'IVOIRE</td>\n",
       "      <td>PIB nominal (en milliards de FCFA)</td>\n",
       "    </tr>\n",
       "    <tr>\n",
       "      <th>260</th>\n",
       "      <td>annual</td>\n",
       "      <td>BCEAO</td>\n",
       "      <td>PIBN</td>\n",
       "      <td>PIB ET SES EMPLOIS EN VALEUR NOMINALE (en mill...</td>\n",
       "      <td>AAASR1016A0BP</td>\n",
       "      <td>COTE D'IVOIRE – CONSOMMATION FINALE</td>\n",
       "      <td>1960</td>\n",
       "      <td>1960-01-01</td>\n",
       "      <td>109.4</td>\n",
       "      <td>109.4</td>\n",
       "      <td>AAA</td>\n",
       "      <td>SR1016A0BP</td>\n",
       "      <td>COTE D'IVOIRE</td>\n",
       "      <td>CONSOMMATION FINALE</td>\n",
       "    </tr>\n",
       "  </tbody>\n",
       "</table>\n",
       "</div>"
      ],
      "text/plain": [
       "    @frequency provider_code dataset_code  \\\n",
       "0       annual         BCEAO         PIBN   \n",
       "65      annual         BCEAO         PIBN   \n",
       "130     annual         BCEAO         PIBN   \n",
       "195     annual         BCEAO         PIBN   \n",
       "260     annual         BCEAO         PIBN   \n",
       "\n",
       "                                          dataset_name    series_code  \\\n",
       "0    PIB ET SES EMPLOIS EN VALEUR NOMINALE (en mill...  AAASR1011A0BP   \n",
       "65   PIB ET SES EMPLOIS EN VALEUR NOMINALE (en mill...  AAASR1012A0BP   \n",
       "130  PIB ET SES EMPLOIS EN VALEUR NOMINALE (en mill...  AAASR1013A0BP   \n",
       "195  PIB ET SES EMPLOIS EN VALEUR NOMINALE (en mill...  AAASR1015A0BP   \n",
       "260  PIB ET SES EMPLOIS EN VALEUR NOMINALE (en mill...  AAASR1016A0BP   \n",
       "\n",
       "                                           series_name original_period  \\\n",
       "0                   COTE D'IVOIRE – - Impots indirects            1960   \n",
       "65                        COTE D'IVOIRE – PIB marchand            1960   \n",
       "130                   COTE D'IVOIRE – PIB non marchand            1960   \n",
       "195  COTE D'IVOIRE – PIB nominal (en milliards de F...            1960   \n",
       "260                COTE D'IVOIRE – CONSOMMATION FINALE            1960   \n",
       "\n",
       "        period original_value  value country       label        Country  \\\n",
       "0   1960-01-01            8.7    8.7     AAA  SR1011A0BP  COTE D'IVOIRE   \n",
       "65  1960-01-01          124.5  124.5     AAA  SR1012A0BP  COTE D'IVOIRE   \n",
       "130 1960-01-01           16.2   16.2     AAA  SR1013A0BP  COTE D'IVOIRE   \n",
       "195 1960-01-01          140.7  140.7     AAA  SR1015A0BP  COTE D'IVOIRE   \n",
       "260 1960-01-01          109.4  109.4     AAA  SR1016A0BP  COTE D'IVOIRE   \n",
       "\n",
       "                                  Label  \n",
       "0                    - Impots indirects  \n",
       "65                         PIB marchand  \n",
       "130                    PIB non marchand  \n",
       "195  PIB nominal (en milliards de FCFA)  \n",
       "260                 CONSOMMATION FINALE  "
      ]
     },
     "execution_count": 2,
     "metadata": {},
     "output_type": "execute_result"
    }
   ],
   "source": [
    "python_df = pd.read_pickle(\"BCEAO.pkl\")\n",
    "python_df.head()"
   ]
  },
  {
   "cell_type": "markdown",
   "id": "891b9982",
   "metadata": {},
   "source": [
    "<font size=5, font color='blue'> Check whether the two dataframes have the same number of rows, which means equal number of data points / observations. Column numbers of the two dataframes may differ due to the difference between Stata and Python APIs, and so do the order, datatypes and names of columns and the order of rows, which is why we don't require a complete match between python_df and stata_df."
   ]
  },
  {
   "cell_type": "code",
   "execution_count": 3,
   "id": "922205b2",
   "metadata": {},
   "outputs": [
    {
     "data": {
      "text/plain": [
       "True"
      ]
     },
     "execution_count": 3,
     "metadata": {},
     "output_type": "execute_result"
    }
   ],
   "source": [
    "stata_df.shape[0]==python_df.shape[0]"
   ]
  },
  {
   "cell_type": "markdown",
   "id": "2c756d80",
   "metadata": {},
   "source": [
    "<font size=5, font color='blue'> ['period_start_day'] in stata_df is the most accurate timestamp assigned to each observation (row). In python_df its equivalent is ['period'], so we rename it to match the column name in stata_df. We match the datatype of the two columns by converting both of them to pandas datetime objects. We also convert the datatype of ['value'] in stata_df to numeric."
   ]
  },
  {
   "cell_type": "code",
   "execution_count": 4,
   "id": "869e25b8",
   "metadata": {},
   "outputs": [],
   "source": [
    "python_df.rename(columns={'period':'period_start_day'},inplace=True)\n",
    "stata_df['period_start_day'] = pd.to_datetime(stata_df['period_start_day'])\n",
    "python_df['period_start_day'] = pd.to_datetime(python_df['period_start_day'])\n",
    "stata_df['value'] = pd.to_numeric(stata_df['value'],'coerce')"
   ]
  },
  {
   "cell_type": "markdown",
   "id": "3c8ac514",
   "metadata": {},
   "source": [
    "<font size=5, font color='blue'> Check whether ['period_start_day', 'series_code'] can identify a unique row in both stata_df and python_df, if not then there is a duplication or error in Dbnomics."
   ]
  },
  {
   "cell_type": "code",
   "execution_count": 5,
   "id": "95929551",
   "metadata": {},
   "outputs": [
    {
     "data": {
      "text/plain": [
       "False"
      ]
     },
     "execution_count": 5,
     "metadata": {},
     "output_type": "execute_result"
    }
   ],
   "source": [
    "cols = ['period_start_day', 'series_code']\n",
    "sum(stata_df.duplicated(subset=cols))+sum(python_df.duplicated(subset=cols)) == 0"
   ]
  },
  {
   "cell_type": "markdown",
   "id": "d95b728e",
   "metadata": {},
   "source": [
    "<font size=5, font color='blue'> The provider reused series codes in several datasets, so we now need ['period_start_day', 'series_code', 'dataset_code'] to identify a unique row for stata_df and python_df"
   ]
  },
  {
   "cell_type": "code",
   "execution_count": 6,
   "id": "3b58f6f9",
   "metadata": {},
   "outputs": [
    {
     "data": {
      "text/plain": [
       "True"
      ]
     },
     "execution_count": 6,
     "metadata": {},
     "output_type": "execute_result"
    }
   ],
   "source": [
    "sum(stata_df.duplicated(subset=cols+['dataset_code']))+sum(python_df.duplicated(subset=cols+['dataset_code'])) == 0"
   ]
  },
  {
   "cell_type": "markdown",
   "id": "2c3b0bad",
   "metadata": {},
   "source": [
    "<font size=5, font color='blue'> Then we sort the two dataframes by ['period_start_day', 'series_code', 'dataset_code']. This ensures observations in the two dataframes are in the same order. Finally we check whether the two sub-frames [['period_start_day','series_code','dataset_code', 'value']] sliced from stata_df and python_df are exactly the same."
   ]
  },
  {
   "cell_type": "code",
   "execution_count": 7,
   "id": "be99fb77",
   "metadata": {},
   "outputs": [
    {
     "data": {
      "text/plain": [
       "True"
      ]
     },
     "execution_count": 7,
     "metadata": {},
     "output_type": "execute_result"
    }
   ],
   "source": [
    "stata_sub = stata_df.sort_values(by=cols+['dataset_code'])[cols+['dataset_code', 'value']].reset_index(drop=True)\n",
    "python_sub = python_df.sort_values(by=cols+['dataset_code'])[cols+['dataset_code', 'value']].reset_index(drop=True)\n",
    "stata_sub.equals(python_sub)"
   ]
  }
 ],
 "metadata": {
  "kernelspec": {
   "display_name": "Python 3 (ipykernel)",
   "language": "python",
   "name": "python3"
  },
  "language_info": {
   "codemirror_mode": {
    "name": "ipython",
    "version": 3
   },
   "file_extension": ".py",
   "mimetype": "text/x-python",
   "name": "python",
   "nbconvert_exporter": "python",
   "pygments_lexer": "ipython3",
   "version": "3.11.7"
  },
  "toc": {
   "base_numbering": 1,
   "nav_menu": {},
   "number_sections": true,
   "sideBar": true,
   "skip_h1_title": false,
   "title_cell": "Table of Contents",
   "title_sidebar": "Contents",
   "toc_cell": false,
   "toc_position": {},
   "toc_section_display": true,
   "toc_window_display": false
  }
 },
 "nbformat": 4,
 "nbformat_minor": 5
}
