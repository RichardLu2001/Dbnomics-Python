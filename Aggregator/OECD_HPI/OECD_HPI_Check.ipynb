{
 "cells": [
  {
   "cell_type": "markdown",
   "id": "6c8ace8a",
   "metadata": {},
   "source": [
    "<font size=5, font color='blue'> stata_df is the dataframe downloaded through Stata API"
   ]
  },
  {
   "cell_type": "code",
   "execution_count": 1,
   "id": "47406cda",
   "metadata": {
    "scrolled": false
   },
   "outputs": [
    {
     "data": {
      "text/html": [
       "<div>\n",
       "<style scoped>\n",
       "    .dataframe tbody tr th:only-of-type {\n",
       "        vertical-align: middle;\n",
       "    }\n",
       "\n",
       "    .dataframe tbody tr th {\n",
       "        vertical-align: top;\n",
       "    }\n",
       "\n",
       "    .dataframe thead th {\n",
       "        text-align: right;\n",
       "    }\n",
       "</style>\n",
       "<table border=\"1\" class=\"dataframe\">\n",
       "  <thead>\n",
       "    <tr style=\"text-align: right;\">\n",
       "      <th></th>\n",
       "      <th>period</th>\n",
       "      <th>period_start_day</th>\n",
       "      <th>value</th>\n",
       "      <th>frequency</th>\n",
       "      <th>dataset_code</th>\n",
       "      <th>dataset_name</th>\n",
       "      <th>cou</th>\n",
       "      <th>FREQUENCY</th>\n",
       "      <th>ind</th>\n",
       "      <th>indexed_at</th>\n",
       "      <th>provider_code</th>\n",
       "      <th>series_code</th>\n",
       "      <th>series_name</th>\n",
       "      <th>series_num</th>\n",
       "    </tr>\n",
       "  </thead>\n",
       "  <tbody>\n",
       "    <tr>\n",
       "      <th>0</th>\n",
       "      <td>1970</td>\n",
       "      <td>1970-01-01</td>\n",
       "      <td>2.552380</td>\n",
       "      <td>annual</td>\n",
       "      <td>HOUSE_PRICES</td>\n",
       "      <td>Analytical house prices indicators</td>\n",
       "      <td>AUS</td>\n",
       "      <td>A</td>\n",
       "      <td>HPI</td>\n",
       "      <td>2024-10-31T09:51:20.215Z</td>\n",
       "      <td>OECD</td>\n",
       "      <td>A.AUS.HPI</td>\n",
       "      <td>Annual – Australia – Nominal house price indic...</td>\n",
       "      <td>Master</td>\n",
       "    </tr>\n",
       "    <tr>\n",
       "      <th>1</th>\n",
       "      <td>1971</td>\n",
       "      <td>1971-01-01</td>\n",
       "      <td>2.851352</td>\n",
       "      <td>annual</td>\n",
       "      <td>HOUSE_PRICES</td>\n",
       "      <td>Analytical house prices indicators</td>\n",
       "      <td>AUS</td>\n",
       "      <td>A</td>\n",
       "      <td>HPI</td>\n",
       "      <td>2024-10-31T09:51:20.215Z</td>\n",
       "      <td>OECD</td>\n",
       "      <td>A.AUS.HPI</td>\n",
       "      <td>Annual – Australia – Nominal house price indic...</td>\n",
       "      <td>Master</td>\n",
       "    </tr>\n",
       "    <tr>\n",
       "      <th>2</th>\n",
       "      <td>1972</td>\n",
       "      <td>1972-01-01</td>\n",
       "      <td>3.183667</td>\n",
       "      <td>annual</td>\n",
       "      <td>HOUSE_PRICES</td>\n",
       "      <td>Analytical house prices indicators</td>\n",
       "      <td>AUS</td>\n",
       "      <td>A</td>\n",
       "      <td>HPI</td>\n",
       "      <td>2024-10-31T09:51:20.215Z</td>\n",
       "      <td>OECD</td>\n",
       "      <td>A.AUS.HPI</td>\n",
       "      <td>Annual – Australia – Nominal house price indic...</td>\n",
       "      <td>Master</td>\n",
       "    </tr>\n",
       "    <tr>\n",
       "      <th>3</th>\n",
       "      <td>1973</td>\n",
       "      <td>1973-01-01</td>\n",
       "      <td>3.837183</td>\n",
       "      <td>annual</td>\n",
       "      <td>HOUSE_PRICES</td>\n",
       "      <td>Analytical house prices indicators</td>\n",
       "      <td>AUS</td>\n",
       "      <td>A</td>\n",
       "      <td>HPI</td>\n",
       "      <td>2024-10-31T09:51:20.215Z</td>\n",
       "      <td>OECD</td>\n",
       "      <td>A.AUS.HPI</td>\n",
       "      <td>Annual – Australia – Nominal house price indic...</td>\n",
       "      <td>Master</td>\n",
       "    </tr>\n",
       "    <tr>\n",
       "      <th>4</th>\n",
       "      <td>1974</td>\n",
       "      <td>1974-01-01</td>\n",
       "      <td>4.690199</td>\n",
       "      <td>annual</td>\n",
       "      <td>HOUSE_PRICES</td>\n",
       "      <td>Analytical house prices indicators</td>\n",
       "      <td>AUS</td>\n",
       "      <td>A</td>\n",
       "      <td>HPI</td>\n",
       "      <td>2024-10-31T09:51:20.215Z</td>\n",
       "      <td>OECD</td>\n",
       "      <td>A.AUS.HPI</td>\n",
       "      <td>Annual – Australia – Nominal house price indic...</td>\n",
       "      <td>Master</td>\n",
       "    </tr>\n",
       "  </tbody>\n",
       "</table>\n",
       "</div>"
      ],
      "text/plain": [
       "   period period_start_day     value frequency  dataset_code  \\\n",
       "0    1970       1970-01-01  2.552380    annual  HOUSE_PRICES   \n",
       "1    1971       1971-01-01  2.851352    annual  HOUSE_PRICES   \n",
       "2    1972       1972-01-01  3.183667    annual  HOUSE_PRICES   \n",
       "3    1973       1973-01-01  3.837183    annual  HOUSE_PRICES   \n",
       "4    1974       1974-01-01  4.690199    annual  HOUSE_PRICES   \n",
       "\n",
       "                         dataset_name  cou FREQUENCY  ind  \\\n",
       "0  Analytical house prices indicators  AUS         A  HPI   \n",
       "1  Analytical house prices indicators  AUS         A  HPI   \n",
       "2  Analytical house prices indicators  AUS         A  HPI   \n",
       "3  Analytical house prices indicators  AUS         A  HPI   \n",
       "4  Analytical house prices indicators  AUS         A  HPI   \n",
       "\n",
       "                 indexed_at provider_code series_code  \\\n",
       "0  2024-10-31T09:51:20.215Z          OECD   A.AUS.HPI   \n",
       "1  2024-10-31T09:51:20.215Z          OECD   A.AUS.HPI   \n",
       "2  2024-10-31T09:51:20.215Z          OECD   A.AUS.HPI   \n",
       "3  2024-10-31T09:51:20.215Z          OECD   A.AUS.HPI   \n",
       "4  2024-10-31T09:51:20.215Z          OECD   A.AUS.HPI   \n",
       "\n",
       "                                         series_name series_num  \n",
       "0  Annual – Australia – Nominal house price indic...     Master  \n",
       "1  Annual – Australia – Nominal house price indic...     Master  \n",
       "2  Annual – Australia – Nominal house price indic...     Master  \n",
       "3  Annual – Australia – Nominal house price indic...     Master  \n",
       "4  Annual – Australia – Nominal house price indic...     Master  "
      ]
     },
     "execution_count": 1,
     "metadata": {},
     "output_type": "execute_result"
    }
   ],
   "source": [
    "import pandas as pd\n",
    "pd.options.mode.chained_assignment = None\n",
    "\n",
    "stata_df = pd.read_stata(\"OECD_HPI.dta\")\n",
    "stata_df.head()"
   ]
  },
  {
   "cell_type": "markdown",
   "id": "12314c37",
   "metadata": {},
   "source": [
    "<font size=5, font color='blue'> python_df is the dataframe downloaded through Python API. "
   ]
  },
  {
   "cell_type": "code",
   "execution_count": 2,
   "id": "20b37bca",
   "metadata": {},
   "outputs": [
    {
     "data": {
      "text/html": [
       "<div>\n",
       "<style scoped>\n",
       "    .dataframe tbody tr th:only-of-type {\n",
       "        vertical-align: middle;\n",
       "    }\n",
       "\n",
       "    .dataframe tbody tr th {\n",
       "        vertical-align: top;\n",
       "    }\n",
       "\n",
       "    .dataframe thead th {\n",
       "        text-align: right;\n",
       "    }\n",
       "</style>\n",
       "<table border=\"1\" class=\"dataframe\">\n",
       "  <thead>\n",
       "    <tr style=\"text-align: right;\">\n",
       "      <th></th>\n",
       "      <th>@frequency</th>\n",
       "      <th>provider_code</th>\n",
       "      <th>dataset_code</th>\n",
       "      <th>dataset_name</th>\n",
       "      <th>series_code</th>\n",
       "      <th>series_name</th>\n",
       "      <th>original_period</th>\n",
       "      <th>period</th>\n",
       "      <th>original_value</th>\n",
       "      <th>value</th>\n",
       "      <th>FREQUENCY</th>\n",
       "      <th>COU</th>\n",
       "      <th>IND</th>\n",
       "      <th>Frequency</th>\n",
       "      <th>Country</th>\n",
       "      <th>Indicator</th>\n",
       "    </tr>\n",
       "  </thead>\n",
       "  <tbody>\n",
       "    <tr>\n",
       "      <th>0</th>\n",
       "      <td>annual</td>\n",
       "      <td>OECD</td>\n",
       "      <td>HOUSE_PRICES</td>\n",
       "      <td>Analytical house prices indicators</td>\n",
       "      <td>A.AUS.HPI</td>\n",
       "      <td>Annual – Australia – Nominal house price indic...</td>\n",
       "      <td>1970</td>\n",
       "      <td>1970-01-01</td>\n",
       "      <td>2.552380</td>\n",
       "      <td>2.552380</td>\n",
       "      <td>A</td>\n",
       "      <td>AUS</td>\n",
       "      <td>HPI</td>\n",
       "      <td>Annual</td>\n",
       "      <td>Australia</td>\n",
       "      <td>Nominal house price indices, s.a.</td>\n",
       "    </tr>\n",
       "    <tr>\n",
       "      <th>1</th>\n",
       "      <td>annual</td>\n",
       "      <td>OECD</td>\n",
       "      <td>HOUSE_PRICES</td>\n",
       "      <td>Analytical house prices indicators</td>\n",
       "      <td>A.AUS.HPI</td>\n",
       "      <td>Annual – Australia – Nominal house price indic...</td>\n",
       "      <td>1971</td>\n",
       "      <td>1971-01-01</td>\n",
       "      <td>2.851352</td>\n",
       "      <td>2.851352</td>\n",
       "      <td>A</td>\n",
       "      <td>AUS</td>\n",
       "      <td>HPI</td>\n",
       "      <td>Annual</td>\n",
       "      <td>Australia</td>\n",
       "      <td>Nominal house price indices, s.a.</td>\n",
       "    </tr>\n",
       "    <tr>\n",
       "      <th>2</th>\n",
       "      <td>annual</td>\n",
       "      <td>OECD</td>\n",
       "      <td>HOUSE_PRICES</td>\n",
       "      <td>Analytical house prices indicators</td>\n",
       "      <td>A.AUS.HPI</td>\n",
       "      <td>Annual – Australia – Nominal house price indic...</td>\n",
       "      <td>1972</td>\n",
       "      <td>1972-01-01</td>\n",
       "      <td>3.183667</td>\n",
       "      <td>3.183667</td>\n",
       "      <td>A</td>\n",
       "      <td>AUS</td>\n",
       "      <td>HPI</td>\n",
       "      <td>Annual</td>\n",
       "      <td>Australia</td>\n",
       "      <td>Nominal house price indices, s.a.</td>\n",
       "    </tr>\n",
       "    <tr>\n",
       "      <th>3</th>\n",
       "      <td>annual</td>\n",
       "      <td>OECD</td>\n",
       "      <td>HOUSE_PRICES</td>\n",
       "      <td>Analytical house prices indicators</td>\n",
       "      <td>A.AUS.HPI</td>\n",
       "      <td>Annual – Australia – Nominal house price indic...</td>\n",
       "      <td>1973</td>\n",
       "      <td>1973-01-01</td>\n",
       "      <td>3.837183</td>\n",
       "      <td>3.837183</td>\n",
       "      <td>A</td>\n",
       "      <td>AUS</td>\n",
       "      <td>HPI</td>\n",
       "      <td>Annual</td>\n",
       "      <td>Australia</td>\n",
       "      <td>Nominal house price indices, s.a.</td>\n",
       "    </tr>\n",
       "    <tr>\n",
       "      <th>4</th>\n",
       "      <td>annual</td>\n",
       "      <td>OECD</td>\n",
       "      <td>HOUSE_PRICES</td>\n",
       "      <td>Analytical house prices indicators</td>\n",
       "      <td>A.AUS.HPI</td>\n",
       "      <td>Annual – Australia – Nominal house price indic...</td>\n",
       "      <td>1974</td>\n",
       "      <td>1974-01-01</td>\n",
       "      <td>4.690199</td>\n",
       "      <td>4.690199</td>\n",
       "      <td>A</td>\n",
       "      <td>AUS</td>\n",
       "      <td>HPI</td>\n",
       "      <td>Annual</td>\n",
       "      <td>Australia</td>\n",
       "      <td>Nominal house price indices, s.a.</td>\n",
       "    </tr>\n",
       "  </tbody>\n",
       "</table>\n",
       "</div>"
      ],
      "text/plain": [
       "  @frequency provider_code  dataset_code                        dataset_name  \\\n",
       "0     annual          OECD  HOUSE_PRICES  Analytical house prices indicators   \n",
       "1     annual          OECD  HOUSE_PRICES  Analytical house prices indicators   \n",
       "2     annual          OECD  HOUSE_PRICES  Analytical house prices indicators   \n",
       "3     annual          OECD  HOUSE_PRICES  Analytical house prices indicators   \n",
       "4     annual          OECD  HOUSE_PRICES  Analytical house prices indicators   \n",
       "\n",
       "  series_code                                        series_name  \\\n",
       "0   A.AUS.HPI  Annual – Australia – Nominal house price indic...   \n",
       "1   A.AUS.HPI  Annual – Australia – Nominal house price indic...   \n",
       "2   A.AUS.HPI  Annual – Australia – Nominal house price indic...   \n",
       "3   A.AUS.HPI  Annual – Australia – Nominal house price indic...   \n",
       "4   A.AUS.HPI  Annual – Australia – Nominal house price indic...   \n",
       "\n",
       "  original_period     period  original_value     value FREQUENCY  COU  IND  \\\n",
       "0            1970 1970-01-01        2.552380  2.552380         A  AUS  HPI   \n",
       "1            1971 1971-01-01        2.851352  2.851352         A  AUS  HPI   \n",
       "2            1972 1972-01-01        3.183667  3.183667         A  AUS  HPI   \n",
       "3            1973 1973-01-01        3.837183  3.837183         A  AUS  HPI   \n",
       "4            1974 1974-01-01        4.690199  4.690199         A  AUS  HPI   \n",
       "\n",
       "  Frequency    Country                          Indicator  \n",
       "0    Annual  Australia  Nominal house price indices, s.a.  \n",
       "1    Annual  Australia  Nominal house price indices, s.a.  \n",
       "2    Annual  Australia  Nominal house price indices, s.a.  \n",
       "3    Annual  Australia  Nominal house price indices, s.a.  \n",
       "4    Annual  Australia  Nominal house price indices, s.a.  "
      ]
     },
     "execution_count": 2,
     "metadata": {},
     "output_type": "execute_result"
    }
   ],
   "source": [
    "python_df = pd.read_pickle(\"OECD_HPI.pkl\")\n",
    "python_df.head()"
   ]
  },
  {
   "cell_type": "markdown",
   "id": "891b9982",
   "metadata": {},
   "source": [
    "<font size=5, font color='blue'> Check whether the two dataframes have the same number of rows, which means equal number of data points / observations. Column numbers of the two dataframes may differ due to the difference between Stata and Python APIs, and so do the order, datatypes and names of columns and the order of rows, which is why we don't require a complete match between python_df and stata_df."
   ]
  },
  {
   "cell_type": "code",
   "execution_count": 3,
   "id": "922205b2",
   "metadata": {},
   "outputs": [
    {
     "data": {
      "text/plain": [
       "True"
      ]
     },
     "execution_count": 3,
     "metadata": {},
     "output_type": "execute_result"
    }
   ],
   "source": [
    "stata_df.shape[0]==python_df.shape[0]"
   ]
  },
  {
   "cell_type": "markdown",
   "id": "2c756d80",
   "metadata": {},
   "source": [
    "<font size=5, font color='blue'> ['period_start_day'] in stata_df is the most accurate timestamp assigned to each observation (row). In python_df its equivalent is ['period'], so we rename it to match the column name in stata_df. We match the datatype of the two columns by converting both of them to pandas datetime objects. We also convert the datatype of ['value'] in stata_df to numeric."
   ]
  },
  {
   "cell_type": "code",
   "execution_count": 4,
   "id": "869e25b8",
   "metadata": {},
   "outputs": [],
   "source": [
    "python_df.rename(columns={'period':'period_start_day'},inplace=True)\n",
    "stata_df['period_start_day'] = pd.to_datetime(stata_df['period_start_day'])\n",
    "python_df['period_start_day'] = pd.to_datetime(python_df['period_start_day'])\n",
    "stata_df['value'] = pd.to_numeric(stata_df['value'],'coerce').astype('float64')\n",
    "python_df['value'] = python_df['value'].astype('float64')"
   ]
  },
  {
   "cell_type": "markdown",
   "id": "3c8ac514",
   "metadata": {},
   "source": [
    "<font size=5, font color='blue'> Check whether ['period_start_day', 'series_code'] can identify a unique row in both stata_df and python_df, if not then there is a duplication or error in Dbnomics."
   ]
  },
  {
   "cell_type": "code",
   "execution_count": 5,
   "id": "95929551",
   "metadata": {},
   "outputs": [
    {
     "data": {
      "text/plain": [
       "True"
      ]
     },
     "execution_count": 5,
     "metadata": {},
     "output_type": "execute_result"
    }
   ],
   "source": [
    "cols = ['period_start_day', 'series_code']\n",
    "sum(stata_df.duplicated(subset=cols))+sum(python_df.duplicated(subset=cols)) == 0"
   ]
  },
  {
   "cell_type": "markdown",
   "id": "2c3b0bad",
   "metadata": {},
   "source": [
    "<font size=5, font color='blue'> Then we sort the two dataframes by ['period_start_day', 'series_code']. This ensures observations in the two dataframes are in the same order. Finally we check whether the two sub-frames [['period_start_day','series_code','value']] sliced from stata_df and python_df are exactly the same."
   ]
  },
  {
   "cell_type": "code",
   "execution_count": 6,
   "id": "be99fb77",
   "metadata": {},
   "outputs": [
    {
     "data": {
      "text/plain": [
       "True"
      ]
     },
     "execution_count": 6,
     "metadata": {},
     "output_type": "execute_result"
    }
   ],
   "source": [
    "stata_sub = stata_df.sort_values(by=cols)[cols+['value']].reset_index(drop=True)\n",
    "python_sub = python_df.sort_values(by=cols)[cols+['value']].reset_index(drop=True)\n",
    "stata_sub.equals(python_sub)"
   ]
  }
 ],
 "metadata": {
  "kernelspec": {
   "display_name": "Python 3 (ipykernel)",
   "language": "python",
   "name": "python3"
  },
  "language_info": {
   "codemirror_mode": {
    "name": "ipython",
    "version": 3
   },
   "file_extension": ".py",
   "mimetype": "text/x-python",
   "name": "python",
   "nbconvert_exporter": "python",
   "pygments_lexer": "ipython3",
   "version": "3.11.7"
  },
  "toc": {
   "base_numbering": 1,
   "nav_menu": {},
   "number_sections": true,
   "sideBar": true,
   "skip_h1_title": false,
   "title_cell": "Table of Contents",
   "title_sidebar": "Contents",
   "toc_cell": false,
   "toc_position": {},
   "toc_section_display": true,
   "toc_window_display": false
  }
 },
 "nbformat": 4,
 "nbformat_minor": 5
}
