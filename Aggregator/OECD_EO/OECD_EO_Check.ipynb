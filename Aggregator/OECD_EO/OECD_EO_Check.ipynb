{
 "cells": [
  {
   "cell_type": "markdown",
   "id": "6c8ace8a",
   "metadata": {},
   "source": [
    "<font size=5, font color='blue'> stata_df is the dataframe downloaded through Stata API"
   ]
  },
  {
   "cell_type": "code",
   "execution_count": 1,
   "id": "47406cda",
   "metadata": {
    "scrolled": false
   },
   "outputs": [
    {
     "data": {
      "text/html": [
       "<div>\n",
       "<style scoped>\n",
       "    .dataframe tbody tr th:only-of-type {\n",
       "        vertical-align: middle;\n",
       "    }\n",
       "\n",
       "    .dataframe tbody tr th {\n",
       "        vertical-align: top;\n",
       "    }\n",
       "\n",
       "    .dataframe thead th {\n",
       "        text-align: right;\n",
       "    }\n",
       "</style>\n",
       "<table border=\"1\" class=\"dataframe\">\n",
       "  <thead>\n",
       "    <tr style=\"text-align: right;\">\n",
       "      <th></th>\n",
       "      <th>period</th>\n",
       "      <th>period_start_day</th>\n",
       "      <th>value</th>\n",
       "      <th>frequency</th>\n",
       "      <th>dataset_code</th>\n",
       "      <th>dataset_name</th>\n",
       "      <th>indicator</th>\n",
       "      <th>location</th>\n",
       "      <th>indexed_at</th>\n",
       "      <th>provider_code</th>\n",
       "      <th>series_code</th>\n",
       "      <th>series_name</th>\n",
       "      <th>series_num</th>\n",
       "    </tr>\n",
       "  </thead>\n",
       "  <tbody>\n",
       "    <tr>\n",
       "      <th>0</th>\n",
       "      <td>1970</td>\n",
       "      <td>1970-01-01</td>\n",
       "      <td>-1.528287</td>\n",
       "      <td>annual</td>\n",
       "      <td>NAAG</td>\n",
       "      <td>National Accounts at a Glance</td>\n",
       "      <td>B9S13S</td>\n",
       "      <td>AUS</td>\n",
       "      <td>2024-07-03T07:12:51.547Z</td>\n",
       "      <td>OECD</td>\n",
       "      <td>AUS.B9S13S</td>\n",
       "      <td>Australia – Net lending/net borrowing, General...</td>\n",
       "      <td>Master</td>\n",
       "    </tr>\n",
       "    <tr>\n",
       "      <th>1</th>\n",
       "      <td>1971</td>\n",
       "      <td>1971-01-01</td>\n",
       "      <td>-1.495050</td>\n",
       "      <td>annual</td>\n",
       "      <td>NAAG</td>\n",
       "      <td>National Accounts at a Glance</td>\n",
       "      <td>B9S13S</td>\n",
       "      <td>AUS</td>\n",
       "      <td>2024-07-03T07:12:51.547Z</td>\n",
       "      <td>OECD</td>\n",
       "      <td>AUS.B9S13S</td>\n",
       "      <td>Australia – Net lending/net borrowing, General...</td>\n",
       "      <td>Master</td>\n",
       "    </tr>\n",
       "    <tr>\n",
       "      <th>2</th>\n",
       "      <td>1972</td>\n",
       "      <td>1972-01-01</td>\n",
       "      <td>-1.961060</td>\n",
       "      <td>annual</td>\n",
       "      <td>NAAG</td>\n",
       "      <td>National Accounts at a Glance</td>\n",
       "      <td>B9S13S</td>\n",
       "      <td>AUS</td>\n",
       "      <td>2024-07-03T07:12:51.547Z</td>\n",
       "      <td>OECD</td>\n",
       "      <td>AUS.B9S13S</td>\n",
       "      <td>Australia – Net lending/net borrowing, General...</td>\n",
       "      <td>Master</td>\n",
       "    </tr>\n",
       "    <tr>\n",
       "      <th>3</th>\n",
       "      <td>1973</td>\n",
       "      <td>1973-01-01</td>\n",
       "      <td>-0.826679</td>\n",
       "      <td>annual</td>\n",
       "      <td>NAAG</td>\n",
       "      <td>National Accounts at a Glance</td>\n",
       "      <td>B9S13S</td>\n",
       "      <td>AUS</td>\n",
       "      <td>2024-07-03T07:12:51.547Z</td>\n",
       "      <td>OECD</td>\n",
       "      <td>AUS.B9S13S</td>\n",
       "      <td>Australia – Net lending/net borrowing, General...</td>\n",
       "      <td>Master</td>\n",
       "    </tr>\n",
       "    <tr>\n",
       "      <th>4</th>\n",
       "      <td>1974</td>\n",
       "      <td>1974-01-01</td>\n",
       "      <td>-3.445372</td>\n",
       "      <td>annual</td>\n",
       "      <td>NAAG</td>\n",
       "      <td>National Accounts at a Glance</td>\n",
       "      <td>B9S13S</td>\n",
       "      <td>AUS</td>\n",
       "      <td>2024-07-03T07:12:51.547Z</td>\n",
       "      <td>OECD</td>\n",
       "      <td>AUS.B9S13S</td>\n",
       "      <td>Australia – Net lending/net borrowing, General...</td>\n",
       "      <td>Master</td>\n",
       "    </tr>\n",
       "  </tbody>\n",
       "</table>\n",
       "</div>"
      ],
      "text/plain": [
       "   period period_start_day     value frequency dataset_code  \\\n",
       "0    1970       1970-01-01 -1.528287    annual         NAAG   \n",
       "1    1971       1971-01-01 -1.495050    annual         NAAG   \n",
       "2    1972       1972-01-01 -1.961060    annual         NAAG   \n",
       "3    1973       1973-01-01 -0.826679    annual         NAAG   \n",
       "4    1974       1974-01-01 -3.445372    annual         NAAG   \n",
       "\n",
       "                    dataset_name indicator location                indexed_at  \\\n",
       "0  National Accounts at a Glance    B9S13S      AUS  2024-07-03T07:12:51.547Z   \n",
       "1  National Accounts at a Glance    B9S13S      AUS  2024-07-03T07:12:51.547Z   \n",
       "2  National Accounts at a Glance    B9S13S      AUS  2024-07-03T07:12:51.547Z   \n",
       "3  National Accounts at a Glance    B9S13S      AUS  2024-07-03T07:12:51.547Z   \n",
       "4  National Accounts at a Glance    B9S13S      AUS  2024-07-03T07:12:51.547Z   \n",
       "\n",
       "  provider_code series_code  \\\n",
       "0          OECD  AUS.B9S13S   \n",
       "1          OECD  AUS.B9S13S   \n",
       "2          OECD  AUS.B9S13S   \n",
       "3          OECD  AUS.B9S13S   \n",
       "4          OECD  AUS.B9S13S   \n",
       "\n",
       "                                         series_name series_num  \n",
       "0  Australia – Net lending/net borrowing, General...     Master  \n",
       "1  Australia – Net lending/net borrowing, General...     Master  \n",
       "2  Australia – Net lending/net borrowing, General...     Master  \n",
       "3  Australia – Net lending/net borrowing, General...     Master  \n",
       "4  Australia – Net lending/net borrowing, General...     Master  "
      ]
     },
     "execution_count": 1,
     "metadata": {},
     "output_type": "execute_result"
    }
   ],
   "source": [
    "import pandas as pd\n",
    "pd.options.mode.chained_assignment = None\n",
    "\n",
    "stata_df = pd.read_stata(\"OECD_EO.dta\")\n",
    "stata_df.head()"
   ]
  },
  {
   "cell_type": "markdown",
   "id": "12314c37",
   "metadata": {},
   "source": [
    "<font size=5, font color='blue'> python_df is the dataframe downloaded through Python API. "
   ]
  },
  {
   "cell_type": "code",
   "execution_count": 2,
   "id": "20b37bca",
   "metadata": {},
   "outputs": [
    {
     "data": {
      "text/html": [
       "<div>\n",
       "<style scoped>\n",
       "    .dataframe tbody tr th:only-of-type {\n",
       "        vertical-align: middle;\n",
       "    }\n",
       "\n",
       "    .dataframe tbody tr th {\n",
       "        vertical-align: top;\n",
       "    }\n",
       "\n",
       "    .dataframe thead th {\n",
       "        text-align: right;\n",
       "    }\n",
       "</style>\n",
       "<table border=\"1\" class=\"dataframe\">\n",
       "  <thead>\n",
       "    <tr style=\"text-align: right;\">\n",
       "      <th></th>\n",
       "      <th>@frequency</th>\n",
       "      <th>provider_code</th>\n",
       "      <th>dataset_code</th>\n",
       "      <th>dataset_name</th>\n",
       "      <th>series_code</th>\n",
       "      <th>series_name</th>\n",
       "      <th>original_period</th>\n",
       "      <th>period</th>\n",
       "      <th>original_value</th>\n",
       "      <th>value</th>\n",
       "      <th>LOCATION</th>\n",
       "      <th>INDICATOR</th>\n",
       "      <th>Country</th>\n",
       "      <th>Indicator</th>\n",
       "    </tr>\n",
       "  </thead>\n",
       "  <tbody>\n",
       "    <tr>\n",
       "      <th>0</th>\n",
       "      <td>annual</td>\n",
       "      <td>OECD</td>\n",
       "      <td>EO</td>\n",
       "      <td>Economic Outlook No 115 - May 2024</td>\n",
       "      <td>ARG.CBGDPR.A</td>\n",
       "      <td>Argentina – Current account balance as a perce...</td>\n",
       "      <td>1994</td>\n",
       "      <td>1994-01-01</td>\n",
       "      <td>-3.931945</td>\n",
       "      <td>-3.931945</td>\n",
       "      <td>ARG</td>\n",
       "      <td>CBGDPR</td>\n",
       "      <td>Argentina</td>\n",
       "      <td>Current account balance as a percentage of GDP</td>\n",
       "    </tr>\n",
       "    <tr>\n",
       "      <th>1</th>\n",
       "      <td>annual</td>\n",
       "      <td>OECD</td>\n",
       "      <td>EO</td>\n",
       "      <td>Economic Outlook No 115 - May 2024</td>\n",
       "      <td>ARG.CBGDPR.A</td>\n",
       "      <td>Argentina – Current account balance as a perce...</td>\n",
       "      <td>1995</td>\n",
       "      <td>1995-01-01</td>\n",
       "      <td>-1.826127</td>\n",
       "      <td>-1.826127</td>\n",
       "      <td>ARG</td>\n",
       "      <td>CBGDPR</td>\n",
       "      <td>Argentina</td>\n",
       "      <td>Current account balance as a percentage of GDP</td>\n",
       "    </tr>\n",
       "    <tr>\n",
       "      <th>2</th>\n",
       "      <td>annual</td>\n",
       "      <td>OECD</td>\n",
       "      <td>EO</td>\n",
       "      <td>Economic Outlook No 115 - May 2024</td>\n",
       "      <td>ARG.CBGDPR.A</td>\n",
       "      <td>Argentina – Current account balance as a perce...</td>\n",
       "      <td>1996</td>\n",
       "      <td>1996-01-01</td>\n",
       "      <td>-2.290679</td>\n",
       "      <td>-2.290679</td>\n",
       "      <td>ARG</td>\n",
       "      <td>CBGDPR</td>\n",
       "      <td>Argentina</td>\n",
       "      <td>Current account balance as a percentage of GDP</td>\n",
       "    </tr>\n",
       "    <tr>\n",
       "      <th>3</th>\n",
       "      <td>annual</td>\n",
       "      <td>OECD</td>\n",
       "      <td>EO</td>\n",
       "      <td>Economic Outlook No 115 - May 2024</td>\n",
       "      <td>ARG.CBGDPR.A</td>\n",
       "      <td>Argentina – Current account balance as a perce...</td>\n",
       "      <td>1997</td>\n",
       "      <td>1997-01-01</td>\n",
       "      <td>-3.817375</td>\n",
       "      <td>-3.817375</td>\n",
       "      <td>ARG</td>\n",
       "      <td>CBGDPR</td>\n",
       "      <td>Argentina</td>\n",
       "      <td>Current account balance as a percentage of GDP</td>\n",
       "    </tr>\n",
       "    <tr>\n",
       "      <th>4</th>\n",
       "      <td>annual</td>\n",
       "      <td>OECD</td>\n",
       "      <td>EO</td>\n",
       "      <td>Economic Outlook No 115 - May 2024</td>\n",
       "      <td>ARG.CBGDPR.A</td>\n",
       "      <td>Argentina – Current account balance as a perce...</td>\n",
       "      <td>1998</td>\n",
       "      <td>1998-01-01</td>\n",
       "      <td>-4.464039</td>\n",
       "      <td>-4.464039</td>\n",
       "      <td>ARG</td>\n",
       "      <td>CBGDPR</td>\n",
       "      <td>Argentina</td>\n",
       "      <td>Current account balance as a percentage of GDP</td>\n",
       "    </tr>\n",
       "  </tbody>\n",
       "</table>\n",
       "</div>"
      ],
      "text/plain": [
       "  @frequency provider_code dataset_code                        dataset_name  \\\n",
       "0     annual          OECD           EO  Economic Outlook No 115 - May 2024   \n",
       "1     annual          OECD           EO  Economic Outlook No 115 - May 2024   \n",
       "2     annual          OECD           EO  Economic Outlook No 115 - May 2024   \n",
       "3     annual          OECD           EO  Economic Outlook No 115 - May 2024   \n",
       "4     annual          OECD           EO  Economic Outlook No 115 - May 2024   \n",
       "\n",
       "    series_code                                        series_name  \\\n",
       "0  ARG.CBGDPR.A  Argentina – Current account balance as a perce...   \n",
       "1  ARG.CBGDPR.A  Argentina – Current account balance as a perce...   \n",
       "2  ARG.CBGDPR.A  Argentina – Current account balance as a perce...   \n",
       "3  ARG.CBGDPR.A  Argentina – Current account balance as a perce...   \n",
       "4  ARG.CBGDPR.A  Argentina – Current account balance as a perce...   \n",
       "\n",
       "  original_period     period original_value     value LOCATION INDICATOR  \\\n",
       "0            1994 1994-01-01      -3.931945 -3.931945      ARG    CBGDPR   \n",
       "1            1995 1995-01-01      -1.826127 -1.826127      ARG    CBGDPR   \n",
       "2            1996 1996-01-01      -2.290679 -2.290679      ARG    CBGDPR   \n",
       "3            1997 1997-01-01      -3.817375 -3.817375      ARG    CBGDPR   \n",
       "4            1998 1998-01-01      -4.464039 -4.464039      ARG    CBGDPR   \n",
       "\n",
       "     Country                                       Indicator  \n",
       "0  Argentina  Current account balance as a percentage of GDP  \n",
       "1  Argentina  Current account balance as a percentage of GDP  \n",
       "2  Argentina  Current account balance as a percentage of GDP  \n",
       "3  Argentina  Current account balance as a percentage of GDP  \n",
       "4  Argentina  Current account balance as a percentage of GDP  "
      ]
     },
     "execution_count": 2,
     "metadata": {},
     "output_type": "execute_result"
    }
   ],
   "source": [
    "python_df = pd.read_pickle(\"OECD_EO.pkl\")\n",
    "python_df.head()"
   ]
  },
  {
   "cell_type": "markdown",
   "id": "891b9982",
   "metadata": {},
   "source": [
    "<font size=5, font color='blue'> Check whether the two dataframes have the same number of rows, which means equal number of data points / observations. Column numbers of the two dataframes may differ due to the difference between Stata and Python APIs, and so do the order, datatypes and names of columns and the order of rows, which is why we don't require a complete match between python_df and stata_df."
   ]
  },
  {
   "cell_type": "code",
   "execution_count": 3,
   "id": "922205b2",
   "metadata": {},
   "outputs": [
    {
     "data": {
      "text/plain": [
       "True"
      ]
     },
     "execution_count": 3,
     "metadata": {},
     "output_type": "execute_result"
    }
   ],
   "source": [
    "stata_df.shape[0]==python_df.shape[0]"
   ]
  },
  {
   "cell_type": "markdown",
   "id": "2c756d80",
   "metadata": {},
   "source": [
    "<font size=5, font color='blue'> ['period_start_day'] in stata_df is the most accurate timestamp assigned to each observation (row). In python_df its equivalent is ['period'], so we rename it to match the column name in stata_df. We match the datatype of the two columns by converting both of them to pandas datetime objects. We also convert the datatype of ['value'] in stata_df to numeric."
   ]
  },
  {
   "cell_type": "code",
   "execution_count": 4,
   "id": "869e25b8",
   "metadata": {},
   "outputs": [],
   "source": [
    "python_df.rename(columns={'period':'period_start_day'},inplace=True)\n",
    "stata_df['period_start_day'] = pd.to_datetime(stata_df['period_start_day'])\n",
    "python_df['period_start_day'] = pd.to_datetime(python_df['period_start_day'])\n",
    "stata_df['value'] = pd.to_numeric(stata_df['value'],'coerce').astype('float64')\n",
    "python_df['value'] = python_df['value'].astype('float64')"
   ]
  },
  {
   "cell_type": "markdown",
   "id": "3c8ac514",
   "metadata": {},
   "source": [
    "<font size=5, font color='blue'> Check whether ['period_start_day', 'series_code'] can identify a unique row in both stata_df and python_df, if not then there is a duplication or error in Dbnomics."
   ]
  },
  {
   "cell_type": "code",
   "execution_count": 5,
   "id": "95929551",
   "metadata": {},
   "outputs": [
    {
     "data": {
      "text/plain": [
       "True"
      ]
     },
     "execution_count": 5,
     "metadata": {},
     "output_type": "execute_result"
    }
   ],
   "source": [
    "cols = ['period_start_day', 'series_code']\n",
    "sum(stata_df.duplicated(subset=cols))+sum(python_df.duplicated(subset=cols)) == 0"
   ]
  },
  {
   "cell_type": "markdown",
   "id": "2c3b0bad",
   "metadata": {},
   "source": [
    "<font size=5, font color='blue'> Then we sort the two dataframes by ['period_start_day', 'series_code']. This ensures observations in the two dataframes are in the same order. Finally we check whether the two sub-frames [['period_start_day','series_code','value']] sliced from stata_df and python_df are exactly the same."
   ]
  },
  {
   "cell_type": "code",
   "execution_count": 6,
   "id": "be99fb77",
   "metadata": {},
   "outputs": [
    {
     "data": {
      "text/plain": [
       "True"
      ]
     },
     "execution_count": 6,
     "metadata": {},
     "output_type": "execute_result"
    }
   ],
   "source": [
    "stata_sub = stata_df.sort_values(by=cols)[cols+['value']].reset_index(drop=True)\n",
    "python_sub = python_df.sort_values(by=cols)[cols+['value']].reset_index(drop=True)\n",
    "stata_sub.equals(python_sub)"
   ]
  }
 ],
 "metadata": {
  "kernelspec": {
   "display_name": "Python 3 (ipykernel)",
   "language": "python",
   "name": "python3"
  },
  "language_info": {
   "codemirror_mode": {
    "name": "ipython",
    "version": 3
   },
   "file_extension": ".py",
   "mimetype": "text/x-python",
   "name": "python",
   "nbconvert_exporter": "python",
   "pygments_lexer": "ipython3",
   "version": "3.11.7"
  },
  "toc": {
   "base_numbering": 1,
   "nav_menu": {},
   "number_sections": true,
   "sideBar": true,
   "skip_h1_title": false,
   "title_cell": "Table of Contents",
   "title_sidebar": "Contents",
   "toc_cell": false,
   "toc_position": {},
   "toc_section_display": true,
   "toc_window_display": false
  }
 },
 "nbformat": 4,
 "nbformat_minor": 5
}
