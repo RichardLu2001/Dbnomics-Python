{
 "cells": [
  {
   "cell_type": "markdown",
   "id": "6c8ace8a",
   "metadata": {},
   "source": [
    "<font size=5, font color='blue'> stata_df is the dataframe downloaded through Stata API"
   ]
  },
  {
   "cell_type": "code",
   "execution_count": 1,
   "id": "47406cda",
   "metadata": {
    "scrolled": false
   },
   "outputs": [
    {
     "data": {
      "text/html": [
       "<div>\n",
       "<style scoped>\n",
       "    .dataframe tbody tr th:only-of-type {\n",
       "        vertical-align: middle;\n",
       "    }\n",
       "\n",
       "    .dataframe tbody tr th {\n",
       "        vertical-align: top;\n",
       "    }\n",
       "\n",
       "    .dataframe thead th {\n",
       "        text-align: right;\n",
       "    }\n",
       "</style>\n",
       "<table border=\"1\" class=\"dataframe\">\n",
       "  <thead>\n",
       "    <tr style=\"text-align: right;\">\n",
       "      <th></th>\n",
       "      <th>period</th>\n",
       "      <th>value</th>\n",
       "      <th>dataset_name</th>\n",
       "      <th>geo</th>\n",
       "      <th>series_code</th>\n",
       "      <th>series_name</th>\n",
       "    </tr>\n",
       "  </thead>\n",
       "  <tbody>\n",
       "    <tr>\n",
       "      <th>0</th>\n",
       "      <td>1995</td>\n",
       "      <td>113.95681</td>\n",
       "      <td>Real effective exchange rate – index, 42 tradi...</td>\n",
       "      <td>AT</td>\n",
       "      <td>A.REER_IC42_CPI.I15.AT</td>\n",
       "      <td>Annual – Real effective exchange rate (deflato...</td>\n",
       "    </tr>\n",
       "    <tr>\n",
       "      <th>1</th>\n",
       "      <td>1996</td>\n",
       "      <td>109.33398</td>\n",
       "      <td>Real effective exchange rate – index, 42 tradi...</td>\n",
       "      <td>AT</td>\n",
       "      <td>A.REER_IC42_CPI.I15.AT</td>\n",
       "      <td>Annual – Real effective exchange rate (deflato...</td>\n",
       "    </tr>\n",
       "    <tr>\n",
       "      <th>2</th>\n",
       "      <td>1997</td>\n",
       "      <td>104.45319</td>\n",
       "      <td>Real effective exchange rate – index, 42 tradi...</td>\n",
       "      <td>AT</td>\n",
       "      <td>A.REER_IC42_CPI.I15.AT</td>\n",
       "      <td>Annual – Real effective exchange rate (deflato...</td>\n",
       "    </tr>\n",
       "    <tr>\n",
       "      <th>3</th>\n",
       "      <td>1998</td>\n",
       "      <td>104.63866</td>\n",
       "      <td>Real effective exchange rate – index, 42 tradi...</td>\n",
       "      <td>AT</td>\n",
       "      <td>A.REER_IC42_CPI.I15.AT</td>\n",
       "      <td>Annual – Real effective exchange rate (deflato...</td>\n",
       "    </tr>\n",
       "    <tr>\n",
       "      <th>4</th>\n",
       "      <td>1999</td>\n",
       "      <td>103.90292</td>\n",
       "      <td>Real effective exchange rate – index, 42 tradi...</td>\n",
       "      <td>AT</td>\n",
       "      <td>A.REER_IC42_CPI.I15.AT</td>\n",
       "      <td>Annual – Real effective exchange rate (deflato...</td>\n",
       "    </tr>\n",
       "  </tbody>\n",
       "</table>\n",
       "</div>"
      ],
      "text/plain": [
       "  period      value                                       dataset_name geo  \\\n",
       "0   1995  113.95681  Real effective exchange rate – index, 42 tradi...  AT   \n",
       "1   1996  109.33398  Real effective exchange rate – index, 42 tradi...  AT   \n",
       "2   1997  104.45319  Real effective exchange rate – index, 42 tradi...  AT   \n",
       "3   1998  104.63866  Real effective exchange rate – index, 42 tradi...  AT   \n",
       "4   1999  103.90292  Real effective exchange rate – index, 42 tradi...  AT   \n",
       "\n",
       "              series_code                                        series_name  \n",
       "0  A.REER_IC42_CPI.I15.AT  Annual – Real effective exchange rate (deflato...  \n",
       "1  A.REER_IC42_CPI.I15.AT  Annual – Real effective exchange rate (deflato...  \n",
       "2  A.REER_IC42_CPI.I15.AT  Annual – Real effective exchange rate (deflato...  \n",
       "3  A.REER_IC42_CPI.I15.AT  Annual – Real effective exchange rate (deflato...  \n",
       "4  A.REER_IC42_CPI.I15.AT  Annual – Real effective exchange rate (deflato...  "
      ]
     },
     "execution_count": 1,
     "metadata": {},
     "output_type": "execute_result"
    }
   ],
   "source": [
    "import pandas as pd\n",
    "pd.options.mode.chained_assignment = None\n",
    "\n",
    "stata_df = pd.read_stata(\"EUS.dta\")\n",
    "stata_df.head()"
   ]
  },
  {
   "cell_type": "code",
   "execution_count": 2,
   "id": "31ded63b",
   "metadata": {},
   "outputs": [
    {
     "data": {
      "text/plain": [
       "(52057, 6)"
      ]
     },
     "execution_count": 2,
     "metadata": {},
     "output_type": "execute_result"
    }
   ],
   "source": [
    "stata_df.shape"
   ]
  },
  {
   "cell_type": "code",
   "execution_count": 5,
   "id": "05c19aee",
   "metadata": {},
   "outputs": [
    {
     "data": {
      "text/plain": [
       "period            0\n",
       "value           141\n",
       "dataset_name      0\n",
       "geo               0\n",
       "series_code       0\n",
       "series_name       0\n",
       "dtype: int64"
      ]
     },
     "execution_count": 5,
     "metadata": {},
     "output_type": "execute_result"
    }
   ],
   "source": [
    "stata_df.isna().sum()"
   ]
  },
  {
   "cell_type": "code",
   "execution_count": 4,
   "id": "0391dff2",
   "metadata": {},
   "outputs": [
    {
     "data": {
      "text/plain": [
       "0"
      ]
     },
     "execution_count": 4,
     "metadata": {},
     "output_type": "execute_result"
    }
   ],
   "source": [
    "stata_df[(stata_df['value']=='NA')|(stata_df['value']=='')].shape[0]"
   ]
  },
  {
   "cell_type": "markdown",
   "id": "12314c37",
   "metadata": {},
   "source": [
    "<font size=5, font color='blue'> python_df is the dataframe downloaded through Python API. "
   ]
  },
  {
   "cell_type": "code",
   "execution_count": 6,
   "id": "20b37bca",
   "metadata": {},
   "outputs": [
    {
     "data": {
      "text/html": [
       "<div>\n",
       "<style scoped>\n",
       "    .dataframe tbody tr th:only-of-type {\n",
       "        vertical-align: middle;\n",
       "    }\n",
       "\n",
       "    .dataframe tbody tr th {\n",
       "        vertical-align: top;\n",
       "    }\n",
       "\n",
       "    .dataframe thead th {\n",
       "        text-align: right;\n",
       "    }\n",
       "</style>\n",
       "<table border=\"1\" class=\"dataframe\">\n",
       "  <thead>\n",
       "    <tr style=\"text-align: right;\">\n",
       "      <th></th>\n",
       "      <th>period</th>\n",
       "      <th>value</th>\n",
       "      <th>geo</th>\n",
       "      <th>dataset_name</th>\n",
       "      <th>series_code</th>\n",
       "      <th>series_name</th>\n",
       "    </tr>\n",
       "  </thead>\n",
       "  <tbody>\n",
       "    <tr>\n",
       "      <th>0</th>\n",
       "      <td>2015-12-01</td>\n",
       "      <td>100.00</td>\n",
       "      <td>AL</td>\n",
       "      <td>Harmonised index of consumer prices - monthly ...</td>\n",
       "      <td>M.HICP2015.NSA.CP-HI00.AL</td>\n",
       "      <td>Monthly – Harmonized consumer price index, 201...</td>\n",
       "    </tr>\n",
       "    <tr>\n",
       "      <th>1</th>\n",
       "      <td>2016-01-01</td>\n",
       "      <td>101.00</td>\n",
       "      <td>AL</td>\n",
       "      <td>Harmonised index of consumer prices - monthly ...</td>\n",
       "      <td>M.HICP2015.NSA.CP-HI00.AL</td>\n",
       "      <td>Monthly – Harmonized consumer price index, 201...</td>\n",
       "    </tr>\n",
       "    <tr>\n",
       "      <th>2</th>\n",
       "      <td>2016-02-01</td>\n",
       "      <td>102.28</td>\n",
       "      <td>AL</td>\n",
       "      <td>Harmonised index of consumer prices - monthly ...</td>\n",
       "      <td>M.HICP2015.NSA.CP-HI00.AL</td>\n",
       "      <td>Monthly – Harmonized consumer price index, 201...</td>\n",
       "    </tr>\n",
       "    <tr>\n",
       "      <th>3</th>\n",
       "      <td>2016-03-01</td>\n",
       "      <td>102.80</td>\n",
       "      <td>AL</td>\n",
       "      <td>Harmonised index of consumer prices - monthly ...</td>\n",
       "      <td>M.HICP2015.NSA.CP-HI00.AL</td>\n",
       "      <td>Monthly – Harmonized consumer price index, 201...</td>\n",
       "    </tr>\n",
       "    <tr>\n",
       "      <th>4</th>\n",
       "      <td>2016-04-01</td>\n",
       "      <td>102.31</td>\n",
       "      <td>AL</td>\n",
       "      <td>Harmonised index of consumer prices - monthly ...</td>\n",
       "      <td>M.HICP2015.NSA.CP-HI00.AL</td>\n",
       "      <td>Monthly – Harmonized consumer price index, 201...</td>\n",
       "    </tr>\n",
       "  </tbody>\n",
       "</table>\n",
       "</div>"
      ],
      "text/plain": [
       "       period   value geo                                       dataset_name  \\\n",
       "0  2015-12-01  100.00  AL  Harmonised index of consumer prices - monthly ...   \n",
       "1  2016-01-01  101.00  AL  Harmonised index of consumer prices - monthly ...   \n",
       "2  2016-02-01  102.28  AL  Harmonised index of consumer prices - monthly ...   \n",
       "3  2016-03-01  102.80  AL  Harmonised index of consumer prices - monthly ...   \n",
       "4  2016-04-01  102.31  AL  Harmonised index of consumer prices - monthly ...   \n",
       "\n",
       "                 series_code  \\\n",
       "0  M.HICP2015.NSA.CP-HI00.AL   \n",
       "1  M.HICP2015.NSA.CP-HI00.AL   \n",
       "2  M.HICP2015.NSA.CP-HI00.AL   \n",
       "3  M.HICP2015.NSA.CP-HI00.AL   \n",
       "4  M.HICP2015.NSA.CP-HI00.AL   \n",
       "\n",
       "                                         series_name  \n",
       "0  Monthly – Harmonized consumer price index, 201...  \n",
       "1  Monthly – Harmonized consumer price index, 201...  \n",
       "2  Monthly – Harmonized consumer price index, 201...  \n",
       "3  Monthly – Harmonized consumer price index, 201...  \n",
       "4  Monthly – Harmonized consumer price index, 201...  "
      ]
     },
     "execution_count": 6,
     "metadata": {},
     "output_type": "execute_result"
    }
   ],
   "source": [
    "python_df = pd.read_pickle(\"EUS.pkl\")\n",
    "python_df.head()"
   ]
  },
  {
   "cell_type": "code",
   "execution_count": 7,
   "id": "0e9dfde9",
   "metadata": {},
   "outputs": [
    {
     "data": {
      "text/plain": [
       "(51711, 6)"
      ]
     },
     "execution_count": 7,
     "metadata": {},
     "output_type": "execute_result"
    }
   ],
   "source": [
    "python_df.shape"
   ]
  },
  {
   "cell_type": "code",
   "execution_count": 8,
   "id": "14268b55",
   "metadata": {},
   "outputs": [
    {
     "data": {
      "text/plain": [
       "period            0\n",
       "value           141\n",
       "geo               0\n",
       "dataset_name      0\n",
       "series_code       0\n",
       "series_name       0\n",
       "dtype: int64"
      ]
     },
     "execution_count": 8,
     "metadata": {},
     "output_type": "execute_result"
    }
   ],
   "source": [
    "python_df.isna().sum()"
   ]
  },
  {
   "cell_type": "code",
   "execution_count": 9,
   "id": "da6a9acf",
   "metadata": {},
   "outputs": [
    {
     "data": {
      "text/plain": [
       "0"
      ]
     },
     "execution_count": 9,
     "metadata": {},
     "output_type": "execute_result"
    }
   ],
   "source": [
    "stata_df.duplicated().sum()"
   ]
  },
  {
   "cell_type": "code",
   "execution_count": null,
   "id": "88cc59c8",
   "metadata": {},
   "outputs": [],
   "source": []
  }
 ],
 "metadata": {
  "kernelspec": {
   "display_name": "Python 3 (ipykernel)",
   "language": "python",
   "name": "python3"
  },
  "language_info": {
   "codemirror_mode": {
    "name": "ipython",
    "version": 3
   },
   "file_extension": ".py",
   "mimetype": "text/x-python",
   "name": "python",
   "nbconvert_exporter": "python",
   "pygments_lexer": "ipython3",
   "version": "3.11.7"
  },
  "toc": {
   "base_numbering": 1,
   "nav_menu": {},
   "number_sections": true,
   "sideBar": true,
   "skip_h1_title": false,
   "title_cell": "Table of Contents",
   "title_sidebar": "Contents",
   "toc_cell": false,
   "toc_position": {},
   "toc_section_display": true,
   "toc_window_display": false
  }
 },
 "nbformat": 4,
 "nbformat_minor": 5
}
