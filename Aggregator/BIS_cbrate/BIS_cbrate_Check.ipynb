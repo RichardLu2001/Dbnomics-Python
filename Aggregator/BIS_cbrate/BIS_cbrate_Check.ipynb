{
 "cells": [
  {
   "cell_type": "markdown",
   "id": "6c8ace8a",
   "metadata": {},
   "source": [
    "<font size=5, font color='blue'> stata_df is the dataframe downloaded through Stata API"
   ]
  },
  {
   "cell_type": "code",
   "execution_count": 6,
   "id": "47406cda",
   "metadata": {
    "scrolled": false
   },
   "outputs": [
    {
     "data": {
      "text/html": [
       "<div>\n",
       "<style scoped>\n",
       "    .dataframe tbody tr th:only-of-type {\n",
       "        vertical-align: middle;\n",
       "    }\n",
       "\n",
       "    .dataframe tbody tr th {\n",
       "        vertical-align: top;\n",
       "    }\n",
       "\n",
       "    .dataframe thead th {\n",
       "        text-align: right;\n",
       "    }\n",
       "</style>\n",
       "<table border=\"1\" class=\"dataframe\">\n",
       "  <thead>\n",
       "    <tr style=\"text-align: right;\">\n",
       "      <th></th>\n",
       "      <th>period</th>\n",
       "      <th>period_start_day</th>\n",
       "      <th>value</th>\n",
       "      <th>obs_conf</th>\n",
       "      <th>obs_status</th>\n",
       "      <th>frequency</th>\n",
       "      <th>dataset_code</th>\n",
       "      <th>dataset_name</th>\n",
       "      <th>freq</th>\n",
       "      <th>ref_area</th>\n",
       "      <th>indexed_at</th>\n",
       "      <th>provider_code</th>\n",
       "      <th>series_code</th>\n",
       "      <th>series_name</th>\n",
       "      <th>series_num</th>\n",
       "    </tr>\n",
       "  </thead>\n",
       "  <tbody>\n",
       "    <tr>\n",
       "      <th>0</th>\n",
       "      <td>1993-04</td>\n",
       "      <td>1993-04-01</td>\n",
       "      <td>0.63</td>\n",
       "      <td>F</td>\n",
       "      <td>A</td>\n",
       "      <td>monthly</td>\n",
       "      <td>WS_CBPOL</td>\n",
       "      <td>Central bank policy rates</td>\n",
       "      <td>M</td>\n",
       "      <td>AR</td>\n",
       "      <td>2025-06-13T15:24:25.093Z</td>\n",
       "      <td>BIS</td>\n",
       "      <td>M.AR</td>\n",
       "      <td>Central bank policy rates - Argentina - Month...</td>\n",
       "      <td>Master</td>\n",
       "    </tr>\n",
       "    <tr>\n",
       "      <th>1</th>\n",
       "      <td>1993-05</td>\n",
       "      <td>1993-05-01</td>\n",
       "      <td>0.11</td>\n",
       "      <td>F</td>\n",
       "      <td>A</td>\n",
       "      <td>monthly</td>\n",
       "      <td>WS_CBPOL</td>\n",
       "      <td>Central bank policy rates</td>\n",
       "      <td>M</td>\n",
       "      <td>AR</td>\n",
       "      <td>2025-06-13T15:24:25.093Z</td>\n",
       "      <td>BIS</td>\n",
       "      <td>M.AR</td>\n",
       "      <td>Central bank policy rates - Argentina - Month...</td>\n",
       "      <td>Master</td>\n",
       "    </tr>\n",
       "    <tr>\n",
       "      <th>2</th>\n",
       "      <td>1993-06</td>\n",
       "      <td>1993-06-01</td>\n",
       "      <td>0.53</td>\n",
       "      <td>F</td>\n",
       "      <td>A</td>\n",
       "      <td>monthly</td>\n",
       "      <td>WS_CBPOL</td>\n",
       "      <td>Central bank policy rates</td>\n",
       "      <td>M</td>\n",
       "      <td>AR</td>\n",
       "      <td>2025-06-13T15:24:25.093Z</td>\n",
       "      <td>BIS</td>\n",
       "      <td>M.AR</td>\n",
       "      <td>Central bank policy rates - Argentina - Month...</td>\n",
       "      <td>Master</td>\n",
       "    </tr>\n",
       "    <tr>\n",
       "      <th>3</th>\n",
       "      <td>1993-07</td>\n",
       "      <td>1993-07-01</td>\n",
       "      <td>0.36</td>\n",
       "      <td>F</td>\n",
       "      <td>A</td>\n",
       "      <td>monthly</td>\n",
       "      <td>WS_CBPOL</td>\n",
       "      <td>Central bank policy rates</td>\n",
       "      <td>M</td>\n",
       "      <td>AR</td>\n",
       "      <td>2025-06-13T15:24:25.093Z</td>\n",
       "      <td>BIS</td>\n",
       "      <td>M.AR</td>\n",
       "      <td>Central bank policy rates - Argentina - Month...</td>\n",
       "      <td>Master</td>\n",
       "    </tr>\n",
       "    <tr>\n",
       "      <th>4</th>\n",
       "      <td>1993-08</td>\n",
       "      <td>1993-08-01</td>\n",
       "      <td>0.25</td>\n",
       "      <td>F</td>\n",
       "      <td>A</td>\n",
       "      <td>monthly</td>\n",
       "      <td>WS_CBPOL</td>\n",
       "      <td>Central bank policy rates</td>\n",
       "      <td>M</td>\n",
       "      <td>AR</td>\n",
       "      <td>2025-06-13T15:24:25.093Z</td>\n",
       "      <td>BIS</td>\n",
       "      <td>M.AR</td>\n",
       "      <td>Central bank policy rates - Argentina - Month...</td>\n",
       "      <td>Master</td>\n",
       "    </tr>\n",
       "  </tbody>\n",
       "</table>\n",
       "</div>"
      ],
      "text/plain": [
       "    period period_start_day value obs_conf obs_status frequency dataset_code  \\\n",
       "0  1993-04       1993-04-01  0.63        F          A   monthly     WS_CBPOL   \n",
       "1  1993-05       1993-05-01  0.11        F          A   monthly     WS_CBPOL   \n",
       "2  1993-06       1993-06-01  0.53        F          A   monthly     WS_CBPOL   \n",
       "3  1993-07       1993-07-01  0.36        F          A   monthly     WS_CBPOL   \n",
       "4  1993-08       1993-08-01  0.25        F          A   monthly     WS_CBPOL   \n",
       "\n",
       "                dataset_name freq ref_area                indexed_at  \\\n",
       "0  Central bank policy rates    M       AR  2025-06-13T15:24:25.093Z   \n",
       "1  Central bank policy rates    M       AR  2025-06-13T15:24:25.093Z   \n",
       "2  Central bank policy rates    M       AR  2025-06-13T15:24:25.093Z   \n",
       "3  Central bank policy rates    M       AR  2025-06-13T15:24:25.093Z   \n",
       "4  Central bank policy rates    M       AR  2025-06-13T15:24:25.093Z   \n",
       "\n",
       "  provider_code series_code  \\\n",
       "0           BIS        M.AR   \n",
       "1           BIS        M.AR   \n",
       "2           BIS        M.AR   \n",
       "3           BIS        M.AR   \n",
       "4           BIS        M.AR   \n",
       "\n",
       "                                         series_name series_num  \n",
       "0   Central bank policy rates - Argentina - Month...     Master  \n",
       "1   Central bank policy rates - Argentina - Month...     Master  \n",
       "2   Central bank policy rates - Argentina - Month...     Master  \n",
       "3   Central bank policy rates - Argentina - Month...     Master  \n",
       "4   Central bank policy rates - Argentina - Month...     Master  "
      ]
     },
     "execution_count": 6,
     "metadata": {},
     "output_type": "execute_result"
    }
   ],
   "source": [
    "import pandas as pd\n",
    "pd.options.mode.chained_assignment = None\n",
    "\n",
    "stata_df = pd.read_stata(\"BIS_cbrate.dta\")\n",
    "stata_df.head()"
   ]
  },
  {
   "cell_type": "markdown",
   "id": "12314c37",
   "metadata": {},
   "source": [
    "<font size=5, font color='blue'> python_df is the dataframe downloaded through Python API. "
   ]
  },
  {
   "cell_type": "code",
   "execution_count": 7,
   "id": "20b37bca",
   "metadata": {},
   "outputs": [
    {
     "data": {
      "text/html": [
       "<div>\n",
       "<style scoped>\n",
       "    .dataframe tbody tr th:only-of-type {\n",
       "        vertical-align: middle;\n",
       "    }\n",
       "\n",
       "    .dataframe tbody tr th {\n",
       "        vertical-align: top;\n",
       "    }\n",
       "\n",
       "    .dataframe thead th {\n",
       "        text-align: right;\n",
       "    }\n",
       "</style>\n",
       "<table border=\"1\" class=\"dataframe\">\n",
       "  <thead>\n",
       "    <tr style=\"text-align: right;\">\n",
       "      <th></th>\n",
       "      <th>@frequency</th>\n",
       "      <th>provider_code</th>\n",
       "      <th>dataset_code</th>\n",
       "      <th>dataset_name</th>\n",
       "      <th>series_code</th>\n",
       "      <th>series_name</th>\n",
       "      <th>original_period</th>\n",
       "      <th>period</th>\n",
       "      <th>original_value</th>\n",
       "      <th>value</th>\n",
       "      <th>FREQ</th>\n",
       "      <th>REF_AREA</th>\n",
       "      <th>Frequency</th>\n",
       "      <th>Reference area</th>\n",
       "    </tr>\n",
       "  </thead>\n",
       "  <tbody>\n",
       "    <tr>\n",
       "      <th>0</th>\n",
       "      <td>monthly</td>\n",
       "      <td>BIS</td>\n",
       "      <td>WS_CBPOL</td>\n",
       "      <td>Central bank policy rates</td>\n",
       "      <td>M.AR</td>\n",
       "      <td>Central bank policy rates - Argentina - Month...</td>\n",
       "      <td>1993-04</td>\n",
       "      <td>1993-04-01</td>\n",
       "      <td>0.63</td>\n",
       "      <td>0.63</td>\n",
       "      <td>M</td>\n",
       "      <td>AR</td>\n",
       "      <td>Monthly</td>\n",
       "      <td>Argentina</td>\n",
       "    </tr>\n",
       "    <tr>\n",
       "      <th>1</th>\n",
       "      <td>monthly</td>\n",
       "      <td>BIS</td>\n",
       "      <td>WS_CBPOL</td>\n",
       "      <td>Central bank policy rates</td>\n",
       "      <td>M.AR</td>\n",
       "      <td>Central bank policy rates - Argentina - Month...</td>\n",
       "      <td>1993-05</td>\n",
       "      <td>1993-05-01</td>\n",
       "      <td>0.11</td>\n",
       "      <td>0.11</td>\n",
       "      <td>M</td>\n",
       "      <td>AR</td>\n",
       "      <td>Monthly</td>\n",
       "      <td>Argentina</td>\n",
       "    </tr>\n",
       "    <tr>\n",
       "      <th>2</th>\n",
       "      <td>monthly</td>\n",
       "      <td>BIS</td>\n",
       "      <td>WS_CBPOL</td>\n",
       "      <td>Central bank policy rates</td>\n",
       "      <td>M.AR</td>\n",
       "      <td>Central bank policy rates - Argentina - Month...</td>\n",
       "      <td>1993-06</td>\n",
       "      <td>1993-06-01</td>\n",
       "      <td>0.53</td>\n",
       "      <td>0.53</td>\n",
       "      <td>M</td>\n",
       "      <td>AR</td>\n",
       "      <td>Monthly</td>\n",
       "      <td>Argentina</td>\n",
       "    </tr>\n",
       "    <tr>\n",
       "      <th>3</th>\n",
       "      <td>monthly</td>\n",
       "      <td>BIS</td>\n",
       "      <td>WS_CBPOL</td>\n",
       "      <td>Central bank policy rates</td>\n",
       "      <td>M.AR</td>\n",
       "      <td>Central bank policy rates - Argentina - Month...</td>\n",
       "      <td>1993-07</td>\n",
       "      <td>1993-07-01</td>\n",
       "      <td>0.36</td>\n",
       "      <td>0.36</td>\n",
       "      <td>M</td>\n",
       "      <td>AR</td>\n",
       "      <td>Monthly</td>\n",
       "      <td>Argentina</td>\n",
       "    </tr>\n",
       "    <tr>\n",
       "      <th>4</th>\n",
       "      <td>monthly</td>\n",
       "      <td>BIS</td>\n",
       "      <td>WS_CBPOL</td>\n",
       "      <td>Central bank policy rates</td>\n",
       "      <td>M.AR</td>\n",
       "      <td>Central bank policy rates - Argentina - Month...</td>\n",
       "      <td>1993-08</td>\n",
       "      <td>1993-08-01</td>\n",
       "      <td>0.25</td>\n",
       "      <td>0.25</td>\n",
       "      <td>M</td>\n",
       "      <td>AR</td>\n",
       "      <td>Monthly</td>\n",
       "      <td>Argentina</td>\n",
       "    </tr>\n",
       "  </tbody>\n",
       "</table>\n",
       "</div>"
      ],
      "text/plain": [
       "  @frequency provider_code dataset_code               dataset_name  \\\n",
       "0    monthly           BIS     WS_CBPOL  Central bank policy rates   \n",
       "1    monthly           BIS     WS_CBPOL  Central bank policy rates   \n",
       "2    monthly           BIS     WS_CBPOL  Central bank policy rates   \n",
       "3    monthly           BIS     WS_CBPOL  Central bank policy rates   \n",
       "4    monthly           BIS     WS_CBPOL  Central bank policy rates   \n",
       "\n",
       "  series_code                                        series_name  \\\n",
       "0        M.AR   Central bank policy rates - Argentina - Month...   \n",
       "1        M.AR   Central bank policy rates - Argentina - Month...   \n",
       "2        M.AR   Central bank policy rates - Argentina - Month...   \n",
       "3        M.AR   Central bank policy rates - Argentina - Month...   \n",
       "4        M.AR   Central bank policy rates - Argentina - Month...   \n",
       "\n",
       "  original_period     period original_value  value FREQ REF_AREA Frequency  \\\n",
       "0         1993-04 1993-04-01           0.63   0.63    M       AR   Monthly   \n",
       "1         1993-05 1993-05-01           0.11   0.11    M       AR   Monthly   \n",
       "2         1993-06 1993-06-01           0.53   0.53    M       AR   Monthly   \n",
       "3         1993-07 1993-07-01           0.36   0.36    M       AR   Monthly   \n",
       "4         1993-08 1993-08-01           0.25   0.25    M       AR   Monthly   \n",
       "\n",
       "  Reference area  \n",
       "0      Argentina  \n",
       "1      Argentina  \n",
       "2      Argentina  \n",
       "3      Argentina  \n",
       "4      Argentina  "
      ]
     },
     "execution_count": 7,
     "metadata": {},
     "output_type": "execute_result"
    }
   ],
   "source": [
    "python_df = pd.read_pickle(\"BIS_cbrate.pkl\")\n",
    "python_df.head()"
   ]
  },
  {
   "cell_type": "markdown",
   "id": "891b9982",
   "metadata": {},
   "source": [
    "<font size=5, font color='blue'> Check whether the two dataframes have the same number of rows, which means equal number of data points / observations. Column numbers of the two dataframes may differ due to the difference between Stata and Python APIs, and so do the order, datatypes and names of columns and the order of rows, which is why we don't require a complete match between python_df and stata_df."
   ]
  },
  {
   "cell_type": "code",
   "execution_count": 8,
   "id": "922205b2",
   "metadata": {},
   "outputs": [
    {
     "data": {
      "text/plain": [
       "True"
      ]
     },
     "execution_count": 8,
     "metadata": {},
     "output_type": "execute_result"
    }
   ],
   "source": [
    "stata_df.shape[0]==python_df.shape[0]"
   ]
  },
  {
   "cell_type": "markdown",
   "id": "2c756d80",
   "metadata": {},
   "source": [
    "<font size=5, font color='blue'> ['period_start_day'] in stata_df is the most accurate timestamp assigned to each observation (row). In python_df its equivalent is ['period'], so we rename it to match the column name in stata_df. We match the datatype of the two columns by converting both of them to pandas datetime objects. We also convert the datatype of ['value'] in stata_df to numeric."
   ]
  },
  {
   "cell_type": "code",
   "execution_count": 9,
   "id": "869e25b8",
   "metadata": {},
   "outputs": [],
   "source": [
    "python_df.rename(columns={'period':'period_start_day'},inplace=True)\n",
    "stata_df['period_start_day'] = pd.to_datetime(stata_df['period_start_day'])\n",
    "python_df['period_start_day'] = pd.to_datetime(python_df['period_start_day'])\n",
    "stata_df['value'] = pd.to_numeric(stata_df['value'],'coerce')"
   ]
  },
  {
   "cell_type": "markdown",
   "id": "3c8ac514",
   "metadata": {},
   "source": [
    "<font size=5, font color='blue'> Check whether ['period_start_day', 'series_code'] can identify a unique row in both stata_df and python_df, if not then there is a duplication or error in Dbnomics."
   ]
  },
  {
   "cell_type": "code",
   "execution_count": 10,
   "id": "95929551",
   "metadata": {},
   "outputs": [
    {
     "data": {
      "text/plain": [
       "True"
      ]
     },
     "execution_count": 10,
     "metadata": {},
     "output_type": "execute_result"
    }
   ],
   "source": [
    "cols = ['period_start_day', 'series_code']\n",
    "sum(stata_df.duplicated(subset=cols))+sum(python_df.duplicated(subset=cols)) == 0"
   ]
  },
  {
   "cell_type": "markdown",
   "id": "2c3b0bad",
   "metadata": {},
   "source": [
    "<font size=5, font color='blue'> Then we sort the two dataframes by ['period_start_day', 'series_code']. This ensures observations in the two dataframes are in the same order. Finally we check whether the two sub-frames [['period_start_day','series_code','value']] sliced from stata_df and python_df are exactly the same."
   ]
  },
  {
   "cell_type": "code",
   "execution_count": 11,
   "id": "be99fb77",
   "metadata": {},
   "outputs": [
    {
     "data": {
      "text/plain": [
       "True"
      ]
     },
     "execution_count": 11,
     "metadata": {},
     "output_type": "execute_result"
    }
   ],
   "source": [
    "stata_sub = stata_df.sort_values(by=cols)[cols+['value']].reset_index(drop=True)\n",
    "python_sub = python_df.sort_values(by=cols)[cols+['value']].reset_index(drop=True)\n",
    "stata_sub.equals(python_sub)"
   ]
  }
 ],
 "metadata": {
  "kernelspec": {
   "display_name": "Python 3 (ipykernel)",
   "language": "python",
   "name": "python3"
  },
  "language_info": {
   "codemirror_mode": {
    "name": "ipython",
    "version": 3
   },
   "file_extension": ".py",
   "mimetype": "text/x-python",
   "name": "python",
   "nbconvert_exporter": "python",
   "pygments_lexer": "ipython3",
   "version": "3.11.7"
  },
  "toc": {
   "base_numbering": 1,
   "nav_menu": {},
   "number_sections": true,
   "sideBar": true,
   "skip_h1_title": false,
   "title_cell": "Table of Contents",
   "title_sidebar": "Contents",
   "toc_cell": false,
   "toc_position": {},
   "toc_section_display": true,
   "toc_window_display": false
  }
 },
 "nbformat": 4,
 "nbformat_minor": 5
}
