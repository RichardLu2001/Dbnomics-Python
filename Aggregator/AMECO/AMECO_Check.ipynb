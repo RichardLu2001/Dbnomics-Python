{
 "cells": [
  {
   "cell_type": "markdown",
   "id": "6c8ace8a",
   "metadata": {},
   "source": [
    "<font size=5, font color='blue'> stata_df is the dataframe downloaded through Stata API"
   ]
  },
  {
   "cell_type": "code",
   "execution_count": 8,
   "id": "47406cda",
   "metadata": {
    "scrolled": false
   },
   "outputs": [
    {
     "data": {
      "text/html": [
       "<div>\n",
       "<style scoped>\n",
       "    .dataframe tbody tr th:only-of-type {\n",
       "        vertical-align: middle;\n",
       "    }\n",
       "\n",
       "    .dataframe tbody tr th {\n",
       "        vertical-align: top;\n",
       "    }\n",
       "\n",
       "    .dataframe thead th {\n",
       "        text-align: right;\n",
       "    }\n",
       "</style>\n",
       "<table border=\"1\" class=\"dataframe\">\n",
       "  <thead>\n",
       "    <tr style=\"text-align: right;\">\n",
       "      <th></th>\n",
       "      <th>period</th>\n",
       "      <th>period_start_day</th>\n",
       "      <th>value</th>\n",
       "      <th>frequency</th>\n",
       "      <th>dataset_code</th>\n",
       "      <th>dataset_name</th>\n",
       "      <th>freq</th>\n",
       "      <th>geo</th>\n",
       "      <th>unit</th>\n",
       "      <th>indexed_at</th>\n",
       "      <th>provider_code</th>\n",
       "      <th>series_code</th>\n",
       "      <th>series_name</th>\n",
       "      <th>series_num</th>\n",
       "    </tr>\n",
       "  </thead>\n",
       "  <tbody>\n",
       "    <tr>\n",
       "      <th>0</th>\n",
       "      <td>1960</td>\n",
       "      <td>1960-01-01</td>\n",
       "      <td>NA</td>\n",
       "      <td>annual</td>\n",
       "      <td>ZCPIN</td>\n",
       "      <td>National consumer price index (All-items)</td>\n",
       "      <td>a</td>\n",
       "      <td>alb</td>\n",
       "      <td>2015-100</td>\n",
       "      <td>2024-11-16T01:11:23.801Z</td>\n",
       "      <td>AMECO</td>\n",
       "      <td>ALB.3.0.0.0.ZCPIN</td>\n",
       "      <td>Annually – (2015 = 100) – Albania</td>\n",
       "      <td>Master</td>\n",
       "    </tr>\n",
       "    <tr>\n",
       "      <th>1</th>\n",
       "      <td>1961</td>\n",
       "      <td>1961-01-01</td>\n",
       "      <td>NA</td>\n",
       "      <td>annual</td>\n",
       "      <td>ZCPIN</td>\n",
       "      <td>National consumer price index (All-items)</td>\n",
       "      <td>a</td>\n",
       "      <td>alb</td>\n",
       "      <td>2015-100</td>\n",
       "      <td>2024-11-16T01:11:23.801Z</td>\n",
       "      <td>AMECO</td>\n",
       "      <td>ALB.3.0.0.0.ZCPIN</td>\n",
       "      <td>Annually – (2015 = 100) – Albania</td>\n",
       "      <td>Master</td>\n",
       "    </tr>\n",
       "    <tr>\n",
       "      <th>2</th>\n",
       "      <td>1962</td>\n",
       "      <td>1962-01-01</td>\n",
       "      <td>NA</td>\n",
       "      <td>annual</td>\n",
       "      <td>ZCPIN</td>\n",
       "      <td>National consumer price index (All-items)</td>\n",
       "      <td>a</td>\n",
       "      <td>alb</td>\n",
       "      <td>2015-100</td>\n",
       "      <td>2024-11-16T01:11:23.801Z</td>\n",
       "      <td>AMECO</td>\n",
       "      <td>ALB.3.0.0.0.ZCPIN</td>\n",
       "      <td>Annually – (2015 = 100) – Albania</td>\n",
       "      <td>Master</td>\n",
       "    </tr>\n",
       "    <tr>\n",
       "      <th>3</th>\n",
       "      <td>1963</td>\n",
       "      <td>1963-01-01</td>\n",
       "      <td>NA</td>\n",
       "      <td>annual</td>\n",
       "      <td>ZCPIN</td>\n",
       "      <td>National consumer price index (All-items)</td>\n",
       "      <td>a</td>\n",
       "      <td>alb</td>\n",
       "      <td>2015-100</td>\n",
       "      <td>2024-11-16T01:11:23.801Z</td>\n",
       "      <td>AMECO</td>\n",
       "      <td>ALB.3.0.0.0.ZCPIN</td>\n",
       "      <td>Annually – (2015 = 100) – Albania</td>\n",
       "      <td>Master</td>\n",
       "    </tr>\n",
       "    <tr>\n",
       "      <th>4</th>\n",
       "      <td>1964</td>\n",
       "      <td>1964-01-01</td>\n",
       "      <td>NA</td>\n",
       "      <td>annual</td>\n",
       "      <td>ZCPIN</td>\n",
       "      <td>National consumer price index (All-items)</td>\n",
       "      <td>a</td>\n",
       "      <td>alb</td>\n",
       "      <td>2015-100</td>\n",
       "      <td>2024-11-16T01:11:23.801Z</td>\n",
       "      <td>AMECO</td>\n",
       "      <td>ALB.3.0.0.0.ZCPIN</td>\n",
       "      <td>Annually – (2015 = 100) – Albania</td>\n",
       "      <td>Master</td>\n",
       "    </tr>\n",
       "  </tbody>\n",
       "</table>\n",
       "</div>"
      ],
      "text/plain": [
       "   period period_start_day value frequency dataset_code  \\\n",
       "0    1960       1960-01-01    NA    annual        ZCPIN   \n",
       "1    1961       1961-01-01    NA    annual        ZCPIN   \n",
       "2    1962       1962-01-01    NA    annual        ZCPIN   \n",
       "3    1963       1963-01-01    NA    annual        ZCPIN   \n",
       "4    1964       1964-01-01    NA    annual        ZCPIN   \n",
       "\n",
       "                                dataset_name freq  geo      unit  \\\n",
       "0  National consumer price index (All-items)    a  alb  2015-100   \n",
       "1  National consumer price index (All-items)    a  alb  2015-100   \n",
       "2  National consumer price index (All-items)    a  alb  2015-100   \n",
       "3  National consumer price index (All-items)    a  alb  2015-100   \n",
       "4  National consumer price index (All-items)    a  alb  2015-100   \n",
       "\n",
       "                 indexed_at provider_code        series_code  \\\n",
       "0  2024-11-16T01:11:23.801Z         AMECO  ALB.3.0.0.0.ZCPIN   \n",
       "1  2024-11-16T01:11:23.801Z         AMECO  ALB.3.0.0.0.ZCPIN   \n",
       "2  2024-11-16T01:11:23.801Z         AMECO  ALB.3.0.0.0.ZCPIN   \n",
       "3  2024-11-16T01:11:23.801Z         AMECO  ALB.3.0.0.0.ZCPIN   \n",
       "4  2024-11-16T01:11:23.801Z         AMECO  ALB.3.0.0.0.ZCPIN   \n",
       "\n",
       "                         series_name series_num  \n",
       "0  Annually – (2015 = 100) – Albania     Master  \n",
       "1  Annually – (2015 = 100) – Albania     Master  \n",
       "2  Annually – (2015 = 100) – Albania     Master  \n",
       "3  Annually – (2015 = 100) – Albania     Master  \n",
       "4  Annually – (2015 = 100) – Albania     Master  "
      ]
     },
     "execution_count": 8,
     "metadata": {},
     "output_type": "execute_result"
    }
   ],
   "source": [
    "import pandas as pd\n",
    "pd.options.mode.chained_assignment = None\n",
    "\n",
    "stata_df = pd.read_stata(\"AMECO.dta\")\n",
    "stata_df.head()"
   ]
  },
  {
   "cell_type": "markdown",
   "id": "12314c37",
   "metadata": {},
   "source": [
    "<font size=5, font color='blue'> python_df is the dataframe downloaded through Python API. "
   ]
  },
  {
   "cell_type": "code",
   "execution_count": 9,
   "id": "20b37bca",
   "metadata": {},
   "outputs": [
    {
     "data": {
      "text/html": [
       "<div>\n",
       "<style scoped>\n",
       "    .dataframe tbody tr th:only-of-type {\n",
       "        vertical-align: middle;\n",
       "    }\n",
       "\n",
       "    .dataframe tbody tr th {\n",
       "        vertical-align: top;\n",
       "    }\n",
       "\n",
       "    .dataframe thead th {\n",
       "        text-align: right;\n",
       "    }\n",
       "</style>\n",
       "<table border=\"1\" class=\"dataframe\">\n",
       "  <thead>\n",
       "    <tr style=\"text-align: right;\">\n",
       "      <th></th>\n",
       "      <th>@frequency</th>\n",
       "      <th>provider_code</th>\n",
       "      <th>dataset_code</th>\n",
       "      <th>dataset_name</th>\n",
       "      <th>series_code</th>\n",
       "      <th>series_name</th>\n",
       "      <th>original_period</th>\n",
       "      <th>period</th>\n",
       "      <th>original_value</th>\n",
       "      <th>value</th>\n",
       "      <th>freq</th>\n",
       "      <th>unit</th>\n",
       "      <th>geo</th>\n",
       "      <th>Frequency</th>\n",
       "      <th>Unit</th>\n",
       "      <th>Country</th>\n",
       "    </tr>\n",
       "  </thead>\n",
       "  <tbody>\n",
       "    <tr>\n",
       "      <th>0</th>\n",
       "      <td>annual</td>\n",
       "      <td>AMECO</td>\n",
       "      <td>XUNRQ-1</td>\n",
       "      <td>Real effective exchange rates, based on unit l...</td>\n",
       "      <td>AUS.3.0.30.424.XUNRQ</td>\n",
       "      <td>Annually – (2015 = 100) – Australia</td>\n",
       "      <td>1960</td>\n",
       "      <td>1960-01-01</td>\n",
       "      <td>NA</td>\n",
       "      <td>NaN</td>\n",
       "      <td>a</td>\n",
       "      <td>2015-100</td>\n",
       "      <td>aus</td>\n",
       "      <td>Annually</td>\n",
       "      <td>(2015 = 100)</td>\n",
       "      <td>Australia</td>\n",
       "    </tr>\n",
       "    <tr>\n",
       "      <th>1</th>\n",
       "      <td>annual</td>\n",
       "      <td>AMECO</td>\n",
       "      <td>XUNRQ-1</td>\n",
       "      <td>Real effective exchange rates, based on unit l...</td>\n",
       "      <td>AUS.3.0.30.424.XUNRQ</td>\n",
       "      <td>Annually – (2015 = 100) – Australia</td>\n",
       "      <td>1961</td>\n",
       "      <td>1961-01-01</td>\n",
       "      <td>NA</td>\n",
       "      <td>NaN</td>\n",
       "      <td>a</td>\n",
       "      <td>2015-100</td>\n",
       "      <td>aus</td>\n",
       "      <td>Annually</td>\n",
       "      <td>(2015 = 100)</td>\n",
       "      <td>Australia</td>\n",
       "    </tr>\n",
       "    <tr>\n",
       "      <th>2</th>\n",
       "      <td>annual</td>\n",
       "      <td>AMECO</td>\n",
       "      <td>XUNRQ-1</td>\n",
       "      <td>Real effective exchange rates, based on unit l...</td>\n",
       "      <td>AUS.3.0.30.424.XUNRQ</td>\n",
       "      <td>Annually – (2015 = 100) – Australia</td>\n",
       "      <td>1962</td>\n",
       "      <td>1962-01-01</td>\n",
       "      <td>NA</td>\n",
       "      <td>NaN</td>\n",
       "      <td>a</td>\n",
       "      <td>2015-100</td>\n",
       "      <td>aus</td>\n",
       "      <td>Annually</td>\n",
       "      <td>(2015 = 100)</td>\n",
       "      <td>Australia</td>\n",
       "    </tr>\n",
       "    <tr>\n",
       "      <th>3</th>\n",
       "      <td>annual</td>\n",
       "      <td>AMECO</td>\n",
       "      <td>XUNRQ-1</td>\n",
       "      <td>Real effective exchange rates, based on unit l...</td>\n",
       "      <td>AUS.3.0.30.424.XUNRQ</td>\n",
       "      <td>Annually – (2015 = 100) – Australia</td>\n",
       "      <td>1963</td>\n",
       "      <td>1963-01-01</td>\n",
       "      <td>NA</td>\n",
       "      <td>NaN</td>\n",
       "      <td>a</td>\n",
       "      <td>2015-100</td>\n",
       "      <td>aus</td>\n",
       "      <td>Annually</td>\n",
       "      <td>(2015 = 100)</td>\n",
       "      <td>Australia</td>\n",
       "    </tr>\n",
       "    <tr>\n",
       "      <th>4</th>\n",
       "      <td>annual</td>\n",
       "      <td>AMECO</td>\n",
       "      <td>XUNRQ-1</td>\n",
       "      <td>Real effective exchange rates, based on unit l...</td>\n",
       "      <td>AUS.3.0.30.424.XUNRQ</td>\n",
       "      <td>Annually – (2015 = 100) – Australia</td>\n",
       "      <td>1964</td>\n",
       "      <td>1964-01-01</td>\n",
       "      <td>NA</td>\n",
       "      <td>NaN</td>\n",
       "      <td>a</td>\n",
       "      <td>2015-100</td>\n",
       "      <td>aus</td>\n",
       "      <td>Annually</td>\n",
       "      <td>(2015 = 100)</td>\n",
       "      <td>Australia</td>\n",
       "    </tr>\n",
       "  </tbody>\n",
       "</table>\n",
       "</div>"
      ],
      "text/plain": [
       "  @frequency provider_code dataset_code  \\\n",
       "0     annual         AMECO      XUNRQ-1   \n",
       "1     annual         AMECO      XUNRQ-1   \n",
       "2     annual         AMECO      XUNRQ-1   \n",
       "3     annual         AMECO      XUNRQ-1   \n",
       "4     annual         AMECO      XUNRQ-1   \n",
       "\n",
       "                                        dataset_name           series_code  \\\n",
       "0  Real effective exchange rates, based on unit l...  AUS.3.0.30.424.XUNRQ   \n",
       "1  Real effective exchange rates, based on unit l...  AUS.3.0.30.424.XUNRQ   \n",
       "2  Real effective exchange rates, based on unit l...  AUS.3.0.30.424.XUNRQ   \n",
       "3  Real effective exchange rates, based on unit l...  AUS.3.0.30.424.XUNRQ   \n",
       "4  Real effective exchange rates, based on unit l...  AUS.3.0.30.424.XUNRQ   \n",
       "\n",
       "                           series_name original_period     period  \\\n",
       "0  Annually – (2015 = 100) – Australia            1960 1960-01-01   \n",
       "1  Annually – (2015 = 100) – Australia            1961 1961-01-01   \n",
       "2  Annually – (2015 = 100) – Australia            1962 1962-01-01   \n",
       "3  Annually – (2015 = 100) – Australia            1963 1963-01-01   \n",
       "4  Annually – (2015 = 100) – Australia            1964 1964-01-01   \n",
       "\n",
       "  original_value  value freq      unit  geo Frequency          Unit    Country  \n",
       "0             NA    NaN    a  2015-100  aus  Annually  (2015 = 100)  Australia  \n",
       "1             NA    NaN    a  2015-100  aus  Annually  (2015 = 100)  Australia  \n",
       "2             NA    NaN    a  2015-100  aus  Annually  (2015 = 100)  Australia  \n",
       "3             NA    NaN    a  2015-100  aus  Annually  (2015 = 100)  Australia  \n",
       "4             NA    NaN    a  2015-100  aus  Annually  (2015 = 100)  Australia  "
      ]
     },
     "execution_count": 9,
     "metadata": {},
     "output_type": "execute_result"
    }
   ],
   "source": [
    "python_df = pd.read_pickle(\"AMECO.pkl\")\n",
    "python_df.head()"
   ]
  },
  {
   "cell_type": "markdown",
   "id": "891b9982",
   "metadata": {},
   "source": [
    "<font size=5, font color='blue'> Check whether the two dataframes have the same number of rows, which means equal number of data points / observations. Column numbers of the two dataframes may differ due to the difference between Stata and Python APIs, and so do the order, datatypes and names of columns and the order of rows, which is why we don't require a complete match between python_df and stata_df."
   ]
  },
  {
   "cell_type": "code",
   "execution_count": 10,
   "id": "922205b2",
   "metadata": {},
   "outputs": [
    {
     "data": {
      "text/plain": [
       "True"
      ]
     },
     "execution_count": 10,
     "metadata": {},
     "output_type": "execute_result"
    }
   ],
   "source": [
    "stata_df.shape[0]==python_df.shape[0]"
   ]
  },
  {
   "cell_type": "markdown",
   "id": "2c756d80",
   "metadata": {},
   "source": [
    "<font size=5, font color='blue'> ['period_start_day'] in stata_df is the most accurate timestamp assigned to each observation (row). In python_df its equivalent is ['period'], so we rename it to match the column name in stata_df. We match the datatype of the two columns by converting both of them to pandas datetime objects. We also convert the datatype of ['value'] in stata_df to numeric."
   ]
  },
  {
   "cell_type": "code",
   "execution_count": 11,
   "id": "869e25b8",
   "metadata": {},
   "outputs": [],
   "source": [
    "python_df.rename(columns={'period':'period_start_day'},inplace=True)\n",
    "stata_df['period_start_day'] = pd.to_datetime(stata_df['period_start_day'])\n",
    "python_df['period_start_day'] = pd.to_datetime(python_df['period_start_day'])\n",
    "stata_df['value'] = pd.to_numeric(stata_df['value'],'coerce')"
   ]
  },
  {
   "cell_type": "markdown",
   "id": "3c8ac514",
   "metadata": {},
   "source": [
    "<font size=5, font color='blue'> Check whether ['period_start_day', 'series_code'] can identify a unique row in both stata_df and python_df, if not then there is a duplication or error in Dbnomics."
   ]
  },
  {
   "cell_type": "code",
   "execution_count": 12,
   "id": "95929551",
   "metadata": {},
   "outputs": [
    {
     "data": {
      "text/plain": [
       "True"
      ]
     },
     "execution_count": 12,
     "metadata": {},
     "output_type": "execute_result"
    }
   ],
   "source": [
    "cols = ['period_start_day', 'series_code']\n",
    "sum(stata_df.duplicated(subset=cols))+sum(python_df.duplicated(subset=cols)) == 0"
   ]
  },
  {
   "cell_type": "markdown",
   "id": "2c3b0bad",
   "metadata": {},
   "source": [
    "<font size=5, font color='blue'> Then we sort the two dataframes by ['period_start_day', 'series_code']. This ensures observations in the two dataframes are in the same order. Finally we check whether the two sub-frames [['period_start_day','series_code','value']] sliced from stata_df and python_df are exactly the same."
   ]
  },
  {
   "cell_type": "code",
   "execution_count": 13,
   "id": "be99fb77",
   "metadata": {},
   "outputs": [
    {
     "data": {
      "text/plain": [
       "True"
      ]
     },
     "execution_count": 13,
     "metadata": {},
     "output_type": "execute_result"
    }
   ],
   "source": [
    "stata_sub = stata_df.sort_values(by=cols)[cols+['value']].reset_index(drop=True)\n",
    "python_sub = python_df.sort_values(by=cols)[cols+['value']].reset_index(drop=True)\n",
    "stata_sub.equals(python_sub)"
   ]
  }
 ],
 "metadata": {
  "kernelspec": {
   "display_name": "Python 3 (ipykernel)",
   "language": "python",
   "name": "python3"
  },
  "language_info": {
   "codemirror_mode": {
    "name": "ipython",
    "version": 3
   },
   "file_extension": ".py",
   "mimetype": "text/x-python",
   "name": "python",
   "nbconvert_exporter": "python",
   "pygments_lexer": "ipython3",
   "version": "3.11.7"
  },
  "toc": {
   "base_numbering": 1,
   "nav_menu": {},
   "number_sections": true,
   "sideBar": true,
   "skip_h1_title": false,
   "title_cell": "Table of Contents",
   "title_sidebar": "Contents",
   "toc_cell": false,
   "toc_position": {},
   "toc_section_display": true,
   "toc_window_display": false
  }
 },
 "nbformat": 4,
 "nbformat_minor": 5
}
