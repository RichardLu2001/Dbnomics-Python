{
 "cells": [
  {
   "cell_type": "markdown",
   "id": "6c8ace8a",
   "metadata": {},
   "source": [
    "<font size=5, font color='blue'> stata_df is the dataframe downloaded through Stata API"
   ]
  },
  {
   "cell_type": "code",
   "execution_count": 1,
   "id": "47406cda",
   "metadata": {
    "scrolled": false
   },
   "outputs": [
    {
     "data": {
      "text/html": [
       "<div>\n",
       "<style scoped>\n",
       "    .dataframe tbody tr th:only-of-type {\n",
       "        vertical-align: middle;\n",
       "    }\n",
       "\n",
       "    .dataframe tbody tr th {\n",
       "        vertical-align: top;\n",
       "    }\n",
       "\n",
       "    .dataframe thead th {\n",
       "        text-align: right;\n",
       "    }\n",
       "</style>\n",
       "<table border=\"1\" class=\"dataframe\">\n",
       "  <thead>\n",
       "    <tr style=\"text-align: right;\">\n",
       "      <th></th>\n",
       "      <th>period</th>\n",
       "      <th>period_start_day</th>\n",
       "      <th>value</th>\n",
       "      <th>frequency</th>\n",
       "      <th>dataset_code</th>\n",
       "      <th>dataset_name</th>\n",
       "      <th>freq</th>\n",
       "      <th>indicator</th>\n",
       "      <th>ref_area</th>\n",
       "      <th>indexed_at</th>\n",
       "      <th>provider_code</th>\n",
       "      <th>series_code</th>\n",
       "      <th>series_name</th>\n",
       "      <th>series_num</th>\n",
       "    </tr>\n",
       "  </thead>\n",
       "  <tbody>\n",
       "    <tr>\n",
       "      <th>0</th>\n",
       "      <td>1994</td>\n",
       "      <td>1994-01-01</td>\n",
       "      <td>209.600000</td>\n",
       "      <td>annual</td>\n",
       "      <td>MFS</td>\n",
       "      <td>Monetary and Financial Statistics (MFS)</td>\n",
       "      <td>A</td>\n",
       "      <td>FIGB_PA</td>\n",
       "      <td>AM</td>\n",
       "      <td>2025-06-10T03:31:15.139Z</td>\n",
       "      <td>IMF</td>\n",
       "      <td>A.AM.FIGB_PA</td>\n",
       "      <td>Annual – Armenia – Financial, Interest Rates, ...</td>\n",
       "      <td>Master</td>\n",
       "    </tr>\n",
       "    <tr>\n",
       "      <th>1</th>\n",
       "      <td>1995</td>\n",
       "      <td>1995-01-01</td>\n",
       "      <td>114.228889</td>\n",
       "      <td>annual</td>\n",
       "      <td>MFS</td>\n",
       "      <td>Monetary and Financial Statistics (MFS)</td>\n",
       "      <td>A</td>\n",
       "      <td>FIGB_PA</td>\n",
       "      <td>AM</td>\n",
       "      <td>2025-06-10T03:31:15.139Z</td>\n",
       "      <td>IMF</td>\n",
       "      <td>A.AM.FIGB_PA</td>\n",
       "      <td>Annual – Armenia – Financial, Interest Rates, ...</td>\n",
       "      <td>Master</td>\n",
       "    </tr>\n",
       "    <tr>\n",
       "      <th>2</th>\n",
       "      <td>2000</td>\n",
       "      <td>2000-01-01</td>\n",
       "      <td>25.511738</td>\n",
       "      <td>annual</td>\n",
       "      <td>MFS</td>\n",
       "      <td>Monetary and Financial Statistics (MFS)</td>\n",
       "      <td>A</td>\n",
       "      <td>FIGB_PA</td>\n",
       "      <td>AM</td>\n",
       "      <td>2025-06-10T03:31:15.139Z</td>\n",
       "      <td>IMF</td>\n",
       "      <td>A.AM.FIGB_PA</td>\n",
       "      <td>Annual – Armenia – Financial, Interest Rates, ...</td>\n",
       "      <td>Master</td>\n",
       "    </tr>\n",
       "    <tr>\n",
       "      <th>3</th>\n",
       "      <td>2001</td>\n",
       "      <td>2001-01-01</td>\n",
       "      <td>23.150333</td>\n",
       "      <td>annual</td>\n",
       "      <td>MFS</td>\n",
       "      <td>Monetary and Financial Statistics (MFS)</td>\n",
       "      <td>A</td>\n",
       "      <td>FIGB_PA</td>\n",
       "      <td>AM</td>\n",
       "      <td>2025-06-10T03:31:15.139Z</td>\n",
       "      <td>IMF</td>\n",
       "      <td>A.AM.FIGB_PA</td>\n",
       "      <td>Annual – Armenia – Financial, Interest Rates, ...</td>\n",
       "      <td>Master</td>\n",
       "    </tr>\n",
       "    <tr>\n",
       "      <th>4</th>\n",
       "      <td>2002</td>\n",
       "      <td>2002-01-01</td>\n",
       "      <td>17.441590</td>\n",
       "      <td>annual</td>\n",
       "      <td>MFS</td>\n",
       "      <td>Monetary and Financial Statistics (MFS)</td>\n",
       "      <td>A</td>\n",
       "      <td>FIGB_PA</td>\n",
       "      <td>AM</td>\n",
       "      <td>2025-06-10T03:31:15.139Z</td>\n",
       "      <td>IMF</td>\n",
       "      <td>A.AM.FIGB_PA</td>\n",
       "      <td>Annual – Armenia – Financial, Interest Rates, ...</td>\n",
       "      <td>Master</td>\n",
       "    </tr>\n",
       "  </tbody>\n",
       "</table>\n",
       "</div>"
      ],
      "text/plain": [
       "   period period_start_day       value frequency dataset_code  \\\n",
       "0    1994       1994-01-01  209.600000    annual          MFS   \n",
       "1    1995       1995-01-01  114.228889    annual          MFS   \n",
       "2    2000       2000-01-01   25.511738    annual          MFS   \n",
       "3    2001       2001-01-01   23.150333    annual          MFS   \n",
       "4    2002       2002-01-01   17.441590    annual          MFS   \n",
       "\n",
       "                              dataset_name freq indicator ref_area  \\\n",
       "0  Monetary and Financial Statistics (MFS)    A   FIGB_PA       AM   \n",
       "1  Monetary and Financial Statistics (MFS)    A   FIGB_PA       AM   \n",
       "2  Monetary and Financial Statistics (MFS)    A   FIGB_PA       AM   \n",
       "3  Monetary and Financial Statistics (MFS)    A   FIGB_PA       AM   \n",
       "4  Monetary and Financial Statistics (MFS)    A   FIGB_PA       AM   \n",
       "\n",
       "                 indexed_at provider_code   series_code  \\\n",
       "0  2025-06-10T03:31:15.139Z           IMF  A.AM.FIGB_PA   \n",
       "1  2025-06-10T03:31:15.139Z           IMF  A.AM.FIGB_PA   \n",
       "2  2025-06-10T03:31:15.139Z           IMF  A.AM.FIGB_PA   \n",
       "3  2025-06-10T03:31:15.139Z           IMF  A.AM.FIGB_PA   \n",
       "4  2025-06-10T03:31:15.139Z           IMF  A.AM.FIGB_PA   \n",
       "\n",
       "                                         series_name series_num  \n",
       "0  Annual – Armenia – Financial, Interest Rates, ...     Master  \n",
       "1  Annual – Armenia – Financial, Interest Rates, ...     Master  \n",
       "2  Annual – Armenia – Financial, Interest Rates, ...     Master  \n",
       "3  Annual – Armenia – Financial, Interest Rates, ...     Master  \n",
       "4  Annual – Armenia – Financial, Interest Rates, ...     Master  "
      ]
     },
     "execution_count": 1,
     "metadata": {},
     "output_type": "execute_result"
    }
   ],
   "source": [
    "import pandas as pd\n",
    "pd.options.mode.chained_assignment = None\n",
    "\n",
    "stata_df = pd.read_stata(\"IMF_MFS.dta\")\n",
    "stata_df.head()"
   ]
  },
  {
   "cell_type": "markdown",
   "id": "12314c37",
   "metadata": {},
   "source": [
    "<font size=5, font color='blue'> python_df is the dataframe downloaded through Python API. "
   ]
  },
  {
   "cell_type": "code",
   "execution_count": 2,
   "id": "20b37bca",
   "metadata": {},
   "outputs": [
    {
     "data": {
      "text/html": [
       "<div>\n",
       "<style scoped>\n",
       "    .dataframe tbody tr th:only-of-type {\n",
       "        vertical-align: middle;\n",
       "    }\n",
       "\n",
       "    .dataframe tbody tr th {\n",
       "        vertical-align: top;\n",
       "    }\n",
       "\n",
       "    .dataframe thead th {\n",
       "        text-align: right;\n",
       "    }\n",
       "</style>\n",
       "<table border=\"1\" class=\"dataframe\">\n",
       "  <thead>\n",
       "    <tr style=\"text-align: right;\">\n",
       "      <th></th>\n",
       "      <th>@frequency</th>\n",
       "      <th>provider_code</th>\n",
       "      <th>dataset_code</th>\n",
       "      <th>dataset_name</th>\n",
       "      <th>series_code</th>\n",
       "      <th>series_name</th>\n",
       "      <th>original_period</th>\n",
       "      <th>period</th>\n",
       "      <th>original_value</th>\n",
       "      <th>value</th>\n",
       "      <th>FREQ</th>\n",
       "      <th>REF_AREA</th>\n",
       "      <th>INDICATOR</th>\n",
       "      <th>Frequency</th>\n",
       "      <th>Reference Area</th>\n",
       "      <th>Indicator</th>\n",
       "    </tr>\n",
       "  </thead>\n",
       "  <tbody>\n",
       "    <tr>\n",
       "      <th>0</th>\n",
       "      <td>annual</td>\n",
       "      <td>IMF</td>\n",
       "      <td>MFS</td>\n",
       "      <td>Monetary and Financial Statistics (MFS)</td>\n",
       "      <td>A.5X.14____XDC</td>\n",
       "      <td>Annual – CEMAC – Monetary, Monetary Authoritie...</td>\n",
       "      <td>2000</td>\n",
       "      <td>2000-01-01</td>\n",
       "      <td>1054429.0</td>\n",
       "      <td>1054429.0</td>\n",
       "      <td>A</td>\n",
       "      <td>5X</td>\n",
       "      <td>14____XDC</td>\n",
       "      <td>Annual</td>\n",
       "      <td>CEMAC</td>\n",
       "      <td>Monetary, Monetary Authorities, Reserve Money ...</td>\n",
       "    </tr>\n",
       "    <tr>\n",
       "      <th>1</th>\n",
       "      <td>annual</td>\n",
       "      <td>IMF</td>\n",
       "      <td>MFS</td>\n",
       "      <td>Monetary and Financial Statistics (MFS)</td>\n",
       "      <td>A.5X.14____XDC</td>\n",
       "      <td>Annual – CEMAC – Monetary, Monetary Authoritie...</td>\n",
       "      <td>2001</td>\n",
       "      <td>2001-01-01</td>\n",
       "      <td>1113041.0</td>\n",
       "      <td>1113041.0</td>\n",
       "      <td>A</td>\n",
       "      <td>5X</td>\n",
       "      <td>14____XDC</td>\n",
       "      <td>Annual</td>\n",
       "      <td>CEMAC</td>\n",
       "      <td>Monetary, Monetary Authorities, Reserve Money ...</td>\n",
       "    </tr>\n",
       "    <tr>\n",
       "      <th>2</th>\n",
       "      <td>annual</td>\n",
       "      <td>IMF</td>\n",
       "      <td>MFS</td>\n",
       "      <td>Monetary and Financial Statistics (MFS)</td>\n",
       "      <td>A.5X.14____XDC</td>\n",
       "      <td>Annual – CEMAC – Monetary, Monetary Authoritie...</td>\n",
       "      <td>2002</td>\n",
       "      <td>2002-01-01</td>\n",
       "      <td>1271893.0</td>\n",
       "      <td>1271893.0</td>\n",
       "      <td>A</td>\n",
       "      <td>5X</td>\n",
       "      <td>14____XDC</td>\n",
       "      <td>Annual</td>\n",
       "      <td>CEMAC</td>\n",
       "      <td>Monetary, Monetary Authorities, Reserve Money ...</td>\n",
       "    </tr>\n",
       "    <tr>\n",
       "      <th>3</th>\n",
       "      <td>annual</td>\n",
       "      <td>IMF</td>\n",
       "      <td>MFS</td>\n",
       "      <td>Monetary and Financial Statistics (MFS)</td>\n",
       "      <td>A.5X.14____XDC</td>\n",
       "      <td>Annual – CEMAC – Monetary, Monetary Authoritie...</td>\n",
       "      <td>2003</td>\n",
       "      <td>2003-01-01</td>\n",
       "      <td>1288554.0</td>\n",
       "      <td>1288554.0</td>\n",
       "      <td>A</td>\n",
       "      <td>5X</td>\n",
       "      <td>14____XDC</td>\n",
       "      <td>Annual</td>\n",
       "      <td>CEMAC</td>\n",
       "      <td>Monetary, Monetary Authorities, Reserve Money ...</td>\n",
       "    </tr>\n",
       "    <tr>\n",
       "      <th>4</th>\n",
       "      <td>annual</td>\n",
       "      <td>IMF</td>\n",
       "      <td>MFS</td>\n",
       "      <td>Monetary and Financial Statistics (MFS)</td>\n",
       "      <td>A.5X.14____XDC</td>\n",
       "      <td>Annual – CEMAC – Monetary, Monetary Authoritie...</td>\n",
       "      <td>2004</td>\n",
       "      <td>2004-01-01</td>\n",
       "      <td>1516178.0</td>\n",
       "      <td>1516178.0</td>\n",
       "      <td>A</td>\n",
       "      <td>5X</td>\n",
       "      <td>14____XDC</td>\n",
       "      <td>Annual</td>\n",
       "      <td>CEMAC</td>\n",
       "      <td>Monetary, Monetary Authorities, Reserve Money ...</td>\n",
       "    </tr>\n",
       "  </tbody>\n",
       "</table>\n",
       "</div>"
      ],
      "text/plain": [
       "  @frequency provider_code dataset_code  \\\n",
       "0     annual           IMF          MFS   \n",
       "1     annual           IMF          MFS   \n",
       "2     annual           IMF          MFS   \n",
       "3     annual           IMF          MFS   \n",
       "4     annual           IMF          MFS   \n",
       "\n",
       "                              dataset_name     series_code  \\\n",
       "0  Monetary and Financial Statistics (MFS)  A.5X.14____XDC   \n",
       "1  Monetary and Financial Statistics (MFS)  A.5X.14____XDC   \n",
       "2  Monetary and Financial Statistics (MFS)  A.5X.14____XDC   \n",
       "3  Monetary and Financial Statistics (MFS)  A.5X.14____XDC   \n",
       "4  Monetary and Financial Statistics (MFS)  A.5X.14____XDC   \n",
       "\n",
       "                                         series_name original_period  \\\n",
       "0  Annual – CEMAC – Monetary, Monetary Authoritie...            2000   \n",
       "1  Annual – CEMAC – Monetary, Monetary Authoritie...            2001   \n",
       "2  Annual – CEMAC – Monetary, Monetary Authoritie...            2002   \n",
       "3  Annual – CEMAC – Monetary, Monetary Authoritie...            2003   \n",
       "4  Annual – CEMAC – Monetary, Monetary Authoritie...            2004   \n",
       "\n",
       "      period  original_value      value FREQ REF_AREA  INDICATOR Frequency  \\\n",
       "0 2000-01-01       1054429.0  1054429.0    A       5X  14____XDC    Annual   \n",
       "1 2001-01-01       1113041.0  1113041.0    A       5X  14____XDC    Annual   \n",
       "2 2002-01-01       1271893.0  1271893.0    A       5X  14____XDC    Annual   \n",
       "3 2003-01-01       1288554.0  1288554.0    A       5X  14____XDC    Annual   \n",
       "4 2004-01-01       1516178.0  1516178.0    A       5X  14____XDC    Annual   \n",
       "\n",
       "  Reference Area                                          Indicator  \n",
       "0          CEMAC  Monetary, Monetary Authorities, Reserve Money ...  \n",
       "1          CEMAC  Monetary, Monetary Authorities, Reserve Money ...  \n",
       "2          CEMAC  Monetary, Monetary Authorities, Reserve Money ...  \n",
       "3          CEMAC  Monetary, Monetary Authorities, Reserve Money ...  \n",
       "4          CEMAC  Monetary, Monetary Authorities, Reserve Money ...  "
      ]
     },
     "execution_count": 2,
     "metadata": {},
     "output_type": "execute_result"
    }
   ],
   "source": [
    "python_df = pd.read_pickle(\"IMF_MFS.pkl\")\n",
    "python_df.head()"
   ]
  },
  {
   "cell_type": "markdown",
   "id": "891b9982",
   "metadata": {},
   "source": [
    "<font size=5, font color='blue'> Check whether the two dataframes have the same number of rows, which means equal number of data points / observations. Column numbers of the two dataframes may differ due to the difference between Stata and Python APIs, and so do the order, datatypes and names of columns and the order of rows, which is why we don't require a complete match between python_df and stata_df."
   ]
  },
  {
   "cell_type": "code",
   "execution_count": 3,
   "id": "922205b2",
   "metadata": {},
   "outputs": [
    {
     "data": {
      "text/plain": [
       "True"
      ]
     },
     "execution_count": 3,
     "metadata": {},
     "output_type": "execute_result"
    }
   ],
   "source": [
    "stata_df.shape[0]==python_df.shape[0]"
   ]
  },
  {
   "cell_type": "markdown",
   "id": "2c756d80",
   "metadata": {},
   "source": [
    "<font size=5, font color='blue'> ['period_start_day'] in stata_df is the most accurate timestamp assigned to each observation (row). In python_df its equivalent is ['period'], so we rename it to match the column name in stata_df. We match the datatype of the two columns by converting both of them to pandas datetime objects. We also convert the datatype of ['value'] in stata_df to numeric."
   ]
  },
  {
   "cell_type": "code",
   "execution_count": 4,
   "id": "869e25b8",
   "metadata": {},
   "outputs": [],
   "source": [
    "python_df.rename(columns={'period':'period_start_day'},inplace=True)\n",
    "stata_df['period_start_day'] = pd.to_datetime(stata_df['period_start_day'])\n",
    "python_df['period_start_day'] = pd.to_datetime(python_df['period_start_day'])\n",
    "stata_df['value'] = pd.to_numeric(stata_df['value'],'coerce').astype('float64')\n",
    "python_df['value'] = python_df['value'].astype('float64')"
   ]
  },
  {
   "cell_type": "markdown",
   "id": "3c8ac514",
   "metadata": {},
   "source": [
    "<font size=5, font color='blue'> Check whether ['period_start_day', 'series_code'] can identify a unique row in both stata_df and python_df, if not then there is a duplication or error in Dbnomics."
   ]
  },
  {
   "cell_type": "code",
   "execution_count": 5,
   "id": "95929551",
   "metadata": {},
   "outputs": [
    {
     "data": {
      "text/plain": [
       "True"
      ]
     },
     "execution_count": 5,
     "metadata": {},
     "output_type": "execute_result"
    }
   ],
   "source": [
    "cols = ['period_start_day', 'series_code']\n",
    "sum(stata_df.duplicated(subset=cols))+sum(python_df.duplicated(subset=cols)) == 0"
   ]
  },
  {
   "cell_type": "markdown",
   "id": "2c3b0bad",
   "metadata": {},
   "source": [
    "<font size=5, font color='blue'> Then we sort the two dataframes by ['period_start_day', 'series_code']. This ensures observations in the two dataframes are in the same order. Finally we check whether the two sub-frames [['period_start_day','series_code','value']] sliced from stata_df and python_df are exactly the same."
   ]
  },
  {
   "cell_type": "code",
   "execution_count": 6,
   "id": "be99fb77",
   "metadata": {},
   "outputs": [
    {
     "data": {
      "text/plain": [
       "True"
      ]
     },
     "execution_count": 6,
     "metadata": {},
     "output_type": "execute_result"
    }
   ],
   "source": [
    "stata_sub = stata_df.sort_values(by=cols)[cols+['value']].reset_index(drop=True)\n",
    "python_sub = python_df.sort_values(by=cols)[cols+['value']].reset_index(drop=True)\n",
    "stata_sub.equals(python_sub)"
   ]
  }
 ],
 "metadata": {
  "kernelspec": {
   "display_name": "Python 3 (ipykernel)",
   "language": "python",
   "name": "python3"
  },
  "language_info": {
   "codemirror_mode": {
    "name": "ipython",
    "version": 3
   },
   "file_extension": ".py",
   "mimetype": "text/x-python",
   "name": "python",
   "nbconvert_exporter": "python",
   "pygments_lexer": "ipython3",
   "version": "3.11.7"
  },
  "toc": {
   "base_numbering": 1,
   "nav_menu": {},
   "number_sections": true,
   "sideBar": true,
   "skip_h1_title": false,
   "title_cell": "Table of Contents",
   "title_sidebar": "Contents",
   "toc_cell": false,
   "toc_position": {},
   "toc_section_display": true,
   "toc_window_display": false
  }
 },
 "nbformat": 4,
 "nbformat_minor": 5
}
