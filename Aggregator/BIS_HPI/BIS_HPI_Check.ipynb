{
 "cells": [
  {
   "cell_type": "markdown",
   "id": "6c8ace8a",
   "metadata": {},
   "source": [
    "<font size=5, font color='blue'> stata_df is the dataframe downloaded through Stata API"
   ]
  },
  {
   "cell_type": "code",
   "execution_count": 3,
   "id": "47406cda",
   "metadata": {
    "scrolled": false
   },
   "outputs": [
    {
     "data": {
      "text/html": [
       "<div>\n",
       "<style scoped>\n",
       "    .dataframe tbody tr th:only-of-type {\n",
       "        vertical-align: middle;\n",
       "    }\n",
       "\n",
       "    .dataframe tbody tr th {\n",
       "        vertical-align: top;\n",
       "    }\n",
       "\n",
       "    .dataframe thead th {\n",
       "        text-align: right;\n",
       "    }\n",
       "</style>\n",
       "<table border=\"1\" class=\"dataframe\">\n",
       "  <thead>\n",
       "    <tr style=\"text-align: right;\">\n",
       "      <th></th>\n",
       "      <th>period</th>\n",
       "      <th>period_start_day</th>\n",
       "      <th>value</th>\n",
       "      <th>dataset_name</th>\n",
       "      <th>freq</th>\n",
       "      <th>ref_area</th>\n",
       "      <th>series_code</th>\n",
       "      <th>series_name</th>\n",
       "    </tr>\n",
       "  </thead>\n",
       "  <tbody>\n",
       "    <tr>\n",
       "      <th>0</th>\n",
       "      <td>2007-Q4</td>\n",
       "      <td>2007-10-01</td>\n",
       "      <td>84.5579</td>\n",
       "      <td>Selected residential property prices</td>\n",
       "      <td>Q</td>\n",
       "      <td>4T</td>\n",
       "      <td>Q.4T.N.628</td>\n",
       "      <td>Quarterly – Emerging market economies (aggrega...</td>\n",
       "    </tr>\n",
       "    <tr>\n",
       "      <th>1</th>\n",
       "      <td>2008-Q1</td>\n",
       "      <td>2008-01-01</td>\n",
       "      <td>86.4092</td>\n",
       "      <td>Selected residential property prices</td>\n",
       "      <td>Q</td>\n",
       "      <td>4T</td>\n",
       "      <td>Q.4T.N.628</td>\n",
       "      <td>Quarterly – Emerging market economies (aggrega...</td>\n",
       "    </tr>\n",
       "    <tr>\n",
       "      <th>2</th>\n",
       "      <td>2008-Q2</td>\n",
       "      <td>2008-04-01</td>\n",
       "      <td>88.4976</td>\n",
       "      <td>Selected residential property prices</td>\n",
       "      <td>Q</td>\n",
       "      <td>4T</td>\n",
       "      <td>Q.4T.N.628</td>\n",
       "      <td>Quarterly – Emerging market economies (aggrega...</td>\n",
       "    </tr>\n",
       "    <tr>\n",
       "      <th>3</th>\n",
       "      <td>2008-Q3</td>\n",
       "      <td>2008-07-01</td>\n",
       "      <td>89.8691</td>\n",
       "      <td>Selected residential property prices</td>\n",
       "      <td>Q</td>\n",
       "      <td>4T</td>\n",
       "      <td>Q.4T.N.628</td>\n",
       "      <td>Quarterly – Emerging market economies (aggrega...</td>\n",
       "    </tr>\n",
       "    <tr>\n",
       "      <th>4</th>\n",
       "      <td>2008-Q4</td>\n",
       "      <td>2008-10-01</td>\n",
       "      <td>89.5671</td>\n",
       "      <td>Selected residential property prices</td>\n",
       "      <td>Q</td>\n",
       "      <td>4T</td>\n",
       "      <td>Q.4T.N.628</td>\n",
       "      <td>Quarterly – Emerging market economies (aggrega...</td>\n",
       "    </tr>\n",
       "  </tbody>\n",
       "</table>\n",
       "</div>"
      ],
      "text/plain": [
       "    period period_start_day    value                          dataset_name  \\\n",
       "0  2007-Q4       2007-10-01  84.5579  Selected residential property prices   \n",
       "1  2008-Q1       2008-01-01  86.4092  Selected residential property prices   \n",
       "2  2008-Q2       2008-04-01  88.4976  Selected residential property prices   \n",
       "3  2008-Q3       2008-07-01  89.8691  Selected residential property prices   \n",
       "4  2008-Q4       2008-10-01  89.5671  Selected residential property prices   \n",
       "\n",
       "  freq ref_area series_code                                        series_name  \n",
       "0    Q       4T  Q.4T.N.628  Quarterly – Emerging market economies (aggrega...  \n",
       "1    Q       4T  Q.4T.N.628  Quarterly – Emerging market economies (aggrega...  \n",
       "2    Q       4T  Q.4T.N.628  Quarterly – Emerging market economies (aggrega...  \n",
       "3    Q       4T  Q.4T.N.628  Quarterly – Emerging market economies (aggrega...  \n",
       "4    Q       4T  Q.4T.N.628  Quarterly – Emerging market economies (aggrega...  "
      ]
     },
     "execution_count": 3,
     "metadata": {},
     "output_type": "execute_result"
    }
   ],
   "source": [
    "import pandas as pd\n",
    "pd.options.mode.chained_assignment = None\n",
    "\n",
    "stata_df = pd.read_stata(\"BIS_HPI.dta\")\n",
    "stata_df.head()"
   ]
  },
  {
   "cell_type": "markdown",
   "id": "12314c37",
   "metadata": {},
   "source": [
    "<font size=5, font color='blue'> python_df is the dataframe downloaded through Python API. "
   ]
  },
  {
   "cell_type": "code",
   "execution_count": 4,
   "id": "20b37bca",
   "metadata": {},
   "outputs": [
    {
     "data": {
      "text/html": [
       "<div>\n",
       "<style scoped>\n",
       "    .dataframe tbody tr th:only-of-type {\n",
       "        vertical-align: middle;\n",
       "    }\n",
       "\n",
       "    .dataframe tbody tr th {\n",
       "        vertical-align: top;\n",
       "    }\n",
       "\n",
       "    .dataframe thead th {\n",
       "        text-align: right;\n",
       "    }\n",
       "</style>\n",
       "<table border=\"1\" class=\"dataframe\">\n",
       "  <thead>\n",
       "    <tr style=\"text-align: right;\">\n",
       "      <th></th>\n",
       "      <th>period</th>\n",
       "      <th>value</th>\n",
       "      <th>dataset_name</th>\n",
       "      <th>FREQ</th>\n",
       "      <th>REF_AREA</th>\n",
       "      <th>series_name</th>\n",
       "      <th>series_code</th>\n",
       "    </tr>\n",
       "  </thead>\n",
       "  <tbody>\n",
       "    <tr>\n",
       "      <th>0</th>\n",
       "      <td>2007-10-01</td>\n",
       "      <td>84.5579</td>\n",
       "      <td>Selected residential property prices</td>\n",
       "      <td>Q</td>\n",
       "      <td>4T</td>\n",
       "      <td>Quarterly – Emerging market economies (aggrega...</td>\n",
       "      <td>Q.4T.N.628</td>\n",
       "    </tr>\n",
       "    <tr>\n",
       "      <th>1</th>\n",
       "      <td>2008-01-01</td>\n",
       "      <td>86.4092</td>\n",
       "      <td>Selected residential property prices</td>\n",
       "      <td>Q</td>\n",
       "      <td>4T</td>\n",
       "      <td>Quarterly – Emerging market economies (aggrega...</td>\n",
       "      <td>Q.4T.N.628</td>\n",
       "    </tr>\n",
       "    <tr>\n",
       "      <th>2</th>\n",
       "      <td>2008-04-01</td>\n",
       "      <td>88.4976</td>\n",
       "      <td>Selected residential property prices</td>\n",
       "      <td>Q</td>\n",
       "      <td>4T</td>\n",
       "      <td>Quarterly – Emerging market economies (aggrega...</td>\n",
       "      <td>Q.4T.N.628</td>\n",
       "    </tr>\n",
       "    <tr>\n",
       "      <th>3</th>\n",
       "      <td>2008-07-01</td>\n",
       "      <td>89.8691</td>\n",
       "      <td>Selected residential property prices</td>\n",
       "      <td>Q</td>\n",
       "      <td>4T</td>\n",
       "      <td>Quarterly – Emerging market economies (aggrega...</td>\n",
       "      <td>Q.4T.N.628</td>\n",
       "    </tr>\n",
       "    <tr>\n",
       "      <th>4</th>\n",
       "      <td>2008-10-01</td>\n",
       "      <td>89.5671</td>\n",
       "      <td>Selected residential property prices</td>\n",
       "      <td>Q</td>\n",
       "      <td>4T</td>\n",
       "      <td>Quarterly – Emerging market economies (aggrega...</td>\n",
       "      <td>Q.4T.N.628</td>\n",
       "    </tr>\n",
       "  </tbody>\n",
       "</table>\n",
       "</div>"
      ],
      "text/plain": [
       "      period    value                          dataset_name FREQ REF_AREA  \\\n",
       "0 2007-10-01  84.5579  Selected residential property prices    Q       4T   \n",
       "1 2008-01-01  86.4092  Selected residential property prices    Q       4T   \n",
       "2 2008-04-01  88.4976  Selected residential property prices    Q       4T   \n",
       "3 2008-07-01  89.8691  Selected residential property prices    Q       4T   \n",
       "4 2008-10-01  89.5671  Selected residential property prices    Q       4T   \n",
       "\n",
       "                                         series_name series_code  \n",
       "0  Quarterly – Emerging market economies (aggrega...  Q.4T.N.628  \n",
       "1  Quarterly – Emerging market economies (aggrega...  Q.4T.N.628  \n",
       "2  Quarterly – Emerging market economies (aggrega...  Q.4T.N.628  \n",
       "3  Quarterly – Emerging market economies (aggrega...  Q.4T.N.628  \n",
       "4  Quarterly – Emerging market economies (aggrega...  Q.4T.N.628  "
      ]
     },
     "execution_count": 4,
     "metadata": {},
     "output_type": "execute_result"
    }
   ],
   "source": [
    "python_df = pd.read_pickle(\"BIS_HPI.pkl\")\n",
    "python_df.head()"
   ]
  },
  {
   "cell_type": "markdown",
   "id": "891b9982",
   "metadata": {},
   "source": [
    "<font size=5, font color='blue'> Check whether the two dataframes have the same number of rows, which means equal number of data points / observations. Column numbers of the two dataframes may differ due to the difference between Stata and Python APIs, and so do the order, datatypes and names of columns and the order of rows, which is why we don't require a complete match between python_df and stata_df."
   ]
  },
  {
   "cell_type": "code",
   "execution_count": 5,
   "id": "922205b2",
   "metadata": {},
   "outputs": [
    {
     "data": {
      "text/plain": [
       "True"
      ]
     },
     "execution_count": 5,
     "metadata": {},
     "output_type": "execute_result"
    }
   ],
   "source": [
    "stata_df.shape[0]==python_df.shape[0]"
   ]
  },
  {
   "cell_type": "markdown",
   "id": "2c756d80",
   "metadata": {},
   "source": [
    "<font size=5, font color='blue'> ['period_start_day'] in stata_df is the most accurate timestamp assigned to each observation (row). In python_df its equivalent is ['period'], so we rename it to match the column name in stata_df. We match the datatype of the two columns by converting both of them to pandas datetime objects. We also convert the datatype of ['value'] in stata_df to numeric."
   ]
  },
  {
   "cell_type": "code",
   "execution_count": 6,
   "id": "869e25b8",
   "metadata": {},
   "outputs": [],
   "source": [
    "python_df.rename(columns={'period':'period_start_day'},inplace=True)\n",
    "stata_df['period_start_day'] = pd.to_datetime(stata_df['period_start_day'])\n",
    "python_df['period_start_day'] = pd.to_datetime(python_df['period_start_day'])\n",
    "stata_df['value'] = pd.to_numeric(stata_df['value'],'coerce')"
   ]
  },
  {
   "cell_type": "markdown",
   "id": "3c8ac514",
   "metadata": {},
   "source": [
    "<font size=5, font color='blue'> Check whether ['period_start_day', 'series_code'] can identify a unique row in both stata_df and python_df, if not then there is a duplication or error in Dbnomics."
   ]
  },
  {
   "cell_type": "code",
   "execution_count": 7,
   "id": "95929551",
   "metadata": {},
   "outputs": [
    {
     "data": {
      "text/plain": [
       "True"
      ]
     },
     "execution_count": 7,
     "metadata": {},
     "output_type": "execute_result"
    }
   ],
   "source": [
    "cols = ['period_start_day', 'series_code']\n",
    "sum(stata_df.duplicated(subset=cols))+sum(python_df.duplicated(subset=cols)) == 0"
   ]
  },
  {
   "cell_type": "markdown",
   "id": "2c3b0bad",
   "metadata": {},
   "source": [
    "<font size=5, font color='blue'> Then we sort the two dataframes by ['period_start_day', 'series_code']. This ensures observations in the two dataframes are in the same order. Finally we check whether the two sub-frames [['period_start_day','series_code','value']] sliced from stata_df and python_df are exactly the same."
   ]
  },
  {
   "cell_type": "code",
   "execution_count": 8,
   "id": "be99fb77",
   "metadata": {},
   "outputs": [
    {
     "data": {
      "text/plain": [
       "True"
      ]
     },
     "execution_count": 8,
     "metadata": {},
     "output_type": "execute_result"
    }
   ],
   "source": [
    "stata_sub = stata_df.sort_values(by=cols)[cols+['value']].reset_index(drop=True)\n",
    "python_sub = python_df.sort_values(by=cols)[cols+['value']].reset_index(drop=True)\n",
    "stata_sub.equals(python_sub)"
   ]
  }
 ],
 "metadata": {
  "kernelspec": {
   "display_name": "Python 3 (ipykernel)",
   "language": "python",
   "name": "python3"
  },
  "language_info": {
   "codemirror_mode": {
    "name": "ipython",
    "version": 3
   },
   "file_extension": ".py",
   "mimetype": "text/x-python",
   "name": "python",
   "nbconvert_exporter": "python",
   "pygments_lexer": "ipython3",
   "version": "3.11.7"
  },
  "toc": {
   "base_numbering": 1,
   "nav_menu": {},
   "number_sections": true,
   "sideBar": true,
   "skip_h1_title": false,
   "title_cell": "Table of Contents",
   "title_sidebar": "Contents",
   "toc_cell": false,
   "toc_position": {},
   "toc_section_display": true,
   "toc_window_display": false
  }
 },
 "nbformat": 4,
 "nbformat_minor": 5
}
