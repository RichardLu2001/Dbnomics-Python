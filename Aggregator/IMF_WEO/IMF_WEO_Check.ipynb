{
 "cells": [
  {
   "cell_type": "markdown",
   "id": "6c8ace8a",
   "metadata": {},
   "source": [
    "<font size=5, font color='blue'> stata_df is the dataframe downloaded through Stata API"
   ]
  },
  {
   "cell_type": "code",
   "execution_count": 59,
   "id": "47406cda",
   "metadata": {
    "scrolled": false
   },
   "outputs": [
    {
     "data": {
      "text/html": [
       "<div>\n",
       "<style scoped>\n",
       "    .dataframe tbody tr th:only-of-type {\n",
       "        vertical-align: middle;\n",
       "    }\n",
       "\n",
       "    .dataframe tbody tr th {\n",
       "        vertical-align: top;\n",
       "    }\n",
       "\n",
       "    .dataframe thead th {\n",
       "        text-align: right;\n",
       "    }\n",
       "</style>\n",
       "<table border=\"1\" class=\"dataframe\">\n",
       "  <thead>\n",
       "    <tr style=\"text-align: right;\">\n",
       "      <th></th>\n",
       "      <th>period</th>\n",
       "      <th>value</th>\n",
       "      <th>dataset_code</th>\n",
       "      <th>dataset_name</th>\n",
       "      <th>unit</th>\n",
       "      <th>weo_country</th>\n",
       "      <th>weo_subject</th>\n",
       "      <th>provider_code</th>\n",
       "      <th>series_code</th>\n",
       "      <th>series_name</th>\n",
       "    </tr>\n",
       "  </thead>\n",
       "  <tbody>\n",
       "    <tr>\n",
       "      <th>0</th>\n",
       "      <td>1980</td>\n",
       "      <td>NA</td>\n",
       "      <td>WEO:2025-04</td>\n",
       "      <td>World Economic Outlook by countries</td>\n",
       "      <td>pcent_gdp</td>\n",
       "      <td>ABW</td>\n",
       "      <td>BCA_NGDPD</td>\n",
       "      <td>IMF</td>\n",
       "      <td>ABW.BCA_NGDPD.pcent_gdp</td>\n",
       "      <td>Aruba – Current account balance (BCA_NGDPD) – ...</td>\n",
       "    </tr>\n",
       "    <tr>\n",
       "      <th>1</th>\n",
       "      <td>1981</td>\n",
       "      <td>NA</td>\n",
       "      <td>WEO:2025-04</td>\n",
       "      <td>World Economic Outlook by countries</td>\n",
       "      <td>pcent_gdp</td>\n",
       "      <td>ABW</td>\n",
       "      <td>BCA_NGDPD</td>\n",
       "      <td>IMF</td>\n",
       "      <td>ABW.BCA_NGDPD.pcent_gdp</td>\n",
       "      <td>Aruba – Current account balance (BCA_NGDPD) – ...</td>\n",
       "    </tr>\n",
       "    <tr>\n",
       "      <th>2</th>\n",
       "      <td>1982</td>\n",
       "      <td>NA</td>\n",
       "      <td>WEO:2025-04</td>\n",
       "      <td>World Economic Outlook by countries</td>\n",
       "      <td>pcent_gdp</td>\n",
       "      <td>ABW</td>\n",
       "      <td>BCA_NGDPD</td>\n",
       "      <td>IMF</td>\n",
       "      <td>ABW.BCA_NGDPD.pcent_gdp</td>\n",
       "      <td>Aruba – Current account balance (BCA_NGDPD) – ...</td>\n",
       "    </tr>\n",
       "    <tr>\n",
       "      <th>3</th>\n",
       "      <td>1983</td>\n",
       "      <td>NA</td>\n",
       "      <td>WEO:2025-04</td>\n",
       "      <td>World Economic Outlook by countries</td>\n",
       "      <td>pcent_gdp</td>\n",
       "      <td>ABW</td>\n",
       "      <td>BCA_NGDPD</td>\n",
       "      <td>IMF</td>\n",
       "      <td>ABW.BCA_NGDPD.pcent_gdp</td>\n",
       "      <td>Aruba – Current account balance (BCA_NGDPD) – ...</td>\n",
       "    </tr>\n",
       "    <tr>\n",
       "      <th>4</th>\n",
       "      <td>1984</td>\n",
       "      <td>NA</td>\n",
       "      <td>WEO:2025-04</td>\n",
       "      <td>World Economic Outlook by countries</td>\n",
       "      <td>pcent_gdp</td>\n",
       "      <td>ABW</td>\n",
       "      <td>BCA_NGDPD</td>\n",
       "      <td>IMF</td>\n",
       "      <td>ABW.BCA_NGDPD.pcent_gdp</td>\n",
       "      <td>Aruba – Current account balance (BCA_NGDPD) – ...</td>\n",
       "    </tr>\n",
       "  </tbody>\n",
       "</table>\n",
       "</div>"
      ],
      "text/plain": [
       "   period value dataset_code                         dataset_name       unit  \\\n",
       "0    1980    NA  WEO:2025-04  World Economic Outlook by countries  pcent_gdp   \n",
       "1    1981    NA  WEO:2025-04  World Economic Outlook by countries  pcent_gdp   \n",
       "2    1982    NA  WEO:2025-04  World Economic Outlook by countries  pcent_gdp   \n",
       "3    1983    NA  WEO:2025-04  World Economic Outlook by countries  pcent_gdp   \n",
       "4    1984    NA  WEO:2025-04  World Economic Outlook by countries  pcent_gdp   \n",
       "\n",
       "  weo_country weo_subject provider_code              series_code  \\\n",
       "0         ABW   BCA_NGDPD           IMF  ABW.BCA_NGDPD.pcent_gdp   \n",
       "1         ABW   BCA_NGDPD           IMF  ABW.BCA_NGDPD.pcent_gdp   \n",
       "2         ABW   BCA_NGDPD           IMF  ABW.BCA_NGDPD.pcent_gdp   \n",
       "3         ABW   BCA_NGDPD           IMF  ABW.BCA_NGDPD.pcent_gdp   \n",
       "4         ABW   BCA_NGDPD           IMF  ABW.BCA_NGDPD.pcent_gdp   \n",
       "\n",
       "                                         series_name  \n",
       "0  Aruba – Current account balance (BCA_NGDPD) – ...  \n",
       "1  Aruba – Current account balance (BCA_NGDPD) – ...  \n",
       "2  Aruba – Current account balance (BCA_NGDPD) – ...  \n",
       "3  Aruba – Current account balance (BCA_NGDPD) – ...  \n",
       "4  Aruba – Current account balance (BCA_NGDPD) – ...  "
      ]
     },
     "execution_count": 59,
     "metadata": {},
     "output_type": "execute_result"
    }
   ],
   "source": [
    "import pandas as pd\n",
    "pd.options.mode.chained_assignment = None\n",
    "\n",
    "stata_df = pd.read_stata(\"IMF_WEO.dta\")\n",
    "stata_df.head()"
   ]
  },
  {
   "cell_type": "markdown",
   "id": "12314c37",
   "metadata": {},
   "source": [
    "<font size=5, font color='blue'> python_df is the dataframe downloaded through Python API. "
   ]
  },
  {
   "cell_type": "code",
   "execution_count": 60,
   "id": "20b37bca",
   "metadata": {},
   "outputs": [
    {
     "data": {
      "text/html": [
       "<div>\n",
       "<style scoped>\n",
       "    .dataframe tbody tr th:only-of-type {\n",
       "        vertical-align: middle;\n",
       "    }\n",
       "\n",
       "    .dataframe tbody tr th {\n",
       "        vertical-align: top;\n",
       "    }\n",
       "\n",
       "    .dataframe thead th {\n",
       "        text-align: right;\n",
       "    }\n",
       "</style>\n",
       "<table border=\"1\" class=\"dataframe\">\n",
       "  <thead>\n",
       "    <tr style=\"text-align: right;\">\n",
       "      <th></th>\n",
       "      <th>period</th>\n",
       "      <th>value</th>\n",
       "      <th>dataset_code</th>\n",
       "      <th>dataset_name</th>\n",
       "      <th>unit</th>\n",
       "      <th>weo_subject</th>\n",
       "      <th>provider_code</th>\n",
       "      <th>series_code</th>\n",
       "      <th>series_name</th>\n",
       "    </tr>\n",
       "  </thead>\n",
       "  <tbody>\n",
       "    <tr>\n",
       "      <th>0</th>\n",
       "      <td>1980-01-01</td>\n",
       "      <td>NaN</td>\n",
       "      <td>WEO:2025-04</td>\n",
       "      <td>World Economic Outlook by countries</td>\n",
       "      <td>national_currency</td>\n",
       "      <td>NGDP</td>\n",
       "      <td>IMF</td>\n",
       "      <td>ABW.NGDP.national_currency</td>\n",
       "      <td>Aruba – Gross domestic product, current prices...</td>\n",
       "    </tr>\n",
       "    <tr>\n",
       "      <th>1</th>\n",
       "      <td>1981-01-01</td>\n",
       "      <td>NaN</td>\n",
       "      <td>WEO:2025-04</td>\n",
       "      <td>World Economic Outlook by countries</td>\n",
       "      <td>national_currency</td>\n",
       "      <td>NGDP</td>\n",
       "      <td>IMF</td>\n",
       "      <td>ABW.NGDP.national_currency</td>\n",
       "      <td>Aruba – Gross domestic product, current prices...</td>\n",
       "    </tr>\n",
       "    <tr>\n",
       "      <th>2</th>\n",
       "      <td>1982-01-01</td>\n",
       "      <td>NaN</td>\n",
       "      <td>WEO:2025-04</td>\n",
       "      <td>World Economic Outlook by countries</td>\n",
       "      <td>national_currency</td>\n",
       "      <td>NGDP</td>\n",
       "      <td>IMF</td>\n",
       "      <td>ABW.NGDP.national_currency</td>\n",
       "      <td>Aruba – Gross domestic product, current prices...</td>\n",
       "    </tr>\n",
       "    <tr>\n",
       "      <th>3</th>\n",
       "      <td>1983-01-01</td>\n",
       "      <td>NaN</td>\n",
       "      <td>WEO:2025-04</td>\n",
       "      <td>World Economic Outlook by countries</td>\n",
       "      <td>national_currency</td>\n",
       "      <td>NGDP</td>\n",
       "      <td>IMF</td>\n",
       "      <td>ABW.NGDP.national_currency</td>\n",
       "      <td>Aruba – Gross domestic product, current prices...</td>\n",
       "    </tr>\n",
       "    <tr>\n",
       "      <th>4</th>\n",
       "      <td>1984-01-01</td>\n",
       "      <td>NaN</td>\n",
       "      <td>WEO:2025-04</td>\n",
       "      <td>World Economic Outlook by countries</td>\n",
       "      <td>national_currency</td>\n",
       "      <td>NGDP</td>\n",
       "      <td>IMF</td>\n",
       "      <td>ABW.NGDP.national_currency</td>\n",
       "      <td>Aruba – Gross domestic product, current prices...</td>\n",
       "    </tr>\n",
       "  </tbody>\n",
       "</table>\n",
       "</div>"
      ],
      "text/plain": [
       "      period  value dataset_code                         dataset_name  \\\n",
       "0 1980-01-01    NaN  WEO:2025-04  World Economic Outlook by countries   \n",
       "1 1981-01-01    NaN  WEO:2025-04  World Economic Outlook by countries   \n",
       "2 1982-01-01    NaN  WEO:2025-04  World Economic Outlook by countries   \n",
       "3 1983-01-01    NaN  WEO:2025-04  World Economic Outlook by countries   \n",
       "4 1984-01-01    NaN  WEO:2025-04  World Economic Outlook by countries   \n",
       "\n",
       "                unit weo_subject provider_code                 series_code  \\\n",
       "0  national_currency        NGDP           IMF  ABW.NGDP.national_currency   \n",
       "1  national_currency        NGDP           IMF  ABW.NGDP.national_currency   \n",
       "2  national_currency        NGDP           IMF  ABW.NGDP.national_currency   \n",
       "3  national_currency        NGDP           IMF  ABW.NGDP.national_currency   \n",
       "4  national_currency        NGDP           IMF  ABW.NGDP.national_currency   \n",
       "\n",
       "                                         series_name  \n",
       "0  Aruba – Gross domestic product, current prices...  \n",
       "1  Aruba – Gross domestic product, current prices...  \n",
       "2  Aruba – Gross domestic product, current prices...  \n",
       "3  Aruba – Gross domestic product, current prices...  \n",
       "4  Aruba – Gross domestic product, current prices...  "
      ]
     },
     "execution_count": 60,
     "metadata": {},
     "output_type": "execute_result"
    }
   ],
   "source": [
    "python_df = pd.read_pickle(\"IMF_WEO.pkl\")\n",
    "python_df.head()"
   ]
  },
  {
   "cell_type": "markdown",
   "id": "891b9982",
   "metadata": {},
   "source": [
    "<font size=5, font color='blue'> Check whether the two dataframes have the same number of rows, which means equal number of data points / observations. Column numbers of the two dataframes may differ due to the difference between Stata and Python APIs, and so do the order, datatypes and names of columns and the order of rows, which is why we don't require a complete match between python_df and stata_df."
   ]
  },
  {
   "cell_type": "code",
   "execution_count": 61,
   "id": "922205b2",
   "metadata": {},
   "outputs": [
    {
     "data": {
      "text/plain": [
       "True"
      ]
     },
     "execution_count": 61,
     "metadata": {},
     "output_type": "execute_result"
    }
   ],
   "source": [
    "stata_df.shape[0]==python_df.shape[0]"
   ]
  },
  {
   "cell_type": "code",
   "execution_count": 62,
   "id": "869e25b8",
   "metadata": {},
   "outputs": [],
   "source": [
    "stata_df['value'] = pd.to_numeric(stata_df['value'],'coerce').astype('float64')\n",
    "python_df['value'] = python_df['value'].astype('float64')\n",
    "python_df['period'] = python_df['period'].dt.year.astype('int16')"
   ]
  },
  {
   "cell_type": "markdown",
   "id": "3c8ac514",
   "metadata": {},
   "source": [
    "<font size=5, font color='blue'> Check whether ['period', 'series_code'] can identify a unique row in both stata_df and python_df, if not then there is a duplication or error in Dbnomics."
   ]
  },
  {
   "cell_type": "code",
   "execution_count": 63,
   "id": "95929551",
   "metadata": {},
   "outputs": [
    {
     "data": {
      "text/plain": [
       "True"
      ]
     },
     "execution_count": 63,
     "metadata": {},
     "output_type": "execute_result"
    }
   ],
   "source": [
    "cols = ['period', 'series_code']\n",
    "sum(stata_df.duplicated(subset=cols))+sum(python_df.duplicated(subset=cols)) == 0"
   ]
  },
  {
   "cell_type": "markdown",
   "id": "2c3b0bad",
   "metadata": {},
   "source": [
    "<font size=5, font color='blue'> Then we sort the two dataframes by ['period', 'series_code']. This ensures observations in the two dataframes are in the same order. Finally we check whether the two sub-frames [['period','series_code','value']] sliced from stata_df and python_df are exactly the same."
   ]
  },
  {
   "cell_type": "code",
   "execution_count": 64,
   "id": "be99fb77",
   "metadata": {},
   "outputs": [
    {
     "data": {
      "text/plain": [
       "True"
      ]
     },
     "execution_count": 64,
     "metadata": {},
     "output_type": "execute_result"
    }
   ],
   "source": [
    "stata_sub = stata_df.sort_values(by=cols)[cols+['value']].reset_index(drop=True)\n",
    "python_sub = python_df.sort_values(by=cols)[cols+['value']].reset_index(drop=True)\n",
    "stata_sub.equals(python_sub)"
   ]
  }
 ],
 "metadata": {
  "kernelspec": {
   "display_name": "Python 3 (ipykernel)",
   "language": "python",
   "name": "python3"
  },
  "language_info": {
   "codemirror_mode": {
    "name": "ipython",
    "version": 3
   },
   "file_extension": ".py",
   "mimetype": "text/x-python",
   "name": "python",
   "nbconvert_exporter": "python",
   "pygments_lexer": "ipython3",
   "version": "3.11.7"
  },
  "toc": {
   "base_numbering": 1,
   "nav_menu": {},
   "number_sections": true,
   "sideBar": true,
   "skip_h1_title": false,
   "title_cell": "Table of Contents",
   "title_sidebar": "Contents",
   "toc_cell": false,
   "toc_position": {},
   "toc_section_display": true,
   "toc_window_display": false
  }
 },
 "nbformat": 4,
 "nbformat_minor": 5
}
